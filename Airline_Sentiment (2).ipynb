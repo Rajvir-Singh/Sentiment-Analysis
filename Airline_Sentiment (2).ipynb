{
  "nbformat": 4,
  "nbformat_minor": 0,
  "metadata": {
    "colab": {
      "name": "Airline Sentiment.ipynb",
      "provenance": []
    },
    "kernelspec": {
      "name": "python3",
      "display_name": "Python 3"
    },
    "language_info": {
      "name": "python"
    }
  },
  "cells": [
    {
      "cell_type": "markdown",
      "metadata": {
        "id": "zW1vconXMeVs"
      },
      "source": [
        "#US Airline Sentiment Analysis from Twitter"
      ]
    },
    {
      "cell_type": "markdown",
      "metadata": {
        "id": "gvuBtqdNpCli"
      },
      "source": [
        "Twitter Dataset https://www.kaggle.com/crowdflower/twitter-airline-sentiment"
      ]
    },
    {
      "cell_type": "code",
      "metadata": {
        "id": "3stmbJpnM842"
      },
      "source": [
        "import pandas as pd\n",
        "import numpy as np\n",
        "import seaborn as sns\n",
        "import matplotlib.pyplot as plt"
      ],
      "execution_count": 41,
      "outputs": []
    },
    {
      "cell_type": "code",
      "metadata": {
        "id": "KfMAV6ZZNZ_B"
      },
      "source": [
        "df=pd.read_csv('/content/Tweets.csv',encoding='latin-1', delimiter=',')"
      ],
      "execution_count": 42,
      "outputs": []
    },
    {
      "cell_type": "code",
      "metadata": {
        "colab": {
          "base_uri": "https://localhost:8080/",
          "height": 434
        },
        "id": "vP5ZrNnINf3g",
        "outputId": "0a42a0be-6610-4da1-ad0d-b7556ffb5d89"
      },
      "source": [
        "df.head()"
      ],
      "execution_count": 43,
      "outputs": [
        {
          "output_type": "execute_result",
          "data": {
            "text/html": [
              "<div>\n",
              "<style scoped>\n",
              "    .dataframe tbody tr th:only-of-type {\n",
              "        vertical-align: middle;\n",
              "    }\n",
              "\n",
              "    .dataframe tbody tr th {\n",
              "        vertical-align: top;\n",
              "    }\n",
              "\n",
              "    .dataframe thead th {\n",
              "        text-align: right;\n",
              "    }\n",
              "</style>\n",
              "<table border=\"1\" class=\"dataframe\">\n",
              "  <thead>\n",
              "    <tr style=\"text-align: right;\">\n",
              "      <th></th>\n",
              "      <th>tweet_id</th>\n",
              "      <th>airline_sentiment</th>\n",
              "      <th>airline_sentiment_confidence</th>\n",
              "      <th>negativereason</th>\n",
              "      <th>negativereason_confidence</th>\n",
              "      <th>airline</th>\n",
              "      <th>airline_sentiment_gold</th>\n",
              "      <th>name</th>\n",
              "      <th>negativereason_gold</th>\n",
              "      <th>retweet_count</th>\n",
              "      <th>text</th>\n",
              "      <th>tweet_coord</th>\n",
              "      <th>tweet_created</th>\n",
              "      <th>tweet_location</th>\n",
              "      <th>user_timezone</th>\n",
              "    </tr>\n",
              "  </thead>\n",
              "  <tbody>\n",
              "    <tr>\n",
              "      <th>0</th>\n",
              "      <td>570306133677760513</td>\n",
              "      <td>neutral</td>\n",
              "      <td>1.0000</td>\n",
              "      <td>NaN</td>\n",
              "      <td>NaN</td>\n",
              "      <td>Virgin America</td>\n",
              "      <td>NaN</td>\n",
              "      <td>cairdin</td>\n",
              "      <td>NaN</td>\n",
              "      <td>0</td>\n",
              "      <td>@VirginAmerica What @dhepburn said.</td>\n",
              "      <td>NaN</td>\n",
              "      <td>2015-02-24 11:35:52 -0800</td>\n",
              "      <td>NaN</td>\n",
              "      <td>Eastern Time (US &amp; Canada)</td>\n",
              "    </tr>\n",
              "    <tr>\n",
              "      <th>1</th>\n",
              "      <td>570301130888122368</td>\n",
              "      <td>positive</td>\n",
              "      <td>0.3486</td>\n",
              "      <td>NaN</td>\n",
              "      <td>0.0000</td>\n",
              "      <td>Virgin America</td>\n",
              "      <td>NaN</td>\n",
              "      <td>jnardino</td>\n",
              "      <td>NaN</td>\n",
              "      <td>0</td>\n",
              "      <td>@VirginAmerica plus you've added commercials t...</td>\n",
              "      <td>NaN</td>\n",
              "      <td>2015-02-24 11:15:59 -0800</td>\n",
              "      <td>NaN</td>\n",
              "      <td>Pacific Time (US &amp; Canada)</td>\n",
              "    </tr>\n",
              "    <tr>\n",
              "      <th>2</th>\n",
              "      <td>570301083672813571</td>\n",
              "      <td>neutral</td>\n",
              "      <td>0.6837</td>\n",
              "      <td>NaN</td>\n",
              "      <td>NaN</td>\n",
              "      <td>Virgin America</td>\n",
              "      <td>NaN</td>\n",
              "      <td>yvonnalynn</td>\n",
              "      <td>NaN</td>\n",
              "      <td>0</td>\n",
              "      <td>@VirginAmerica I didn't today... Must mean I n...</td>\n",
              "      <td>NaN</td>\n",
              "      <td>2015-02-24 11:15:48 -0800</td>\n",
              "      <td>Lets Play</td>\n",
              "      <td>Central Time (US &amp; Canada)</td>\n",
              "    </tr>\n",
              "    <tr>\n",
              "      <th>3</th>\n",
              "      <td>570301031407624196</td>\n",
              "      <td>negative</td>\n",
              "      <td>1.0000</td>\n",
              "      <td>Bad Flight</td>\n",
              "      <td>0.7033</td>\n",
              "      <td>Virgin America</td>\n",
              "      <td>NaN</td>\n",
              "      <td>jnardino</td>\n",
              "      <td>NaN</td>\n",
              "      <td>0</td>\n",
              "      <td>@VirginAmerica it's really aggressive to blast...</td>\n",
              "      <td>NaN</td>\n",
              "      <td>2015-02-24 11:15:36 -0800</td>\n",
              "      <td>NaN</td>\n",
              "      <td>Pacific Time (US &amp; Canada)</td>\n",
              "    </tr>\n",
              "    <tr>\n",
              "      <th>4</th>\n",
              "      <td>570300817074462722</td>\n",
              "      <td>negative</td>\n",
              "      <td>1.0000</td>\n",
              "      <td>Can't Tell</td>\n",
              "      <td>1.0000</td>\n",
              "      <td>Virgin America</td>\n",
              "      <td>NaN</td>\n",
              "      <td>jnardino</td>\n",
              "      <td>NaN</td>\n",
              "      <td>0</td>\n",
              "      <td>@VirginAmerica and it's a really big bad thing...</td>\n",
              "      <td>NaN</td>\n",
              "      <td>2015-02-24 11:14:45 -0800</td>\n",
              "      <td>NaN</td>\n",
              "      <td>Pacific Time (US &amp; Canada)</td>\n",
              "    </tr>\n",
              "  </tbody>\n",
              "</table>\n",
              "</div>"
            ],
            "text/plain": [
              "             tweet_id  ...               user_timezone\n",
              "0  570306133677760513  ...  Eastern Time (US & Canada)\n",
              "1  570301130888122368  ...  Pacific Time (US & Canada)\n",
              "2  570301083672813571  ...  Central Time (US & Canada)\n",
              "3  570301031407624196  ...  Pacific Time (US & Canada)\n",
              "4  570300817074462722  ...  Pacific Time (US & Canada)\n",
              "\n",
              "[5 rows x 15 columns]"
            ]
          },
          "metadata": {
            "tags": []
          },
          "execution_count": 43
        }
      ]
    },
    {
      "cell_type": "code",
      "metadata": {
        "colab": {
          "base_uri": "https://localhost:8080/"
        },
        "id": "CiBNYUT7ReSe",
        "outputId": "845c274a-7f5b-40ee-c319-9c526b5d46c3"
      },
      "source": [
        "df.info()"
      ],
      "execution_count": 44,
      "outputs": [
        {
          "output_type": "stream",
          "text": [
            "<class 'pandas.core.frame.DataFrame'>\n",
            "RangeIndex: 14640 entries, 0 to 14639\n",
            "Data columns (total 15 columns):\n",
            " #   Column                        Non-Null Count  Dtype  \n",
            "---  ------                        --------------  -----  \n",
            " 0   tweet_id                      14640 non-null  int64  \n",
            " 1   airline_sentiment             14640 non-null  object \n",
            " 2   airline_sentiment_confidence  14640 non-null  float64\n",
            " 3   negativereason                9178 non-null   object \n",
            " 4   negativereason_confidence     10522 non-null  float64\n",
            " 5   airline                       14640 non-null  object \n",
            " 6   airline_sentiment_gold        40 non-null     object \n",
            " 7   name                          14640 non-null  object \n",
            " 8   negativereason_gold           32 non-null     object \n",
            " 9   retweet_count                 14640 non-null  int64  \n",
            " 10  text                          14640 non-null  object \n",
            " 11  tweet_coord                   1019 non-null   object \n",
            " 12  tweet_created                 14640 non-null  object \n",
            " 13  tweet_location                9907 non-null   object \n",
            " 14  user_timezone                 9820 non-null   object \n",
            "dtypes: float64(2), int64(2), object(11)\n",
            "memory usage: 1.7+ MB\n"
          ],
          "name": "stdout"
        }
      ]
    },
    {
      "cell_type": "code",
      "metadata": {
        "colab": {
          "base_uri": "https://localhost:8080/"
        },
        "id": "iBb5BJXfNl5o",
        "outputId": "b7e75ef5-938a-4800-e6e9-7f78d54f8ef2"
      },
      "source": [
        "df.isnull().any()"
      ],
      "execution_count": 45,
      "outputs": [
        {
          "output_type": "execute_result",
          "data": {
            "text/plain": [
              "tweet_id                        False\n",
              "airline_sentiment               False\n",
              "airline_sentiment_confidence    False\n",
              "negativereason                   True\n",
              "negativereason_confidence        True\n",
              "airline                         False\n",
              "airline_sentiment_gold           True\n",
              "name                            False\n",
              "negativereason_gold              True\n",
              "retweet_count                   False\n",
              "text                            False\n",
              "tweet_coord                      True\n",
              "tweet_created                   False\n",
              "tweet_location                   True\n",
              "user_timezone                    True\n",
              "dtype: bool"
            ]
          },
          "metadata": {
            "tags": []
          },
          "execution_count": 45
        }
      ]
    },
    {
      "cell_type": "code",
      "metadata": {
        "colab": {
          "base_uri": "https://localhost:8080/"
        },
        "id": "vpnGFuHcBLpZ",
        "outputId": "2cee10d1-3c51-4d6c-88b8-8c6ae6fdaf6f"
      },
      "source": [
        "print(len(df[df['airline_sentiment_confidence'] <=0.8]))"
      ],
      "execution_count": 46,
      "outputs": [
        {
          "output_type": "stream",
          "text": [
            "4181\n"
          ],
          "name": "stdout"
        }
      ]
    },
    {
      "cell_type": "code",
      "metadata": {
        "colab": {
          "base_uri": "https://localhost:8080/"
        },
        "id": "1nygk_kDCscM",
        "outputId": "c019726e-4c7d-4702-bf5f-8a51f7cb6e86"
      },
      "source": [
        "df = df[df['airline_sentiment_confidence'] >=0.8]\n",
        "df = df.reset_index()\n",
        "\n",
        "df.shape"
      ],
      "execution_count": 47,
      "outputs": [
        {
          "output_type": "execute_result",
          "data": {
            "text/plain": [
              "(10459, 16)"
            ]
          },
          "metadata": {
            "tags": []
          },
          "execution_count": 47
        }
      ]
    },
    {
      "cell_type": "code",
      "metadata": {
        "id": "bAXJwi53Pq2S"
      },
      "source": [
        "df=df.drop(['tweet_id','airline_sentiment_confidence','negativereason','negativereason_confidence','airline','airline_sentiment_gold',\n",
        "                'name','negativereason_gold','retweet_count','tweet_coord','tweet_created','tweet_location','user_timezone'],axis=1)"
      ],
      "execution_count": 48,
      "outputs": []
    },
    {
      "cell_type": "code",
      "metadata": {
        "colab": {
          "base_uri": "https://localhost:8080/"
        },
        "id": "b9TYOVqAPUXW",
        "outputId": "c086bb64-1fb0-4c7b-df7d-2b4e4cdf53a9"
      },
      "source": [
        "df.info()"
      ],
      "execution_count": 49,
      "outputs": [
        {
          "output_type": "stream",
          "text": [
            "<class 'pandas.core.frame.DataFrame'>\n",
            "RangeIndex: 10459 entries, 0 to 10458\n",
            "Data columns (total 3 columns):\n",
            " #   Column             Non-Null Count  Dtype \n",
            "---  ------             --------------  ----- \n",
            " 0   index              10459 non-null  int64 \n",
            " 1   airline_sentiment  10459 non-null  object\n",
            " 2   text               10459 non-null  object\n",
            "dtypes: int64(1), object(2)\n",
            "memory usage: 245.3+ KB\n"
          ],
          "name": "stdout"
        }
      ]
    },
    {
      "cell_type": "code",
      "metadata": {
        "colab": {
          "base_uri": "https://localhost:8080/",
          "height": 195
        },
        "id": "hW4_yWjkRllf",
        "outputId": "9a0ef152-d853-414c-d6c3-43cf2a0b0fac"
      },
      "source": [
        "df.head()\n"
      ],
      "execution_count": 50,
      "outputs": [
        {
          "output_type": "execute_result",
          "data": {
            "text/html": [
              "<div>\n",
              "<style scoped>\n",
              "    .dataframe tbody tr th:only-of-type {\n",
              "        vertical-align: middle;\n",
              "    }\n",
              "\n",
              "    .dataframe tbody tr th {\n",
              "        vertical-align: top;\n",
              "    }\n",
              "\n",
              "    .dataframe thead th {\n",
              "        text-align: right;\n",
              "    }\n",
              "</style>\n",
              "<table border=\"1\" class=\"dataframe\">\n",
              "  <thead>\n",
              "    <tr style=\"text-align: right;\">\n",
              "      <th></th>\n",
              "      <th>index</th>\n",
              "      <th>airline_sentiment</th>\n",
              "      <th>text</th>\n",
              "    </tr>\n",
              "  </thead>\n",
              "  <tbody>\n",
              "    <tr>\n",
              "      <th>0</th>\n",
              "      <td>0</td>\n",
              "      <td>neutral</td>\n",
              "      <td>@VirginAmerica What @dhepburn said.</td>\n",
              "    </tr>\n",
              "    <tr>\n",
              "      <th>1</th>\n",
              "      <td>3</td>\n",
              "      <td>negative</td>\n",
              "      <td>@VirginAmerica it's really aggressive to blast...</td>\n",
              "    </tr>\n",
              "    <tr>\n",
              "      <th>2</th>\n",
              "      <td>4</td>\n",
              "      <td>negative</td>\n",
              "      <td>@VirginAmerica and it's a really big bad thing...</td>\n",
              "    </tr>\n",
              "    <tr>\n",
              "      <th>3</th>\n",
              "      <td>5</td>\n",
              "      <td>negative</td>\n",
              "      <td>@VirginAmerica seriously would pay $30 a fligh...</td>\n",
              "    </tr>\n",
              "    <tr>\n",
              "      <th>4</th>\n",
              "      <td>9</td>\n",
              "      <td>positive</td>\n",
              "      <td>@VirginAmerica it was amazing, and arrived an ...</td>\n",
              "    </tr>\n",
              "  </tbody>\n",
              "</table>\n",
              "</div>"
            ],
            "text/plain": [
              "   index airline_sentiment                                               text\n",
              "0      0           neutral                @VirginAmerica What @dhepburn said.\n",
              "1      3          negative  @VirginAmerica it's really aggressive to blast...\n",
              "2      4          negative  @VirginAmerica and it's a really big bad thing...\n",
              "3      5          negative  @VirginAmerica seriously would pay $30 a fligh...\n",
              "4      9          positive  @VirginAmerica it was amazing, and arrived an ..."
            ]
          },
          "metadata": {
            "tags": []
          },
          "execution_count": 50
        }
      ]
    },
    {
      "cell_type": "code",
      "metadata": {
        "colab": {
          "base_uri": "https://localhost:8080/"
        },
        "id": "9nSwoPKoRokq",
        "outputId": "d4641704-9e9a-4933-d81a-9f5b07ce165c"
      },
      "source": [
        "df['airline_sentiment'].unique()"
      ],
      "execution_count": 51,
      "outputs": [
        {
          "output_type": "execute_result",
          "data": {
            "text/plain": [
              "array(['neutral', 'negative', 'positive'], dtype=object)"
            ]
          },
          "metadata": {
            "tags": []
          },
          "execution_count": 51
        }
      ]
    },
    {
      "cell_type": "code",
      "metadata": {
        "colab": {
          "base_uri": "https://localhost:8080/",
          "height": 343
        },
        "id": "bmw3T0ECEv4S",
        "outputId": "89c6b913-fc18-4b86-a6b4-25f49c5fbc7d"
      },
      "source": [
        "df['sentiment']=df['airline_sentiment'].map({'neutral':1,'negative':0,'positive':2})\n",
        "df.head(10)"
      ],
      "execution_count": 52,
      "outputs": [
        {
          "output_type": "execute_result",
          "data": {
            "text/html": [
              "<div>\n",
              "<style scoped>\n",
              "    .dataframe tbody tr th:only-of-type {\n",
              "        vertical-align: middle;\n",
              "    }\n",
              "\n",
              "    .dataframe tbody tr th {\n",
              "        vertical-align: top;\n",
              "    }\n",
              "\n",
              "    .dataframe thead th {\n",
              "        text-align: right;\n",
              "    }\n",
              "</style>\n",
              "<table border=\"1\" class=\"dataframe\">\n",
              "  <thead>\n",
              "    <tr style=\"text-align: right;\">\n",
              "      <th></th>\n",
              "      <th>index</th>\n",
              "      <th>airline_sentiment</th>\n",
              "      <th>text</th>\n",
              "      <th>sentiment</th>\n",
              "    </tr>\n",
              "  </thead>\n",
              "  <tbody>\n",
              "    <tr>\n",
              "      <th>0</th>\n",
              "      <td>0</td>\n",
              "      <td>neutral</td>\n",
              "      <td>@VirginAmerica What @dhepburn said.</td>\n",
              "      <td>1</td>\n",
              "    </tr>\n",
              "    <tr>\n",
              "      <th>1</th>\n",
              "      <td>3</td>\n",
              "      <td>negative</td>\n",
              "      <td>@VirginAmerica it's really aggressive to blast...</td>\n",
              "      <td>0</td>\n",
              "    </tr>\n",
              "    <tr>\n",
              "      <th>2</th>\n",
              "      <td>4</td>\n",
              "      <td>negative</td>\n",
              "      <td>@VirginAmerica and it's a really big bad thing...</td>\n",
              "      <td>0</td>\n",
              "    </tr>\n",
              "    <tr>\n",
              "      <th>3</th>\n",
              "      <td>5</td>\n",
              "      <td>negative</td>\n",
              "      <td>@VirginAmerica seriously would pay $30 a fligh...</td>\n",
              "      <td>0</td>\n",
              "    </tr>\n",
              "    <tr>\n",
              "      <th>4</th>\n",
              "      <td>9</td>\n",
              "      <td>positive</td>\n",
              "      <td>@VirginAmerica it was amazing, and arrived an ...</td>\n",
              "      <td>2</td>\n",
              "    </tr>\n",
              "    <tr>\n",
              "      <th>5</th>\n",
              "      <td>11</td>\n",
              "      <td>positive</td>\n",
              "      <td>@VirginAmerica I &amp;lt;3 pretty graphics. so muc...</td>\n",
              "      <td>2</td>\n",
              "    </tr>\n",
              "    <tr>\n",
              "      <th>6</th>\n",
              "      <td>12</td>\n",
              "      <td>positive</td>\n",
              "      <td>@VirginAmerica This is such a great deal! Alre...</td>\n",
              "      <td>2</td>\n",
              "    </tr>\n",
              "    <tr>\n",
              "      <th>7</th>\n",
              "      <td>14</td>\n",
              "      <td>positive</td>\n",
              "      <td>@VirginAmerica Thanks!</td>\n",
              "      <td>2</td>\n",
              "    </tr>\n",
              "    <tr>\n",
              "      <th>8</th>\n",
              "      <td>16</td>\n",
              "      <td>positive</td>\n",
              "      <td>@VirginAmerica So excited for my first cross c...</td>\n",
              "      <td>2</td>\n",
              "    </tr>\n",
              "    <tr>\n",
              "      <th>9</th>\n",
              "      <td>17</td>\n",
              "      <td>negative</td>\n",
              "      <td>@VirginAmerica  I flew from NYC to SFO last we...</td>\n",
              "      <td>0</td>\n",
              "    </tr>\n",
              "  </tbody>\n",
              "</table>\n",
              "</div>"
            ],
            "text/plain": [
              "   index  ... sentiment\n",
              "0      0  ...         1\n",
              "1      3  ...         0\n",
              "2      4  ...         0\n",
              "3      5  ...         0\n",
              "4      9  ...         2\n",
              "5     11  ...         2\n",
              "6     12  ...         2\n",
              "7     14  ...         2\n",
              "8     16  ...         2\n",
              "9     17  ...         0\n",
              "\n",
              "[10 rows x 4 columns]"
            ]
          },
          "metadata": {
            "tags": []
          },
          "execution_count": 52
        }
      ]
    },
    {
      "cell_type": "code",
      "metadata": {
        "colab": {
          "base_uri": "https://localhost:8080/",
          "height": 297
        },
        "id": "XX1t9ZCfR8Z9",
        "outputId": "666b1fb6-7a7d-45a6-943a-391bc0273175"
      },
      "source": [
        "df['airline_sentiment'].value_counts()\n",
        "sns.countplot(x='airline_sentiment',data=df)"
      ],
      "execution_count": 53,
      "outputs": [
        {
          "output_type": "execute_result",
          "data": {
            "text/plain": [
              "<matplotlib.axes._subplots.AxesSubplot at 0x7fc8faa65790>"
            ]
          },
          "metadata": {
            "tags": []
          },
          "execution_count": 53
        },
        {
          "output_type": "display_data",
          "data": {
            "image/png": "[encoded data removed]",
            "text/plain": [
              "<Figure size 432x288 with 1 Axes>"
            ]
          },
          "metadata": {
            "tags": [],
            "needs_background": "light"
          }
        }
      ]
    },
    {
      "cell_type": "code",
      "metadata": {
        "colab": {
          "base_uri": "https://localhost:8080/"
        },
        "id": "ytj-SCWugcN5",
        "outputId": "4b1617e5-ace9-41af-faa6-e9256b57de2d"
      },
      "source": [
        "#Balancing number of targets\n",
        "pdf = df[df['airline_sentiment']=='positive']\n",
        "ndf = df[df['airline_sentiment']=='neutral']\n",
        "df =pd.concat([df,ndf,pdf,ndf,pdf,pdf])\n",
        "df = df.reset_index()\n",
        "df.shape"
      ],
      "execution_count": 54,
      "outputs": [
        {
          "output_type": "execute_result",
          "data": {
            "text/plain": [
              "(18110, 5)"
            ]
          },
          "metadata": {
            "tags": []
          },
          "execution_count": 54
        }
      ]
    },
    {
      "cell_type": "code",
      "metadata": {
        "colab": {
          "base_uri": "https://localhost:8080/",
          "height": 297
        },
        "id": "zPb_nhKYgkX8",
        "outputId": "6f8bb2b2-bcfd-4a0f-83c2-78fac853afd2"
      },
      "source": [
        "df['airline_sentiment'].value_counts()\n",
        "sns.countplot(x='airline_sentiment',data=df)"
      ],
      "execution_count": 55,
      "outputs": [
        {
          "output_type": "execute_result",
          "data": {
            "text/plain": [
              "<matplotlib.axes._subplots.AxesSubplot at 0x7fc8faa31b90>"
            ]
          },
          "metadata": {
            "tags": []
          },
          "execution_count": 55
        },
        {
          "output_type": "display_data",
          "data": {
            "image/png": "[encoded data removed]",
            "text/plain": [
              "<Figure size 432x288 with 1 Axes>"
            ]
          },
          "metadata": {
            "tags": [],
            "needs_background": "light"
          }
        }
      ]
    },
    {
      "cell_type": "markdown",
      "metadata": {
        "id": "U4uS3sEndbpr"
      },
      "source": [
        "###Data cleaning and preprocessing"
      ]
    },
    {
      "cell_type": "code",
      "metadata": {
        "colab": {
          "base_uri": "https://localhost:8080/"
        },
        "id": "vEqNbACuSP_2",
        "outputId": "31ba9277-4faa-4b5e-b584-50acc457701c"
      },
      "source": [
        "import re\n",
        "import nltk\n",
        "nltk.download('stopwords')\n",
        "nltk.download('wordnet')\n",
        "nltk.download('punkt')"
      ],
      "execution_count": 56,
      "outputs": [
        {
          "output_type": "stream",
          "text": [
            "[nltk_data] Downloading package stopwords to /root/nltk_data...\n",
            "[nltk_data]   Package stopwords is already up-to-date!\n",
            "[nltk_data] Downloading package wordnet to /root/nltk_data...\n",
            "[nltk_data]   Package wordnet is already up-to-date!\n",
            "[nltk_data] Downloading package punkt to /root/nltk_data...\n",
            "[nltk_data]   Package punkt is already up-to-date!\n"
          ],
          "name": "stdout"
        },
        {
          "output_type": "execute_result",
          "data": {
            "text/plain": [
              "True"
            ]
          },
          "metadata": {
            "tags": []
          },
          "execution_count": 56
        }
      ]
    },
    {
      "cell_type": "markdown",
      "metadata": {
        "id": "zUamQqXxdmzE"
      },
      "source": [
        "<p>Lemmatization & removing stopwords"
      ]
    },
    {
      "cell_type": "code",
      "metadata": {
        "id": "7m2f54SlS3bx"
      },
      "source": [
        "from nltk.corpus import stopwords\n",
        "from nltk.stem import WordNetLemmatizer\n",
        "wordnet=WordNetLemmatizer()\n",
        "text_lemm = []\n",
        "for i in range(0, len(df['text'])):\n",
        "    review = re.sub('[^a-zA-Z]', ' ', df['text'][i])\n",
        "    review = review.lower()\n",
        "    review = review.split()\n",
        "    review = [wordnet.lemmatize(word) for word in review if not word in set(stopwords.words('english'))]\n",
        "    review = ' '.join(review)\n",
        "    text_lemm.append(review)"
      ],
      "execution_count": 57,
      "outputs": []
    },
    {
      "cell_type": "code",
      "metadata": {
        "colab": {
          "base_uri": "https://localhost:8080/",
          "height": 195
        },
        "id": "MQFXmRMxZiy1",
        "outputId": "b45767e6-b9c9-47fb-add6-65d00eb7c859"
      },
      "source": [
        "df['text_lemm']=pd.Series(text_lemm)\n",
        "df.head()"
      ],
      "execution_count": 58,
      "outputs": [
        {
          "output_type": "execute_result",
          "data": {
            "text/html": [
              "<div>\n",
              "<style scoped>\n",
              "    .dataframe tbody tr th:only-of-type {\n",
              "        vertical-align: middle;\n",
              "    }\n",
              "\n",
              "    .dataframe tbody tr th {\n",
              "        vertical-align: top;\n",
              "    }\n",
              "\n",
              "    .dataframe thead th {\n",
              "        text-align: right;\n",
              "    }\n",
              "</style>\n",
              "<table border=\"1\" class=\"dataframe\">\n",
              "  <thead>\n",
              "    <tr style=\"text-align: right;\">\n",
              "      <th></th>\n",
              "      <th>level_0</th>\n",
              "      <th>index</th>\n",
              "      <th>airline_sentiment</th>\n",
              "      <th>text</th>\n",
              "      <th>sentiment</th>\n",
              "      <th>text_lemm</th>\n",
              "    </tr>\n",
              "  </thead>\n",
              "  <tbody>\n",
              "    <tr>\n",
              "      <th>0</th>\n",
              "      <td>0</td>\n",
              "      <td>0</td>\n",
              "      <td>neutral</td>\n",
              "      <td>@VirginAmerica What @dhepburn said.</td>\n",
              "      <td>1</td>\n",
              "      <td>virginamerica dhepburn said</td>\n",
              "    </tr>\n",
              "    <tr>\n",
              "      <th>1</th>\n",
              "      <td>1</td>\n",
              "      <td>3</td>\n",
              "      <td>negative</td>\n",
              "      <td>@VirginAmerica it's really aggressive to blast...</td>\n",
              "      <td>0</td>\n",
              "      <td>virginamerica really aggressive blast obnoxiou...</td>\n",
              "    </tr>\n",
              "    <tr>\n",
              "      <th>2</th>\n",
              "      <td>2</td>\n",
              "      <td>4</td>\n",
              "      <td>negative</td>\n",
              "      <td>@VirginAmerica and it's a really big bad thing...</td>\n",
              "      <td>0</td>\n",
              "      <td>virginamerica really big bad thing</td>\n",
              "    </tr>\n",
              "    <tr>\n",
              "      <th>3</th>\n",
              "      <td>3</td>\n",
              "      <td>5</td>\n",
              "      <td>negative</td>\n",
              "      <td>@VirginAmerica seriously would pay $30 a fligh...</td>\n",
              "      <td>0</td>\n",
              "      <td>virginamerica seriously would pay flight seat ...</td>\n",
              "    </tr>\n",
              "    <tr>\n",
              "      <th>4</th>\n",
              "      <td>4</td>\n",
              "      <td>9</td>\n",
              "      <td>positive</td>\n",
              "      <td>@VirginAmerica it was amazing, and arrived an ...</td>\n",
              "      <td>2</td>\n",
              "      <td>virginamerica amazing arrived hour early good</td>\n",
              "    </tr>\n",
              "  </tbody>\n",
              "</table>\n",
              "</div>"
            ],
            "text/plain": [
              "   level_0  index  ... sentiment                                          text_lemm\n",
              "0        0      0  ...         1                        virginamerica dhepburn said\n",
              "1        1      3  ...         0  virginamerica really aggressive blast obnoxiou...\n",
              "2        2      4  ...         0                 virginamerica really big bad thing\n",
              "3        3      5  ...         0  virginamerica seriously would pay flight seat ...\n",
              "4        4      9  ...         2      virginamerica amazing arrived hour early good\n",
              "\n",
              "[5 rows x 6 columns]"
            ]
          },
          "metadata": {
            "tags": []
          },
          "execution_count": 58
        }
      ]
    },
    {
      "cell_type": "markdown",
      "metadata": {
        "id": "yj5e8IyseU0X"
      },
      "source": [
        "<p>Creating the Bag of Words model"
      ]
    },
    {
      "cell_type": "code",
      "metadata": {
        "colab": {
          "base_uri": "https://localhost:8080/"
        },
        "id": "EzoZe9mtY2su",
        "outputId": "4fb966cc-53bb-4544-877a-9246da14b7ec"
      },
      "source": [
        "from sklearn.feature_extraction.text import CountVectorizer\n",
        "vect=CountVectorizer()\n",
        "X=vect.fit_transform(df.text_lemm)\n",
        "print(sorted(vect.vocabulary_))\n",
        "print(X.shape)\n",
        "print(X.toarray())"
      ],
      "execution_count": 59,
      "outputs": [
        {
          "output_type": "stream",
          "text": [
            "['aa', 'aaaand', 'aaadvantage', 'aacustomerservice', 'aadavantage', 'aadelay', 'aadv', 'aadvantage', 'aafail', 'aakjumxa', 'aal', 'aaron', 'aarp', 'aateam', 'aau', 'aavvoreph', 'aback', 'abandon', 'abandoned', 'abandonment', 'abassinet', 'abc', 'abcnetwork', 'abcnews', 'abducted', 'ability', 'able', 'aboard', 'aboout', 'abounds', 'abq', 'abroad', 'absolute', 'absolutely', 'absorber', 'absurd', 'absurdity', 'absurdly', 'abt', 'abtwf', 'abundance', 'abuse', 'abused', 'abxrq', 'abysmal', 'ac', 'acarl', 'acc', 'accelerate', 'accept', 'acceptable', 'accepted', 'accepting', 'acces', 'access', 'accessibility', 'accessible', 'accessing', 'accident', 'accidentally', 'accommodate', 'accommodated', 'accommodating', 'accommodation', 'accompaniment', 'accompany', 'accomplish', 'accomplished', 'according', 'accordingly', 'account', 'accountability', 'accruing', 'acct', 'accumulation', 'accurate', 'accused', 'acebo', 'achieve', 'achieves', 'achieving', 'ack', 'acknowledge', 'acknowledgement', 'acknowledgment', 'acnewsguy', 'acosta', 'acoustic', 'acpt', 'acquire', 'acquired', 'acquisition', 'across', 'act', 'acted', 'actingoutmgmnt', 'action', 'activated', 'active', 'actively', 'activity', 'actual', 'actually', 'actualy', 'acy', 'ad', 'ada', 'adam', 'adapted', 'add', 'added', 'adding', 'addition', 'additional', 'additionally', 'additonal', 'addr', 'address', 'addressed', 'addressing', 'addtl', 'adjusting', 'adjustment', 'admiral', 'admiralsclub', 'admit', 'admitted', 'adolfo', 'adopted', 'adopting', 'adore', 'adult', 'adv', 'advan', 'advance', 'advantage', 'advertise', 'advertising', 'advice', 'advise', 'advised', 'advising', 'advisory', 'advsry', 'aegeanairlines', 'aerocivilcol', 'aerojobmarket', 'aeroport', 'aesthetic', 'af', 'affair', 'affect', 'affected', 'affecting', 'affiliate', 'affiliated', 'afford', 'affordable', 'aforementioned', 'afraid', 'aft', 'afternoon', 'afterward', 'aftr', 'agcommunity', 'age', 'aged', 'agency', 'agent', 'agfd', 'aggravated', 'aggravating', 'aggravation', 'aggressive', 'agian', 'aging', 'agnt', 'ago', 'agoodlife', 'agpb', 'agree', 'agreement', 'agt', 'agts', 'ah', 'ahah', 'ahead', 'ahem', 'ahhhh', 'ahold', 'ahoy', 'ai', 'aiecraft', 'aif', 'ailing', 'aimed', 'air', 'airborne', 'airbus', 'airbusintheus', 'aircanada', 'aircraft', 'aircrft', 'aire', 'aired', 'airfare', 'airline', 'airlineadviser', 'airlinegave', 'airlinegeeks', 'airlinequality', 'airliner', 'airlinesecurity', 'airnzusa', 'airplane', 'airplanemodewason', 'airport', 'airportcardio', 'airpt', 'airserv', 'airsouthwest', 'airspace', 'airtahitinui', 'airtran', 'airway', 'aisle', 'aitzl', 'aj', 'ajm', 'ak', 'aka', 'akron', 'aktg', 'al', 'ala', 'alan', 'alarm', 'alaska', 'alaskaair', 'alavera', 'albany', 'albanyairport', 'albeit', 'albuquer', 'albuquerque', 'alcohol', 'alert', 'alerted', 'alex', 'alfamilyoffour', 'ali', 'alicia', 'alison', 'alist', 'alistpreferred', 'alittlebetter', 'alive', 'allan', 'allegiantair', 'allende', 'allergic', 'allergy', 'alleviate', 'allgood', 'alliance', 'allll', 'allow', 'allowabl', 'allowable', 'allowance', 'allowed', 'allowing', 'allows', 'allready', 'allrepresentativesbusy', 'allright', 'allyoucanjetpass', 'almost', 'alone', 'along', 'alot', 'already', 'alreadyrebookedonce', 'alright', 'also', 'alsonodrinkcartcomingaround', 'alstdi', 'alt', 'alternate', 'alternative', 'although', 'altitude', 'altonbrownlive', 'always', 'alwaysdelayed', 'alwaysdelayedonunited', 'alwayshappensthere', 'alwayslate', 'am', 'amagrino', 'amateur', 'amateurish', 'amaze', 'amazed', 'amazing', 'amazingflightcrew', 'amazingly', 'amazings', 'amazon', 'ambassador', 'ambivalence', 'amend', 'amenity', 'america', 'american', 'americanair', 'americanairbr', 'americanairlines', 'americanairlinesfail', 'americanairlnes', 'americanairsucks', 'americandairlinessucks', 'americanone', 'americant', 'americanview', 'amex', 'amexserve', 'amid', 'amiltx', 'amin', 'amirite', 'amiw', 'amm', 'amnt', 'among', 'amount', 'amp', 'amsterdam', 'amt', 'amtrak', 'amy', 'amybruni', 'amypoehler', 'an', 'ana', 'analystdoc', 'analytics', 'anamarketers', 'anarchy', 'anchorage', 'anderson', 'andrew', 'andrewfallis', 'android', 'andyellwood', 'angel', 'angeles', 'angelo', 'angering', 'angle', 'angriest', 'angry', 'angryandsober', 'angrybird', 'angrycustomer', 'angrytraveler', 'angst', 'animal', 'anku', 'ann', 'anna', 'annamarie', 'annettenaif', 'anniversary', 'annnndddd', 'annnnddddd', 'annnnnd', 'announce', 'announced', 'announcement', 'announcer', 'announcing', 'annoyed', 'annoying', 'annricord', 'annual', 'another', 'anotherdisappointment', 'anotherfail', 'ansleyhutson', 'answer', 'answered', 'answering', 'answerphone', 'answerthephone', 'ant', 'anthony', 'anticipate', 'anticipation', 'antigua', 'antitrust', 'antonio', 'anxiety', 'anxious', 'anybody', 'anymore', 'anyone', 'anythin', 'anything', 'anytime', 'anyway', 'anywhere', 'aoeaeszdlx', 'aou', 'ap', 'apart', 'apathetic', 'apathy', 'apeared', 'apiau', 'apnea', 'apollochplayers', 'apologise', 'apologize', 'apologizes', 'apologizing', 'apology', 'apostrophe', 'apostrophefail', 'app', 'appalled', 'appalling', 'apparent', 'apparently', 'appear', 'appeared', 'appears', 'appease', 'applaud', 'applauded', 'applause', 'apple', 'appleton', 'applicable', 'application', 'applied', 'apply', 'applying', 'appointed', 'appointment', 'appreciate', 'appreciated', 'appreciates', 'appreciation', 'approach', 'approaching', 'appropriate', 'appropriately', 'appropriation', 'approproately', 'approval', 'approve', 'approved', 'approx', 'approximately', 'apps', 'apr', 'april', 'aprzspxige', 'apt', 'aptzpurop', 'apx', 'apy', 'aqjn', 'aquadilla', 'aqzwecokk', 'ar', 'arab', 'arbitrarily', 'arbitrary', 'arc', 'ardent', 'area', 'arent', 'argentina', 'argg', 'argh', 'argue', 'argued', 'argueing', 'arguing', 'argument', 'aricyq', 'arizona', 'arkansas', 'arm', 'arminrosen', 'armrest', 'army', 'arose', 'around', 'arrange', 'arranged', 'arrangement', 'arrival', 'arrive', 'arrived', 'arrives', 'arriving', 'arrogant', 'art', 'article', 'aruba', 'aruna', 'arvls', 'as', 'asap', 'ase', 'asgmnt', 'ash', 'ashamed', 'ashley', 'ashleykatherton', 'asia', 'aside', 'ask', 'askamex', 'asked', 'asking', 'askpaypal', 'asks', 'asleep', 'aspen', 'aspenbaggagefail', 'ass', 'assaulted', 'assed', 'asset', 'asshole', 'assign', 'assigned', 'assignment', 'assist', 'assistance', 'assistant', 'assisted', 'assisting', 'associated', 'assuage', 'assult', 'assume', 'assuming', 'assured', 'assuring', 'astounded', 'astounding', 'astounds', 'asw', 'asyqe', 'atc', 'ateafnc', 'ath', 'athau', 'athlete', 'atl', 'atlanta', 'atlantic', 'atleast', 'atrocious', 'att', 'attach', 'attached', 'attackingbabymomma', 'attdt', 'attempt', 'attempted', 'attempting', 'attend', 'attendant', 'attended', 'attendent', 'attendents', 'attention', 'attentiveness', 'attitude', 'attitudeissues', 'attitudy', 'attndt', 'atue', 'atwonline', 'atx', 'au', 'aucsykfuhd', 'auction', 'audience', 'audio', 'audition', 'auditorium', 'aufm', 'aug', 'august', 'auh', 'aumilo', 'aunt', 'aunty', 'aur', 'aurn', 'aurorabiz', 'aussie', 'austic', 'austin', 'austinairport', 'australia', 'austrian', 'author', 'authoritative', 'authorize', 'auto', 'automated', 'automatic', 'automatically', 'automobile', 'autoresponse', 'auzu', 'av', 'avail', 'availab', 'availability', 'available', 'avalible', 'avatar', 'avbdstjujs', 'avenue', 'average', 'averaging', 'avgeek', 'aviation', 'avis', 'aviv', 'avoid', 'avoided', 'avon', 'avp', 'avyqdmpi', 'aw', 'awaiting', 'awake', 'award', 'aware', 'away', 'awdbw', 'awe', 'aweful', 'awesome', 'awesomeee', 'awesomeness', 'awful', 'awfulcustomerservice', 'awfully', 'awfulness', 'awgjkjiiac', 'awheelchair', 'awhile', 'awkward', 'awol', 'awrd', 'aww', 'awww', 'awwweesssooomee', 'ax', 'axryeiwzh', 'ay', 'aye', 'aygaoeb', 'aypyaduy', 'az', 'aztdaer', 'ba', 'baby', 'bach', 'bachelorpartymishap', 'back', 'backed', 'backhome', 'backing', 'backlog', 'backpack', 'backroads', 'backtodelta', 'backtowinter', 'backup', 'backwards', 'backyard', 'bad', 'badairline', 'badbadbad', 'badbusiness', 'badbussiness', 'badcustomerexperience', 'badcustomerservice', 'badcustomersrvice', 'bademployeeproblem', 'badge', 'badly', 'badmgmt', 'badpolicy', 'badservice', 'badwebsite', 'bae', 'baejet', 'bag', 'bagage', 'bagawim', 'baggage', 'baggagedrama', 'baggagefail', 'baggageissues', 'baggagelost', 'bagsflyfree', 'bagsflyfreebutnotwithme', 'bagtag', 'bahamas', 'bailey', 'bait', 'baitandswitch', 'baked', 'baking', 'balance', 'ball', 'ballbag', 'baltimore', 'banana', 'band', 'bangkok', 'bank', 'bankrupt', 'bankruptcy', 'banning', 'bar', 'barbados', 'barbara', 'barclay', 'barclaycardus', 'barclays', 'barcodes', 'barely', 'barnum', 'barrel', 'barrettkarabis', 'barrier', 'base', 'based', 'bashing', 'basic', 'basically', 'basket', 'basketball', 'bass', 'bastard', 'bathroom', 'batman', 'battery', 'battierccipuppy', 'batting', 'battle', 'battling', 'bay', 'bbb', 'bbbne', 'bbm', 'bbzijwfdl', 'bc', 'bcn', 'bcs', 'bcuz', 'bcz', 'bd', 'bday', 'bdindallas', 'bdl', 'bdng', 'bdrxfn', 'bduauzfhw', 'beach', 'beamske', 'bean', 'beantownmatty', 'bear', 'bearable', 'beat', 'beatriz', 'beatstheothers', 'beatz', 'beautiful', 'beautifully', 'beauty', 'bebetter', 'bec', 'became', 'becky', 'become', 'becomes', 'becoming', 'becuase', 'bed', 'bedofroses', 'beer', 'befor', 'beg', 'began', 'begging', 'begin', 'beginning', 'begun', 'behalf', 'behave', 'behaves', 'behavior', 'behind', 'bein', 'belfast', 'belfastairport', 'belief', 'believable', 'believe', 'believing', 'belize', 'bellagio', 'belong', 'belonging', 'belt', 'ben', 'benadryl', 'bench', 'bene', 'beneficial', 'benefit', 'bensonhenderson', 'beought', 'beqotlnugc', 'bereavement', 'bergstrom', 'bernhardtjh', 'bershawnjackson', 'besides', 'best', 'bestairline', 'bestairlineever', 'bestfriends', 'bestinclass', 'bet', 'beta', 'bethonors', 'better', 'bettween', 'betty', 'beverage', 'beware', 'beyond', 'bf', 'bffs', 'bfpfw', 'bg', 'bgm', 'bgr', 'bh', 'bhjvaa', 'bhm', 'bhx', 'bicycle', 'bid', 'big', 'bigger', 'biggest', 'biggie', 'bijlxat', 'bike', 'bill', 'billed', 'billing', 'billion', 'bin', 'bingo', 'bio', 'bird', 'birder', 'birmingham', 'birth', 'birthdate', 'birthday', 'biscuit', 'bit', 'bitch', 'bitchy', 'bite', 'bitty', 'biz', 'bizarre', 'bizness', 'biztravel', 'bjnz', 'bjwgoap', 'bk', 'bked', 'bkmfey', 'bl', 'black', 'blackberry', 'blacked', 'blackhistorymonth', 'blackish', 'blacklivesmatter', 'blackmailed', 'blade', 'blah', 'blame', 'blamed', 'blameshiftoverload', 'blaming', 'blanc', 'blank', 'blanket', 'blast', 'blasting', 'blatant', 'blatantly', 'blatimore', 'blazer', 'bledsoe', 'bleed', 'blegh', 'bleh', 'bless', 'blessed', 'blew', 'blindsided', 'blizzard', 'bloated', 'block', 'blocked', 'blocking', 'blog', 'bloody', 'bloodymary', 'bloombergnews', 'blow', 'blowing', 'blown', 'blue', 'bluecarpet', 'bluemanity', 'bluetiful', 'blumanity', 'blushing', 'blxs', 'bm', 'bmij', 'bna', 'bnflhpxtmw', 'bng', 'bngpli', 'bo', 'board', 'boarded', 'boarding', 'boardingpass', 'boat', 'boavxy', 'bobbi', 'body', 'boeing', 'boeingairplanes', 'boggling', 'bogot', 'bogota', 'boh', 'bohnjai', 'bohol', 'boiled', 'boise', 'bold', 'bom', 'bone', 'bonnie', 'bonus', 'boo', 'boofin', 'book', 'booked', 'booking', 'booklet', 'bookofnegroes', 'bool', 'boom', 'boost', 'booster', 'boot', 'booted', 'booze', 'bop', 'bora', 'border', 'borderline', 'borrow', 'bos', 'bosnia', 'boson', 'boston', 'bostonbbb', 'bostongarden', 'bostonlogan', 'bot', 'botched', 'bother', 'bothered', 'bottle', 'bottom', 'bought', 'bougth', 'bounce', 'bounced', 'bound', 'boundless', 'bourbon', 'bout', 'bowl', 'box', 'boy', 'boycott', 'boyfriend', 'bozo', 'bpdfpp', 'bq', 'bqiw', 'bqn', 'bqonpa', 'bracket', 'bradley', 'brag', 'bragged', 'bragging', 'brain', 'brand', 'branding', 'brandloveaffair', 'brandmance', 'brandssayingbae', 'branson', 'brave', 'braved', 'bravo', 'brcsjbxg', 'brd', 'breach', 'bread', 'break', 'breakdown', 'breaker', 'breakfast', 'breaking', 'breakup', 'breast', 'breath', 'breathing', 'breavement', 'breeze', 'brendan', 'brendanpshannon', 'brent', 'bretharold', 'brewcrewfan', 'brian', 'briansumers', 'bride', 'bridesmaid', 'bridge', 'briefing', 'bright', 'brilliant', 'bring', 'bringbackrealstaff', 'bringbacktheluvtordu', 'bringin', 'bringing', 'british', 'briughy', 'brizzyberg', 'bro', 'broad', 'broadway', 'broke', 'broken', 'brokenpromises', 'brokenwheel', 'brooklyn', 'bros', 'brothaaaaaa', 'brother', 'brought', 'browser', 'brt', 'bru', 'bruh', 'bruin', 'brush', 'brushing', 'brussels', 'brutal', 'bsuxlu', 'bt', 'btr', 'bttgmyn', 'bttr', 'btv', 'btvpxtzju', 'btvtb', 'btw', 'btwn', 'buck', 'budapest', 'buddy', 'budget', 'budweiserduels', 'bueno', 'buenos', 'buf', 'buffalo', 'buffaloairport', 'bug', 'bugging', 'buggy', 'build', 'building', 'buj', 'bulb', 'bulkhead', 'bull', 'bullshit', 'bully', 'bullying', 'bum', 'bummed', 'bummer', 'bump', 'bumped', 'bumper', 'bumping', 'bunch', 'bundleup', 'bur', 'burbank', 'burden', 'bureau', 'burger', 'burgundy', 'burley', 'burlington', 'burn', 'burned', 'burning', 'burningman', 'burroughs', 'burst', 'bus', 'busads', 'bush', 'bushleague', 'bushug', 'business', 'businessfirst', 'businessmodel', 'businesstravel', 'bussey', 'bussines', 'busted', 'busy', 'butt', 'button', 'buwjtvuwkm', 'buy', 'buyer', 'buying', 'buzz', 'buzzkill', 'bv', 'bvzty', 'bwahahaha', 'bwi', 'bwood', 'bxwg', 'byackc', 'bye', 'byebyejetblue', 'byn', 'byod', 'bypass', 'bze', 'ca', 'cab', 'cabin', 'cabine', 'cabinfever', 'cabo', 'cac', 'cache', 'caching', 'cae', 'caexhibitions', 'caf', 'cafe', 'caffeine', 'cake', 'cakendeath', 'cal', 'calamity', 'calderon', 'calendar', 'calf', 'calgary', 'cali', 'calibrated', 'california', 'call', 'callback', 'called', 'caller', 'calling', 'callmestanley', 'calming', 'came', 'camera', 'camp', 'campaign', 'cana', 'canada', 'canadaair', 'canadian', 'cancelled', 'cancer', 'cancld', 'cancun', 'candace', 'caned', 'canister', 'canned', 'cannot', 'cant', 'cantblametheweather', 'canthurtasking', 'cantlogoutofunitedwifi', 'canx', 'cap', 'capa', 'capability', 'capable', 'capacity', 'capel', 'capitalized', 'capt', 'captain', 'captive', 'capture', 'car', 'card', 'cardholder', 'care', 'cared', 'career', 'careless', 'careyon', 'cargo', 'caribbean', 'caring', 'carlton', 'carlw', 'carmen', 'carol', 'carolina', 'carousel', 'carpet', 'carrie', 'carried', 'carrier', 'carrieunderwood', 'carry', 'carrying', 'carryon', 'carryons', 'carseat', 'carsl', 'cart', 'carta', 'cartagena', 'cartago', 'cascino', 'case', 'cash', 'casimir', 'casleah', 'casual', 'cat', 'catch', 'catching', 'cater', 'catered', 'catering', 'cathay', 'cathaypacific', 'cathaypacificus', 'catsanddogslivingtogether', 'cattle', 'caucasity', 'caught', 'cause', 'caused', 'causing', 'cavalli', 'cavan', 'cave', 'cavs', 'cay', 'cb', 'cbr', 'cbsbaltimore', 'cbsnews', 'cbssoxfan', 'cbv', 'cc', 'cco', 'cdg', 'cdt', 'cdx', 'cdzhtyd', 'cease', 'cebu', 'ceeenj', 'cefa', 'cehroeurc', 'celebrate', 'celebrates', 'celebrating', 'cell', 'cellphone', 'cement', 'center', 'centerl', 'central', 'centre', 'centric', 'centricity', 'century', 'ceo', 'cert', 'certain', 'certainly', 'certificate', 'cessna', 'cesspool', 'cf', 'cfhtk', 'cflanagian', 'cfrlqbe', 'cgfv', 'cgjase', 'cgqueen', 'cgroup', 'cgwe', 'cha', 'chain', 'chair', 'chairman', 'chairmanlove', 'chalk', 'challemann', 'challenge', 'challenging', 'champagne', 'chance', 'change', 'changed', 'changer', 'changing', 'channel', 'chantilly', 'chaos', 'chaotic', 'chapman', 'chapter', 'char', 'character', 'characterize', 'charge', 'charged', 'charger', 'charging', 'chariot', 'charity', 'charles', 'charleston', 'charlote', 'charlotte', 'charm', 'chart', 'chartering', 'chase', 'chasing', 'chat', 'chathes', 'chatted', 'chatting', 'chd', 'cheap', 'cheaper', 'cheapflights', 'cheapoair', 'cheapslogannotmotto', 'cheat', 'cheatcustomers', 'cheated', 'check', 'checked', 'checker', 'checkin', 'checking', 'checkout', 'checkpoint', 'cheduled', 'cheer', 'cheertymedad', 'cheese', 'cheeze', 'chef', 'chemistry', 'cheque', 'cherry', 'chg', 'chgd', 'chge', 'chging', 'chgy', 'chi', 'chiberia', 'chicago', 'chicagomidway', 'chicagotribune', 'chicken', 'chief', 'child', 'childish', 'childrens', 'chill', 'chillpill', 'china', 'chip', 'chipper', 'chk', 'chkd', 'chkin', 'chking', 'chkout', 'chn', 'chng', 'chnge', 'chocked', 'chocolate', 'choice', 'choose', 'choosechicago', 'choosekind', 'choosing', 'choppiest', 'choppy', 'chose', 'chosen', 'choxkpjp', 'christine', 'christinebpc', 'christmas', 'chrome', 'chronicleherald', 'chronological', 'chrysichrysic', 'chs', 'chuckhole', 'ci', 'cigarette', 'cinci', 'cincinnati', 'cincy', 'cinedrones', 'cinziannap', 'circle', 'circling', 'circuit', 'circulation', 'circumstance', 'ciscojimfrench', 'cisnerosmedia', 'citi', 'citing', 'citizen', 'city', 'cityandsand', 'civilized', 'cj', 'cjdjpdx', 'cjg', 'cjsvssqf', 'cju', 'ckg', 'ckin', 'cking', 'cl', 'claim', 'claimed', 'claiming', 'clarence', 'clarification', 'clarify', 'clarifying', 'clarion', 'clarita', 'clarkey', 'class', 'classic', 'classy', 'claudia', 'claudoakeshott', 'cld', 'cldnt', 'cle', 'clean', 'cleaned', 'cleaning', 'cleanliness', 'clear', 'clearance', 'cleared', 'clearing', 'clearly', 'clearvision', 'cleveland', 'clever', 'clgiu', 'click', 'clicked', 'clicking', 'client', 'clientnothappy', 'clifton', 'clincher', 'cling', 'clinicpolly', 'cll', 'clo', 'clob', 'clockwork', 'close', 'closed', 'closer', 'closest', 'closet', 'closing', 'closure', 'clothes', 'clothing', 'cloud', 'clown', 'clt', 'cltdouglas', 'clu', 'club', 'clue', 'clueless', 'clunky', 'cluster', 'clusterfucks', 'clutch', 'clvlhfguzw', 'cm', 'cmfat', 'cmh', 'cmon', 'cncdld', 'cnceld', 'cncld', 'cncled', 'cnctl', 'cng', 'cnn', 'cnnbrk', 'cnnmoney', 'cnx', 'cnxn', 'cnxns', 'co', 'coach', 'coached', 'coachgs', 'coachmack', 'coast', 'coat', 'coathanging', 'cobedien', 'cockpit', 'cockroach', 'cocktail', 'code', 'coded', 'codeshare', 'coffee', 'coffeemaker', 'coffeeneeded', 'coffin', 'coin', 'coincidence', 'coke', 'cold', 'colder', 'coldly', 'cole', 'colleague', 'collect', 'collection', 'collectively', 'college', 'colliding', 'colo', 'colombia', 'colombian', 'color', 'colored', 'colossal', 'coltsmissingbags', 'columbia', 'columbian', 'columbus', 'com', 'coma', 'combat', 'combative', 'combination', 'combine', 'combined', 'combo', 'comcast', 'comclassic', 'come', 'comedian', 'comedic', 'comedy', 'comenity', 'comeon', 'cometoaustin', 'comfort', 'comfortable', 'comfortably', 'comforting', 'comin', 'coming', 'comm', 'command', 'commence', 'comment', 'commented', 'commercial', 'commit', 'commitment', 'committed', 'common', 'comms', 'communicate', 'communicated', 'communicating', 'communication', 'communicationfail', 'communicationiskey', 'community', 'commutation', 'commute', 'comp', 'compact', 'companion', 'companionpasses', 'company', 'comparable', 'compare', 'compared', 'comparison', 'compassion', 'compassionate', 'compatible', 'comped', 'compensate', 'compensated', 'compensates', 'compensating', 'compensation', 'compete', 'competent', 'competes', 'competing', 'competition', 'competitor', 'comping', 'complain', 'complained', 'complainer', 'complaining', 'complains', 'complaint', 'complete', 'completed', 'completely', 'compliant', 'complicated', 'compliment', 'complimentary', 'complimentarybeveragesneeded', 'complt', 'compounded', 'compounding', 'computer', 'con', 'concentrate', 'concept', 'concern', 'concerned', 'concerning', 'concert', 'concierge', 'concourse', 'concrete', 'condescending', 'condescension', 'condition', 'conditioning', 'condolence', 'condom', 'conection', 'conf', 'conference', 'confidence', 'confident', 'config', 'confirm', 'confirmation', 'confirmed', 'confirming', 'conflict', 'conflicting', 'confrontational', 'confused', 'confuses', 'confusing', 'confusion', 'congested', 'congrats', 'congratulation', 'conjunction', 'connect', 'connected', 'connectfor', 'connectin', 'connecting', 'connection', 'connectns', 'connector', 'connects', 'connetion', 'connex', 'connolly', 'consecutive', 'consequence', 'consider', 'considerable', 'considerate', 'consideration', 'considered', 'considering', 'consistency', 'consistent', 'consistently', 'consolation', 'constant', 'constantly', 'constitution', 'construction', 'constructive', 'consult', 'consultant', 'consumer', 'consumption', 'cont', 'contaced', 'contact', 'contactcej', 'contacted', 'contacting', 'contactless', 'contagious', 'contain', 'container', 'contains', 'contd', 'contempt', 'contend', 'content', 'contest', 'context', 'continental', 'continentalair', 'continentalairlines', 'contingency', 'continually', 'continue', 'continued', 'continues', 'continuing', 'continuous', 'contract', 'contractor', 'control', 'controllable', 'controllableirregularity', 'controller', 'conv', 'convenience', 'convenient', 'conveniently', 'conversation', 'conversational', 'conversed', 'conversion', 'convey', 'conveyer', 'conveyor', 'convince', 'convinced', 'convo', 'cooker', 'cookie', 'cookjaycook', 'cooky', 'cool', 'cooler', 'cooper', 'coordinate', 'cop', 'copa', 'copilot', 'copx', 'copy', 'core', 'corevalues', 'corner', 'corp', 'corporate', 'corporation', 'correct', 'corrected', 'correctly', 'correctness', 'correspondence', 'corrupt', 'corybronze', 'cost', 'costa', 'costing', 'costumer', 'costumerservice', 'cot', 'could', 'couldnt', 'count', 'counted', 'counter', 'counterpart', 'counting', 'countingdown', 'countless', 'country', 'county', 'couple', 'coupled', 'coupon', 'courier', 'courrier', 'course', 'court', 'courteous', 'courtesy', 'courtsey', 'courtsnod', 'cousin', 'cover', 'coverage', 'covered', 'covering', 'covert', 'cowardly', 'cowboy', 'cowboycerrone', 'cowgirl', 'coworker', 'coworkers', 'cpap', 'cpu', 'cpypgfnd', 'cpzb', 'cqmm', 'cr', 'crabby', 'cracker', 'craft', 'craftbeer', 'craig', 'cramming', 'cramped', 'cranky', 'crap', 'crappiest', 'crappy', 'crash', 'crashed', 'crashing', 'crated', 'craving', 'crawling', 'craziness', 'crazinessintherockies', 'crazy', 'crazybitch', 'cream', 'create', 'created', 'creates', 'creative', 'credential', 'credibility', 'credit', 'creditcardsales', 'credited', 'crew', 'crewe', 'crewmember', 'crewmembers', 'crib', 'cricket', 'criminal', 'crisis', 'cristian', 'criticism', 'crook', 'crooked', 'cross', 'crossed', 'crosswind', 'crossword', 'crowd', 'crowded', 'cruel', 'cruise', 'crumb', 'crummyservice', 'crutch', 'cruz', 'crw', 'cry', 'crystal', 'cs', 'csfail', 'csm', 'csnrpvy', 'cspkcats', 'csr', 'csrs', 'cst', 'cstmr', 'ct', 'ctg', 'ctl', 'ctr', 'cu', 'cuba', 'cud', 'cudtomers', 'cue', 'cuiewo', 'cultural', 'culture', 'cun', 'cup', 'cur', 'curb', 'curbside', 'curious', 'current', 'currently', 'currentlysittingontarmac', 'curse', 'curt', 'curtesy', 'curvygirltravels', 'cushion', 'cust', 'custexp', 'custom', 'customer', 'customerexperience', 'customerloyalty', 'customerservice', 'customerservicefail', 'customerservicenot', 'customerserviceplease', 'customerservices', 'customersfirst', 'custs', 'custserv', 'cut', 'cute', 'cutest', 'cutoff', 'cutting', 'cuz', 'cuzco', 'cvg', 'cvgairport', 'cw', 'cwgab', 'cx', 'cxl', 'cxld', 'cxp', 'cxttxv', 'cycle', 'cyguq', 'cyncyn', 'cyndi', 'cyprhe', 'czamkoff', 'czplhl', 'da', 'dad', 'daddy', 'daddyshome', 'daiber', 'daily', 'dajwzhlvyu', 'dakota', 'dal', 'dale', 'dallas', 'dallaslovefield', 'damage', 'damaged', 'damageluggage', 'damion', 'damionflight', 'damn', 'damper', 'dan', 'danahajek', 'dance', 'dancing', 'dandy', 'dang', 'danger', 'dangerous', 'danny', 'dare', 'dark', 'darn', 'darrel', 'dart', 'dartmedia', 'daryl', 'data', 'date', 'dating', 'datingrev', 'daughter', 'david', 'davidson', 'davis', 'davuy', 'dawn', 'day', 'daycare', 'daysinn', 'daysofhell', 'daysofunitedfailures', 'daystogo', 'daytona', 'db', 'dbcvepn', 'dbh', 'dbyr', 'dc', 'dca', 'dcjxlzl', 'dcoadavon', 'dcobokn', 'dcwerz', 'dd', 'ddqq', 'de', 'deactivate', 'deactivated', 'dead', 'deadhead', 'deaf', 'deaffriendly', 'deal', 'dealing', 'dealt', 'dean', 'deane', 'dear', 'death', 'debacle', 'debating', 'debit', 'deboards', 'dec', 'deceiving', 'december', 'decency', 'decent', 'deceptive', 'decide', 'decided', 'decides', 'deciding', 'decision', 'deck', 'declaration', 'decline', 'declined', 'decorum', 'dedicated', 'dedication', 'deedee', 'deemed', 'deep', 'deeply', 'def', 'defcon', 'defend', 'deferring', 'defiantly', 'defibrillator', 'deficiency', 'define', 'defines', 'definitely', 'definition', 'deflator', 'degree', 'degreesathome', 'deice', 'deiced', 'deicing', 'del', 'delacy', 'delaney', 'delay', 'delayed', 'delayforwhat', 'delaying', 'delayua', 'delete', 'deleted', 'delhi', 'deli', 'delicious', 'delight', 'delighted', 'delightful', 'delinquent', 'deliver', 'delivered', 'delivering', 'delivery', 'delk', 'delta', 'deltaassist', 'deltanews', 'deltapoints', 'delyd', 'demanding', 'demo', 'demolish', 'den', 'denairport', 'denied', 'denise', 'denisejtaylor', 'dented', 'denver', 'denverairport', 'deny', 'deoderant', 'deodorant', 'dep', 'depart', 'departed', 'departing', 'department', 'departs', 'departure', 'depending', 'deplane', 'deplaned', 'deplaning', 'deplorable', 'dept', 'derekc', 'derrick', 'descending', 'describe', 'describing', 'description', 'desert', 'deserve', 'deserved', 'deserves', 'design', 'designated', 'designed', 'designer', 'desire', 'desired', 'desition', 'desk', 'desktop', 'desperate', 'desperately', 'despicable', 'despise', 'despite', 'dest', 'destination', 'destinationdragon', 'destinationdragons', 'destroy', 'destroyed', 'destroying', 'detail', 'detailed', 'detector', 'deter', 'determination', 'detroit', 'devaluation', 'devastated', 'develop', 'developer', 'development', 'device', 'devs', 'dfpietra', 'dfps', 'dfw', 'dfwairport', 'dgctt', 'dgruber', 'dh', 'dhepburn', 'dhhomg', 'dhi', 'dia', 'diabetic', 'dial', 'dialing', 'dialogue', 'dialup', 'diamond', 'diaper', 'dice', 'dick', 'dickhead', 'dictionary', 'didnt', 'die', 'died', 'diego', 'diet', 'dietcoke', 'diff', 'differ', 'difference', 'different', 'differently', 'difficult', 'difficulty', 'dig', 'digging', 'digit', 'digital', 'dignity', 'dilemma', 'diligent', 'dim', 'dime', 'dimension', 'dimmed', 'ding', 'dining', 'dinner', 'dinosaur', 'direct', 'directed', 'directflights', 'directing', 'direction', 'directly', 'directtv', 'directv', 'dirt', 'dirtiest', 'dirty', 'dis', 'disability', 'disabled', 'disabledtraveler', 'disappear', 'disappeared', 'disappearing', 'disappears', 'disappoint', 'disappointed', 'disappointing', 'disappointment', 'disappoints', 'disapptment', 'disaster', 'disastrous', 'discnct', 'discomfort', 'disconnect', 'disconnected', 'disconnecting', 'disconnection', 'discontinued', 'discount', 'discouraging', 'discourteous', 'discover', 'discovered', 'discrimination', 'discus', 'discussing', 'disgrace', 'disgraceful', 'disgruntled', 'disguised', 'disgusted', 'disgusting', 'disgutedindenver', 'disheartening', 'dishonest', 'dishonoring', 'disinfectant', 'dislike', 'dismissed', 'dismissive', 'disney', 'disneyprincesshalfmarathon', 'disorganised', 'disorganization', 'disorganized', 'dispatch', 'dispatcher', 'dispatchissue', 'displaced', 'display', 'displayed', 'displeased', 'displeasure', 'disproportionate', 'dispute', 'disregard', 'disrespect', 'disrespected', 'disrespectful', 'disrespectfully', 'disrupted', 'dissapointed', 'dissapointing', 'dissapointment', 'dissaponted', 'dissatisfaction', 'dissatisfied', 'disspointed', 'distance', 'distressed', 'distribution', 'disturb', 'disupdates', 'div', 'diverged', 'diversion', 'divert', 'diverted', 'diverting', 'divided', 'dividend', 'dividendmiles', 'dividendrewards', 'dividendsmember', 'divident', 'divider', 'dj', 'djevolutionhd', 'djhai', 'djhxvjt', 'djimpact', 'djjjn', 'djq', 'dk', 'dkzl', 'dl', 'dlh', 'dm', 'dmangen', 'dmed', 'dming', 'dmoukdarath', 'dmv', 'dn', 'dnmsblzumr', 'dnt', 'do', 'dobetter', 'dobetterjetblue', 'doc', 'docmvotwti', 'doctor', 'document', 'documentation', 'doesnt', 'doesntfeellikestatusyet', 'dog', 'dogbuckeye', 'doi', 'doin', 'doke', 'doll', 'dollar', 'domestic', 'domingo', 'dominican', 'dominick', 'donaldaroberts', 'donate', 'donation', 'done', 'donkey', 'donneiiy', 'donotflyusair', 'donotflywiththem', 'dont', 'dontflythem', 'dontflyusairways', 'donthavehighhopes', 'dontmakemebeg', 'dontmakemegooutside', 'donut', 'doo', 'doom', 'door', 'doorstep', 'dorns', 'dory', 'dosequis', 'dot', 'dotnetnate', 'doua', 'double', 'doubt', 'doubtful', 'doug', 'doumented', 'dounotwantmybusiness', 'down', 'downgrade', 'downgraded', 'downhill', 'download', 'downloaded', 'downnnnn', 'downright', 'downstairs', 'downtown', 'doyourjob', 'dozen', 'dpdfpp', 'dphqrgkdoa', 'dplq', 'dpt', 'dpted', 'dpx', 'dqbai', 'dqjl', 'dqny', 'dqzlrjo', 'dr', 'draft', 'drag', 'dragon', 'drain', 'draw', 'drawing', 'dre', 'dreadful', 'dreading', 'dream', 'dreamliner', 'dreampath', 'drenched', 'dresparkles', 'dress', 'drift', 'drink', 'drinker', 'drive', 'driven', 'driver', 'driving', 'drone', 'drop', 'droped', 'dropped', 'droppeditoffyet', 'dropping', 'drove', 'drunk', 'drunkpilots', 'drvrugby', 'drw', 'dry', 'dsdebodmel', 'dsearls', 'dsi', 'dsm', 'dtheyofxrb', 'dtlguq', 'dtv', 'dtw', 'duanenclark', 'dub', 'dubai', 'dublin', 'dublinairport', 'duck', 'dude', 'due', 'duecto', 'duffle', 'duffy', 'duh', 'duke', 'dulles', 'dullessucks', 'dultch', 'duma', 'dumb', 'dump', 'dumped', 'dumping', 'dunkin', 'dunno', 'duped', 'durango', 'dust', 'dustyob', 'duty', 'duw', 'dvr', 'dvt', 'dw', 'dxb', 'dxn', 'dy', 'dying', 'dzg', 'dzkc', 'dzpnz', 'eagle', 'eakpa', 'earlier', 'earliest', 'early', 'earlybird', 'earlybirdmeansnothing', 'earn', 'earned', 'earnedmybusiness', 'earning', 'earnings', 'earphone', 'earth', 'earthquake', 'ease', 'easier', 'easiest', 'easily', 'east', 'easter', 'eastern', 'easy', 'eat', 'eaten', 'eatgregeat', 'eating', 'eatup', 'eb', 'ebeemvg', 'ebhset', 'ebk', 'ebokeers', 'ebola', 'ebxc', 'ec', 'eco', 'ecom', 'econ', 'economy', 'ecuador', 'eczhcmm', 'ed', 'edgc', 'edgy', 'edinburgh', 'edit', 'edition', 'edplotts', 'edreams', 'educate', 'education', 'educational', 'ee', 'eef', 'eegek', 'eerekdf', 'ef', 'effect', 'effective', 'efficencies', 'efficiency', 'efficient', 'efficiently', 'effin', 'effing', 'effort', 'effortless', 'efw', 'ege', 'eghdgn', 'egkvfokogj', 'egregious', 'eh', 'ehnee', 'eight', 'eis', 'either', 'eix', 'ejacqui', 'ek', 'el', 'elaborate', 'elbow', 'elderly', 'elected', 'electric', 'electrical', 'electronic', 'elevate', 'elevategold', 'elevator', 'elhxuv', 'eligible', 'elise', 'elite', 'eliz', 'eliza', 'elizabeth', 'ellahenderson', 'elliott', 'elm', 'elp', 'elpa', 'elpaso', 'else', 'elsewhere', 'elwoodblues', 'em', 'email', 'emailed', 'emailing', 'emailmailto', 'emaleesugano', 'emb', 'embarrassed', 'embarrassing', 'embarrassment', 'embassy', 'embed', 'embody', 'embossed', 'embraersa', 'emer', 'emerald', 'emerg', 'emergency', 'emerging', 'emeyerson', 'emily', 'emirate', 'emmaclifford', 'emotional', 'emp', 'empathetic', 'empathize', 'empathizes', 'empathy', 'emphasize', 'empl', 'emplid', 'employ', 'employee', 'employeerelations', 'emptied', 'empty', 'emrey', 'emrubu', 'emv', 'emxlyy', 'en', 'encounter', 'encountered', 'encourage', 'end', 'ended', 'ending', 'endless', 'endlessly', 'enemy', 'energy', 'enertainment', 'enforce', 'enforcement', 'enforcing', 'engadget', 'engagement', 'engaging', 'engine', 'england', 'english', 'enhance', 'enjoy', 'enjoyable', 'enjoyed', 'enjoying', 'enormous', 'enough', 'enquires', 'enraging', 'enroll', 'enrolled', 'enroute', 'ensued', 'ensure', 'ensured', 'ensuring', 'enter', 'entered', 'entering', 'enterprise', 'entertain', 'entertained', 'entertaining', 'entertainment', 'entertainmnt', 'entire', 'entirely', 'entitled', 'entrance', 'entree', 'entrusted', 'entry', 'enuf', 'environment', 'envoy', 'enzo', 'eofthgaj', 'eom', 'ep', 'epic', 'epicfail', 'epicfailunited', 'epicfailure', 'epipens', 'epitimeoffail', 'eps', 'eqepkkpsxm', 'eqm', 'eqqi', 'equal', 'equality', 'equalizer', 'equally', 'equip', 'equipment', 'equipped', 'equivalent', 'eqyahfvz', 'er', 'erased', 'ergpdwsj', 'eri', 'ericbradleypt', 'erickofiejones', 'erieairport', 'erj', 'ernie', 'err', 'erring', 'error', 'errored', 'erw', 'erzht', 'esbnzg', 'escalate', 'escape', 'escorted', 'esmmnizek', 'esp', 'especially', 'espinosa', 'espn', 'essence', 'essentially', 'essfoowt', 'est', 'establish', 'established', 'estelle', 'estimate', 'estimated', 'et', 'eta', 'etailwest', 'etc', 'eternal', 'eternally', 'etfjqiwuvt', 'ethan', 'ethic', 'ethiopia', 'etihad', 'eu', 'eudlczg', 'eueyxawcv', 'europe', 'evaluate', 'evansville', 'evasive', 'even', 'evening', 'evenlate', 'evennotified', 'event', 'eventhoughits', 'eventprof', 'eventually', 'ever', 'everglades', 'evermoreroom', 'every', 'everybody', 'everyone', 'everything', 'everytime', 'everywhere', 'evidence', 'evidently', 'evn', 'evolved', 'evr', 'evry', 'evrytime', 'evv', 'ew', 'ewj', 'ewk', 'ewr', 'ewwgi', 'ewxwxidtfx', 'ex', 'exacerbates', 'exact', 'exactly', 'exam', 'example', 'exasperating', 'exceed', 'excellence', 'excellent', 'excellentcustomerservice', 'except', 'exception', 'exceptional', 'exceptionally', 'exceptionalservice', 'excess', 'exchange', 'excited', 'exciting', 'exclusive', 'exclusively', 'excruciatingly', 'excusable', 'excuse', 'exec', 'execplat', 'execution', 'executive', 'executiveplatinummeansnothing', 'exercise', 'exhausted', 'exhausting', 'exhibited', 'exhorbitantfees', 'exicted', 'exist', 'existence', 'existent', 'existing', 'exists', 'exit', 'exiting', 'exp', 'expand', 'expanded', 'expansion', 'expect', 'expectation', 'expected', 'expecting', 'expects', 'expedia', 'expedient', 'expedite', 'expedited', 'expeditious', 'expense', 'expensive', 'exper', 'experience', 'experienced', 'experiencing', 'expiration', 'expire', 'expired', 'expires', 'expiring', 'explain', 'explained', 'explaining', 'explains', 'explanation', 'explore', 'explorer', 'exposed', 'expowest', 'express', 'expressed', 'expressing', 'exps', 'extend', 'extended', 'extension', 'extent', 'extinct', 'extortion', 'extra', 'extraction', 'extraordinaire', 'extraordinary', 'extravaganza', 'extreme', 'extremely', 'ey', 'eye', 'eyewitness', 'eyj', 'eyku', 'eyw', 'ezemanalyst', 'fa', 'faa', 'faaaannntastic', 'faail', 'faanews', 'fab', 'fabulous', 'face', 'facebook', 'faced', 'faceless', 'facepalm', 'facility', 'facing', 'fact', 'fafqhsf', 'fail', 'failagain', 'failback', 'failed', 'failing', 'failingyourcustomer', 'fails', 'failure', 'faint', 'fair', 'faire', 'fairfax', 'fairly', 'fairway', 'faith', 'faithful', 'fake', 'fakeawards', 'fakesincerity', 'fall', 'fallen', 'falling', 'fallow', 'false', 'falseadvertising', 'fam', 'familiar', 'family', 'fan', 'fancy', 'fantastic', 'far', 'farce', 'fare', 'farecompare', 'farelock', 'fargo', 'fargoairport', 'fast', 'fasten', 'faster', 'fastest', 'fat', 'fate', 'father', 'fattire', 'fattuesday', 'fault', 'faulty', 'faundation', 'fav', 'fave', 'faves', 'favor', 'favorite', 'favoriteairline', 'fay', 'fb', 'fbtemfwrsp', 'fc', 'fcuk', 'fd', 'fe', 'fear', 'fearing', 'feature', 'feb', 'february', 'fec', 'feces', 'feck', 'fed', 'federal', 'fedex', 'fedexed', 'fedup', 'fee', 'feed', 'feedback', 'feel', 'feeling', 'feelingtheluv', 'fehqne', 'fell', 'fella', 'felt', 'fend', 'fernheinig', 'ferrissalameh', 'ferry', 'festival', 'festivity', 'fewer', 'ff', 'ffanixjhwh', 'ffc', 'ffl', 'fgrbpazsix', 'fh', 'fhes', 'fi', 'fianc', 'fiasco', 'fib', 'fiction', 'fidencio', 'fidifamilies', 'field', 'fifty', 'fight', 'figure', 'figured', 'file', 'filed', 'filing', 'fill', 'filled', 'filling', 'film', 'filmcrew', 'filmjobnoequipment', 'filthy', 'filthyplane', 'final', 'finale', 'finally', 'finalstretch', 'financial', 'find', 'findanothergate', 'finding', 'findurgrip', 'fine', 'finest', 'finger', 'fingerscrossed', 'finish', 'finnair', 'finq', 'fioretti', 'fire', 'fired', 'firefighter', 'firefox', 'firevan', 'firing', 'firm', 'first', 'firstclass', 'firststari', 'firstworldproblems', 'fist', 'fistfight', 'fit', 'fitz', 'five', 'fix', 'fixed', 'fixing', 'fixthis', 'fixyourstuff', 'fjbfsc', 'fka', 'fkn', 'fl', 'fla', 'flashlight', 'flat', 'flatiron', 'flattering', 'flaw', 'flawed', 'flbgzzkd', 'flcnnn', 'fleek', 'fleet', 'flew', 'flex', 'flexibility', 'flexible', 'flght', 'flgt', 'flier', 'flierfriendly', 'flight', 'flightation', 'flightations', 'flightattendant', 'flightaware', 'flightd', 'flightdelay', 'flighted', 'flightedflight', 'flightfail', 'flighting', 'flightlation', 'flightlations', 'flightled', 'flightledflight', 'flightling', 'flightly', 'flightn', 'flightnightmare', 'flightr', 'flightrs', 'flightst', 'fligt', 'fligth', 'fligths', 'flintstone', 'flip', 'flipped', 'flite', 'fll', 'fllairport', 'fllight', 'flood', 'floor', 'florida', 'flow', 'flower', 'flown', 'flt', 'flts', 'fluctuated', 'flutter', 'flwmgdahxu', 'fly', 'flyana', 'flybetter', 'flydelta', 'flydeltanexttime', 'flyeia', 'flyer', 'flyerfriendly', 'flyfi', 'flyfrontier', 'flying', 'flyingitforward', 'flyingwithus', 'flyitforward', 'flyjetblue', 'flyknoxville', 'flylaxairport', 'flypdx', 'flyquiet', 'flyrepublicair', 'flysaa', 'flysfo', 'flysouthwest', 'flyswa', 'flythefriendlyskies', 'flytpa', 'flyunited', 'flyus', 'flywhonotblue', 'flyyow', 'fm', 'fmipw', 'fmjtyl', 'fml', 'fmr', 'fmzzoltv', 'fnd', 'fo', 'focus', 'focused', 'fog', 'foh', 'fold', 'folder', 'folding', 'folk', 'follow', 'followback', 'followed', 'follower', 'following', 'follows', 'fong', 'food', 'foodallergies', 'foodallergy', 'fool', 'foolish', 'foot', 'footage', 'force', 'forced', 'forcedovernight', 'forcing', 'forecast', 'forecasted', 'foreign', 'forelock', 'foresight', 'forever', 'forfeit', 'forfeited', 'forget', 'forgets', 'forgetting', 'forgive', 'forgiven', 'forgot', 'forgotten', 'form', 'formal', 'formality', 'formally', 'format', 'former', 'formula', 'fornpf', 'fort', 'forth', 'fortunately', 'fortunemagazine', 'forty', 'forum', 'forward', 'forwarding', 'fostering', 'found', 'four', 'fourth', 'fox', 'foxnews', 'fp', 'fpcgrej', 'fproblems', 'fq', 'fr', 'fra', 'fraction', 'fran', 'france', 'franchise', 'francisco', 'frank', 'frankfurt', 'frankly', 'fraqdpkyga', 'fraud', 'frd', 'freak', 'freaked', 'freaking', 'freaky', 'freberg', 'fred', 'freddieawards', 'free', 'freedrinkcoupons', 'freeflight', 'freeze', 'freezing', 'french', 'freq', 'frequency', 'frequent', 'frequentflyer', 'frequentflyers', 'fresh', 'fresno', 'freyabevan', 'freyasfund', 'frghglmkqf', 'frhuxib', 'fri', 'fricken', 'friday', 'friend', 'friendliest', 'friendly', 'friendlyfriday', 'friendlyskies', 'friendlyteam', 'frigid', 'frigidfriday', 'fritz', 'frm', 'fro', 'fromthefrontseat', 'fron', 'front', 'frontier', 'frontrunner', 'froschtravel', 'froward', 'frowny', 'frozen', 'frozentoilet', 'fruit', 'frustrated', 'frustrating', 'frustratingly', 'frustration', 'fsd', 'fsqthg', 'fsw', 'ft', 'ftl', 'ftlauderdale', 'ftlauderdalesun', 'ftlzwtvo', 'ftmyers', 'ftw', 'ftzw', 'fu', 'fuchzrzjg', 'fuck', 'fucked', 'fucken', 'fuckin', 'fucking', 'fuckinlame', 'fuckoff', 'fudgers', 'fudgin', 'fuel', 'fueled', 'fuk', 'fuking', 'fulfill', 'fulfilled', 'full', 'fullprice', 'fully', 'fulmh', 'fun', 'func', 'functional', 'functionality', 'functionally', 'functioning', 'fund', 'funeral', 'funflightattendants', 'funited', 'funny', 'funnycaptain', 'fupf', 'furious', 'furnish', 'furrow', 'furryfiesta', 'fustrated', 'fusturated', 'future', 'fv', 'fvelcygz', 'fvf', 'fvj', 'fvk', 'fvlxirh', 'fvudmh', 'fw', 'fwa', 'fwd', 'fwiw', 'fwkj', 'fwy', 'fwzclbvug', 'fx', 'fxnv', 'fy', 'fyi', 'fyvrfn', 'fyybhjhl', 'ga', 'gabriela', 'gaga', 'gagent', 'gah', 'gain', 'gainesville', 'gal', 'gala', 'galaxy', 'galley', 'game', 'gameboy', 'gang', 'gangway', 'garage', 'garbage', 'garcia', 'gary', 'garywerk', 'gas', 'gassing', 'gastoncounty', 'gate', 'gatwick', 'gave', 'gay', 'gb', 'gbd', 'gcks', 'gcwvfuopl', 'gcy', 'gd', 'gdx', 'gdzadxzbya', 'gear', 'gee', 'geeeeezzzzz', 'geekandahalf', 'geekstiel', 'geez', 'geg', 'geiger', 'gem', 'general', 'generally', 'generated', 'generic', 'geneva', 'genious', 'genius', 'gent', 'gentleman', 'gently', 'genuine', 'genuinely', 'georgia', 'geraldine', 'germ', 'gerne', 'gerri', 'gesture', 'get', 'getaway', 'getconnected', 'getittogether', 'getmartyhome', 'getmehome', 'getmeoffrhisfuckinplane', 'getmeoffthisbird', 'getmeoffthisplane', 'getmeontop', 'getmeoutofhere', 'getmeouttahere', 'gettin', 'getting', 'gettingbetter', 'gettingthirsty', 'getyouracttogether', 'getyourlife', 'geyxby', 'gf', 'gfc', 'gfi', 'gg', 'ggreenwald', 'ghettofab', 'gi', 'giant', 'giennyqn', 'gift', 'gifting', 'gig', 'gill', 'gimme', 'gin', 'girl', 'girlfriend', 'girlsweekend', 'gist', 'give', 'given', 'givethoseladiesraise', 'giving', 'gj', 'gjqx', 'gjt', 'gkgkzlawpr', 'gla', 'glad', 'gladly', 'glasgow', 'glass', 'glenn', 'glitch', 'global', 'globe', 'glove', 'glowing', 'gluten', 'gm', 'gma', 'gmail', 'gml', 'gmvd', 'gn', 'gng', 'gnight', 'gnv', 'go', 'goal', 'gobankrupt', 'god', 'goddamn', 'godelta', 'gofundme', 'gogh', 'gogo', 'goin', 'going', 'goingforgreat', 'goingforgreatnessfail', 'gok', 'gold', 'golden', 'golf', 'golfunited', 'golfwithwoody', 'gom', 'gone', 'gong', 'gonmrwem', 'gonna', 'good', 'goodbye', 'goodcustomerservice', 'goodenoughmother', 'goodflight', 'goodgriefpeople', 'goodluckamericanair', 'goodness', 'goodthingscome', 'goodwill', 'google', 'goose', 'goosebayairport', 'gooutofbusiness', 'gopatriots', 'gopro', 'gorgeous', 'gosh', 'got', 'gotcha', 'gotta', 'gotten', 'gottogetbetter', 'gouzrdt', 'gov', 'government', 'governor', 'govt', 'gpu', 'gqdt', 'gqebfk', 'gqni', 'gqp', 'gr', 'grabbed', 'grace', 'gracias', 'gracious', 'grade', 'graduate', 'graduation', 'gramp', 'grand', 'grandbabies', 'grandcayman', 'grandfather', 'grandma', 'grandmother', 'grandpa', 'grandparent', 'granny', 'granting', 'graphic', 'grateful', 'gray', 'great', 'greatcustomerservice', 'greater', 'greatest', 'greatjob', 'greatly', 'greatservice', 'greed', 'greedy', 'greeeaat', 'green', 'greenfield', 'greensboro', 'greenville', 'greeting', 'greg', 'gregm', 'greyhoundbus', 'grief', 'grievance', 'grinding', 'gripeo', 'grk', 'grnd', 'groan', 'gross', 'grossed', 'grossedout', 'grouchy', 'ground', 'grounded', 'group', 'groupa', 'grouping', 'grow', 'grp', 'grr', 'grrrr', 'grrrrrrrr', 'grrwaaa', 'grt', 'gru', 'gruber', 'grumpy', 'grumpykim', 'gsa', 'gsb', 'gso', 'gsp', 'gt', 'gtdwpk', 'gth', 'gtsvyb', 'gtzxz', 'guacamole', 'guarantee', 'guaranteed', 'guardia', 'guatemala', 'guc', 'guess', 'guessing', 'guesstimate', 'guest', 'guidance', 'guide', 'guideline', 'guilty', 'guiltypleasures', 'guitar', 'gum', 'gun', 'gunna', 'guru', 'gusty', 'guy', 'guyyyys', 'gvn', 'gx', 'gxdqortss', 'gxvfumn', 'gxwi', 'gz', 'gzb', 'ha', 'habitrails', 'habitually', 'habyep', 'hack', 'hacked', 'hah', 'haha', 'hahah', 'hahaha', 'hahahah', 'hahahaha', 'hahahahaha', 'hair', 'haiti', 'haj', 'half', 'halfway', 'hammer', 'hamster', 'hand', 'handbag', 'handed', 'handedly', 'handicap', 'handicapped', 'handily', 'handing', 'handle', 'handled', 'handler', 'handling', 'handshake', 'handy', 'hang', 'hangar', 'hanged', 'hanger', 'hanging', 'hangup', 'hannah', 'happen', 'happend', 'happened', 'happening', 'happens', 'happier', 'happily', 'happiness', 'happy', 'happybirthday', 'happycamper', 'happycustomer', 'happyflier', 'happyfriday', 'happytohelp', 'happytweet', 'harass', 'harbor', 'hard', 'harder', 'hardest', 'hardly', 'hardtodo', 'hardworking', 'hare', 'harf', 'harris', 'harsh', 'hartford', 'hashtag', 'hassle', 'hasty', 'hat', 'hatch', 'hate', 'hated', 'hateful', 'hating', 'haul', 'havana', 'havent', 'havin', 'havoc', 'hawaii', 'hawaiian', 'hawaiianair', 'hayden', 'hayes', 'hayleymad', 'hazard', 'hb', 'hbg', 'hbsj', 'hbt', 'hcnpro', 'hcqzt', 'hd', 'hdn', 'hdndl', 'hdoxim', 'head', 'headache', 'headed', 'heading', 'headphone', 'health', 'hear', 'heard', 'hearing', 'heart', 'heartbroken', 'heartlanta', 'heartless', 'heat', 'heated', 'heathrow', 'heathrowairport', 'heattrap', 'heaven', 'heavily', 'heavy', 'heck', 'heel', 'hegshmeg', 'height', 'helacohlc', 'held', 'helene', 'hell', 'hella', 'heller', 'hello', 'hellobrittney', 'help', 'helped', 'helper', 'helpful', 'helpfulness', 'helpimstuck', 'helping', 'helpless', 'helpline', 'hemisphere', 'hence', 'henrikwagner', 'hep', 'hepknpuzwu', 'hepl', 'herb', 'herba', 'herbal', 'herded', 'herman', 'herndon', 'hero', 'hesitant', 'hey', 'heyo', 'heyyyy', 'hfho', 'hfjyn', 'hfof', 'hgqprsg', 'hgw', 'hh', 'hhagerty', 'hhoxqpsuba', 'hi', 'hiccup', 'hid', 'hidden', 'hide', 'higgs', 'high', 'higher', 'higherandhigher', 'highest', 'highlight', 'highly', 'hike', 'hilarious', 'hill', 'hillaconlin', 'hilo', 'hilton', 'hime', 'hindered', 'hint', 'hinted', 'hipster', 'hipunis', 'hirasmusbidragi', 'hire', 'hiremorepeople', 'hiremorepoeple', 'hiring', 'hishb', 'history', 'hit', 'hitawall', 'hitch', 'hitting', 'hj', 'hjucp', 'hlp', 'hlzahxkdsn', 'hm', 'hmcrjchb', 'hmmm', 'hmmqczkcf', 'hn', 'hnl', 'ho', 'hoagy', 'hof', 'hofmann', 'hold', 'holder', 'holding', 'holdtime', 'holdup', 'hole', 'holiday', 'holler', 'hollow', 'hollymais', 'holton', 'holy', 'home', 'homegirl', 'homeless', 'homeschool', 'hometown', 'homeward', 'homm', 'homosexual', 'hon', 'honalulu', 'honest', 'honestly', 'honesty', 'honey', 'honeymoon', 'honolulu', 'honor', 'honored', 'honoring', 'honululu', 'hoo', 'hoodlum', 'hook', 'hooked', 'hooooo', 'hoop', 'hooray', 'hoot', 'hop', 'hope', 'hoped', 'hopeful', 'hopefully', 'hopeidonotgetsick', 'hopeless', 'hopethegearmakesitintact', 'hopetogetanswersoon', 'hoping', 'hopkins', 'hormonal', 'horrendous', 'horrible', 'horribleattitudes', 'horriblecustomerservice', 'horribleservice', 'horribly', 'horrid', 'horrific', 'horror', 'horse', 'hosp', 'hospice', 'hospital', 'hospitality', 'hostage', 'hostel', 'hostile', 'hosting', 'hot', 'hotel', 'hotelliving', 'hotelstonight', 'hotl', 'hotline', 'hotmail', 'hotspot', 'hotter', 'hotterandlongerthanhell', 'hou', 'hour', 'hourandtenminutedelay', 'hourwait', 'hourwaitsucks', 'house', 'housing', 'houston', 'hover', 'however', 'howhardcanthatreallybe', 'howisthatpossible', 'hp', 'hpn', 'hpsqvrjk', 'hqdb', 'hqdtk', 'hqez', 'hqhdad', 'hqoks', 'hr', 'hrdelay', 'hrl', 'hrqq', 'hsmgy', 'hsmpbsf', 'hsnlgie', 'hstg', 'hsv', 'hts', 'http', 'hub', 'hubby', 'huclxluv', 'hug', 'huge', 'hugely', 'hughes', 'huh', 'hum', 'human', 'humanity', 'humiliated', 'humiliating', 'humor', 'humored', 'humour', 'humphrey', 'hundred', 'hung', 'hungary', 'hungry', 'hungupnohelp', 'hunky', 'hunt', 'huntsville', 'hurry', 'hurt', 'hurting', 'hury', 'hurz', 'husband', 'huston', 'huxleyesque', 'hv', 'hve', 'hvfqb', 'hwfkfo', 'hwnac', 'hxlnvzknp', 'hxsdp', 'hxvvis', 'hy', 'hyhw', 'hypocrisy', 'hyrao', 'ia', 'iad', 'iadore', 'iah', 'ialiceh', 'iamtedking', 'iata', 'ib', 'ibvvtzls', 'ic', 'ice', 'iced', 'iceland', 'icing', 'iconography', 'icu', 'icy', 'icyflight', 'id', 'idaho', 'idea', 'ideologias', 'ideserveareward', 'idiot', 'idiotic', 'idk', 'idlovetoask', 'idnumber', 'idol', 'idonotcare', 'idontwanttocallback', 'idra', 'ieg', 'iest', 'ifc', 'ifeeldumb', 'ifespcbztm', 'iflyalot', 'iflyswa', 'ifnjit', 'ifthe', 'ig', 'igiveup', 'igkogywksr', 'ignorant', 'ignore', 'ignored', 'ignores', 'ignoring', 'igqjn', 'ih', 'iha', 'ihatemergers', 'ihop', 'ii', 'iidrblnoox', 'iimtjxcvlg', 'iitojhuikh', 'ij', 'ijustwanttobeinboston', 'ikbp', 'ikqbdza', 'il', 'ilc', 'ill', 'illegal', 'illiterate', 'illness', 'illogical', 'ilm', 'ilqzmmjiyq', 'ilw', 'im', 'image', 'imagine', 'imagined', 'imaginedragons', 'imateacher', 'imdckodfx', 'imdetermined', 'imh', 'imjustsaying', 'imma', 'immediate', 'immediately', 'immensely', 'imo', 'impact', 'impaired', 'impatience', 'impatient', 'impediment', 'impending', 'impersonal', 'implement', 'impolite', 'important', 'importantflight', 'impossible', 'impossibly', 'impress', 'impressed', 'impression', 'impressive', 'improper', 'improve', 'improved', 'improvement', 'improvetheprocess', 'imrlau', 'imtired', 'imvmpnqxai', 'in', 'inability', 'inaccessibility', 'inaccurate', 'inadequate', 'inappropriate', 'inappropriately', 'inbound', 'inbox', 'inc', 'incapable', 'incedentals', 'incentive', 'inch', 'inchecking', 'incident', 'incidental', 'incidentally', 'incl', 'inclement', 'incls', 'include', 'included', 'includes', 'including', 'inclusion', 'income', 'incoming', 'incompetence', 'incompetency', 'incompetent', 'incompetentmanagers', 'incomprehensible', 'inconsiderate', 'inconsistent', 'inconvenience', 'inconvenienced', 'inconvenient', 'inconveniently', 'inconvience', 'incorrect', 'incorrectly', 'increased', 'increasing', 'incredible', 'incredibly', 'increment', 'incur', 'incurred', 'ind', 'indeed', 'independence', 'india', 'indian', 'indianapolis', 'indicated', 'indicates', 'indicating', 'indication', 'indignation', 'individual', 'induce', 'industry', 'indy', 'inebriated', 'inedible', 'ineedabeer', 'ineedcoffee', 'inefficiency', 'inefficient', 'ineligible', 'inept', 'inevitable', 'inexcusable', 'inexpensive', 'inexperienced', 'infant', 'inferior', 'infinite', 'inflatable', 'inflating', 'inflation', 'inflexible', 'inflight', 'influx', 'info', 'infographic', 'inform', 'information', 'informative', 'informed', 'informing', 'informs', 'infringement', 'infuriated', 'infuriating', 'ing', 'ingeniero', 'inhumane', 'initial', 'injured', 'injury', 'inline', 'inner', 'innovacion', 'innovation', 'innp', 'inoperable', 'inpolite', 'input', 'inputted', 'inquire', 'inquired', 'inquiry', 'insane', 'insanely', 'insanity', 'insensitive', 'inserted', 'inside', 'insider', 'insight', 'insist', 'insisted', 'inspected', 'inspiration', 'inspired', 'inspiring', 'instagram', 'installed', 'instance', 'instant', 'instantly', 'instead', 'institutional', 'instructed', 'instruction', 'instrument', 'insubstantial', 'insufficient', 'insulin', 'insult', 'insulted', 'insulting', 'insurance', 'insure', 'int', 'intact', 'integrate', 'integrating', 'integration', 'integrity', 'intel', 'intelligence', 'intelligent', 'intend', 'intended', 'intent', 'intention', 'intentional', 'intentionally', 'interaction', 'interchangeably', 'intercom', 'intercontinental', 'interest', 'interested', 'interesting', 'interfering', 'interim', 'interior', 'intern', 'internal', 'internally', 'international', 'internationally', 'internet', 'internship', 'interpreting', 'interrogated', 'interrupted', 'interupt', 'interview', 'interviewed', 'intl', 'intlcheckin', 'intra', 'intro', 'intrusive', 'invalid', 'inventory', 'invest', 'investigate', 'investigated', 'investigation', 'investment', 'investor', 'invitation', 'invitational', 'invite', 'invited', 'invoice', 'involuntarily', 'involve', 'involved', 'io', 'iol', 'ionlyflyblue', 'iosphm', 'iowa', 'ip', 'ipaamzt', 'ipad', 'ipgeicsm', 'iphone', 'iqr', 'iqu', 'ir', 'iraiq', 'irate', 'irene', 'irina', 'irixaifjjx', 'irmafromdallas', 'iron', 'ironman', 'irregularity', 'irreplaceable', 'irresponsible', 'irritated', 'irritating', 'irrops', 'iruvg', 'isabelle', 'isdelayed', 'ish', 'ishouldhavedriven', 'isi', 'isit', 'isitsummeryet', 'isitthegarykellyway', 'island', 'isml', 'isnt', 'isp', 'israel', 'issue', 'issued', 'issuing', 'istead', 'isthisreal', 'isthisyourfirsttry', 'istudios', 'italian', 'italy', 'item', 'itfits', 'ithaca', 'ithica', 'itinerary', 'itis', 'itover', 'itscold', 'itscostingmeincome', 'itslaloca', 'itsthelittlethings', 'itunesmusic', 'iusedtoloveu', 'iux', 'ive', 'ivgpzsjtkw', 'ivr', 'iwantcoffee', 'iwantmymoneyback', 'iwoigrlhxb', 'ix', 'ixm', 'iy', 'iyhi', 'iyuzm', 'iz', 'izfofgjzui', 'ja', 'jabevan', 'jac', 'jack', 'jackass', 'jacked', 'jacket', 'jackson', 'jacksonville', 'jacpmch', 'jacqueline', 'jacquelyn', 'jacquie', 'jail', 'jailbreak', 'jal', 'jam', 'jamaica', 'james', 'jamesasworth', 'jameskraw', 'jameswester', 'jamie', 'jammed', 'jan', 'jana', 'jane', 'janet', 'january', 'japan', 'jaramillo', 'jaskyplwt', 'jason', 'jasonwhitely', 'javascript', 'jax', 'jayvig', 'jazn', 'jb', 'jblu', 'jbn', 'jbpc', 'jbyvmsod', 'jcd', 'jcediky', 'jdhadp', 'jdver', 'jdvk', 'je', 'jealous', 'jean', 'jeanette', 'jeanine', 'jedediah', 'jedediahbila', 'jeff', 'jeffsmisek', 'jena', 'jennifer', 'jenniferdawnpro', 'jenniferwalshpr', 'jeokoo', 'jeopardy', 'jerk', 'jersey', 'jessicajaymes', 'jesus', 'jet', 'jetbae', 'jetblue', 'jetblueanyone', 'jetblueblues', 'jetbluebos', 'jetbluebruins', 'jetbluefail', 'jetbluehatesbtv', 'jetbluemember', 'jetbluemess', 'jetbluerocks', 'jetblues', 'jetbluesofly', 'jetbluesucks', 'jetbridge', 'jetgreen', 'jetred', 'jetscrew', 'jetsetter', 'jetway', 'jetways', 'jeu', 'jewel', 'jfiik', 'jfk', 'jfps', 'jfxua', 'jgor', 'jh', 'jhau', 'jhughes', 'ji', 'jide', 'jieycat', 'jim', 'jimcramer', 'jimdaytv', 'jimmy', 'jimtrotter', 'jindalcmc', 'jj', 'jjdosfyibm', 'jjia', 'jjje', 'jk', 'jkf', 'jknwugj', 'jlhalldc', 'jlhm', 'jm', 'jms', 'jn', 'jnpjm', 'joanna', 'joanne', 'job', 'jobfail', 'joe', 'john', 'johnwayneair', 'join', 'joined', 'joke', 'joker', 'jokesonus', 'joking', 'jon', 'joni', 'jordnnicole', 'jorescfb', 'jorge', 'jose', 'josephtreis', 'journal', 'journalist', 'journey', 'joy', 'jp', 'jparkermastin', 'jpd', 'jps', 'jq', 'jr', 'jrbzlhrw', 'jrm', 'jruv', 'jsom', 'jsumiyasu', 'jt', 'jtrexsocial', 'ju', 'jua', 'juan', 'juda', 'judeo', 'jul', 'julesdameron', 'julgood', 'julian', 'juliasinton', 'julie', 'july', 'jump', 'jumped', 'jumping', 'jun', 'junction', 'june', 'junk', 'justdippin', 'justdoit', 'justgetmehome', 'justify', 'justifythissupport', 'justsayin', 'justsaying', 'justwantmybed', 'justwrong', 'justynmoro', 'jv', 'jvj', 'jvmchat', 'jvstatus', 'jwa', 'jx', 'jxqep', 'jy', 'kacy', 'kaej', 'kaha', 'kairys', 'kak', 'kangaroo', 'kanne', 'kansa', 'kaps', 'karaax', 'karen', 'karren', 'kat', 'kate', 'kathryn', 'kathrynsotelo', 'katie', 'kauai', 'kax', 'kay', 'kb', 'kbkx', 'kbtzvju', 'kc', 'kci', 'kciairport', 'kcqebeej', 'kcvubuyexc', 'kdcsxu', 'kdepetro', 'kdmq', 'kdzqczlpyr', 'keambleam', 'kee', 'keep', 'keeping', 'keepingit', 'keepingtraditionsalive', 'keepit', 'keepitmovin', 'keepitup', 'keepusguessing', 'keithlaw', 'kej', 'kek', 'kelly', 'kenoh', 'kentuckymbb', 'kept', 'ker', 'kerry', 'ketr', 'keulg', 'kevin', 'kevinswan', 'kevolt', 'key', 'kfd', 'kfjd', 'kfuyyokufv', 'kg', 'kgdh', 'ki', 'kick', 'kicked', 'kicking', 'kid', 'kidding', 'kidnapped', 'kieranmahan', 'kigfkvxxdq', 'kihge', 'kill', 'killed', 'killing', 'kim', 'kind', 'kinda', 'kinder', 'kindle', 'kindly', 'kindness', 'king', 'kiosk', 'kiss', 'kit', 'kitchen', 'kitty', 'kix', 'kj', 'kkedjnrtwo', 'kkwhb', 'kkwiwi', 'kkyby', 'kleinerin', 'klzvmt', 'km', 'kmdw', 'kmm', 'kmquly', 'kn', 'knad', 'knee', 'kneee', 'knew', 'know', 'knowing', 'knowledge', 'known', 'knoxville', 'koa', 'kooples', 'korea', 'kp', 'kphl', 'kpyhcka', 'kq', 'kqb', 'kqlhvap', 'kqz', 'kr', 'kravitz', 'krescate', 'kristi', 'kshtue', 'ksml', 'ktawbiuuro', 'kthxbai', 'ktk', 'ktm', 'ktn', 'ktssk', 'kudos', 'kurt', 'kv', 'kvfwajvvid', 'kvkd', 'kvm', 'kwbk', 'kwuek', 'ky', 'kyjbcjm', 'kylecomer', 'kylejudah', 'kyrbyj', 'kzbvf', 'kzkyzrr', 'la', 'labeled', 'labor', 'labrador', 'labyrinth', 'lack', 'lacked', 'lacking', 'lacma', 'ladan', 'laden', 'lady', 'ladygaga', 'lag', 'lagging', 'lagos', 'laguardia', 'laguardiaair', 'lai', 'laiggef', 'laissez', 'lake', 'lame', 'lamp', 'lan', 'land', 'landed', 'landing', 'lane', 'language', 'lap', 'lapse', 'laptop', 'large', 'larger', 'largest', 'larive', 'larkc', 'larry', 'lasairport', 'last', 'lasted', 'lastella', 'lastflightofthenight', 'lastflightwithyouever', 'lastly', 'lastnight', 'lasttweetaboutthis', 'late', 'latimes', 'latinamerican', 'latrice', 'latter', 'lauderdale', 'laugh', 'laughed', 'laughing', 'launched', 'launder', 'laundry', 'laura', 'laurasbrown', 'lauren', 'laurieameacham', 'lav', 'lavatory', 'lavoratories', 'law', 'lawsuit', 'lawyer', 'lawyerup', 'lax', 'lay', 'layover', 'lazy', 'lb', 'lbairport', 'lbb', 'lbzxtrx', 'ld', 'ldy', 'le', 'lea', 'lead', 'leader', 'leadership', 'leading', 'leaf', 'league', 'leah', 'leak', 'leaking', 'learn', 'learncustomerservice', 'learned', 'learning', 'learnt', 'lease', 'least', 'leastthebeverageswillbecold', 'leather', 'leatherseats', 'leathery', 'leave', 'leaving', 'leavingtomm', 'led', 'leeds', 'left', 'leg', 'legacy', 'legal', 'legalizes', 'leggieri', 'legit', 'legitimate', 'legitimately', 'legroom', 'leinenkugels', 'leisure', 'lekvhg', 'lemme', 'lenaowfyvu', 'lend', 'length', 'lengthy', 'lens', 'leopolds', 'lesliewolfson', 'lesscustomer', 'lessening', 'lesson', 'let', 'letdown', 'letsgo', 'letsgohome', 'letter', 'letting', 'level', 'leverage', 'lex', 'lexington', 'lf', 'lft', 'lfulcbq', 'lga', 'lgb', 'lgbt', 'lgeg', 'lghpcdu', 'lh', 'lhr', 'lhrdfw', 'lhrt', 'lhwfbkfyni', 'liable', 'liar', 'liberty', 'library', 'license', 'lick', 'lie', 'lied', 'lieflat', 'life', 'lifeisgood', 'lifeneedsfrosting', 'lifesaver', 'lifetime', 'lifevests', 'lift', 'liftin', 'lifting', 'light', 'lightbulb', 'lighting', 'lightly', 'lightning', 'like', 'likeagirl', 'likelihood', 'likely', 'likingyoulessandless', 'lil', 'lima', 'limbo', 'limit', 'limited', 'lin', 'lindsey', 'line', 'lined', 'linesforever', 'lineup', 'lining', 'link', 'linked', 'linking', 'lio', 'lip', 'lipstick', 'lisa', 'lisapal', 'list', 'listed', 'listen', 'listened', 'listening', 'listens', 'lister', 'lit', 'lite', 'literally', 'litter', 'little', 'littlebirds', 'live', 'lived', 'lively', 'livepersonplease', 'livery', 'livewelltraveled', 'livid', 'living', 'livvyports', 'liza', 'lizaapproved', 'lizautter', 'lj', 'ljabn', 'ljzdthd', 'lkfh', 'lkqjw', 'lla', 'llg', 'lloyd', 'lly', 'lm', 'lmao', 'lme', 'lmfao', 'lmk', 'lmp', 'lnded', 'lo', 'load', 'loaded', 'loading', 'loan', 'loaned', 'loaner', 'lobstermac', 'loc', 'local', 'localized', 'locally', 'locate', 'located', 'locating', 'location', 'locator', 'lock', 'locked', 'lodge', 'lodging', 'loeco', 'loft', 'log', 'logan', 'loganairports', 'loganex', 'logged', 'logic', 'logical', 'login', 'logistically', 'logistics', 'logo', 'logout', 'lol', 'london', 'lone', 'loner', 'long', 'longbeachairport', 'longbeachcity', 'longday', 'longer', 'longstanding', 'look', 'looked', 'lookforwardtoflywithaa', 'lookin', 'looking', 'looong', 'loooooong', 'loop', 'looped', 'loose', 'loosing', 'lopezlaymari', 'lord', 'los', 'lose', 'loser', 'loses', 'losing', 'loss', 'lost', 'lostacustomer', 'lostandforgotten', 'lostbags', 'lostluggage', 'lostmybusiness', 'lostrevenue', 'lostsuitcase', 'lot', 'lotttttttt', 'lou', 'loud', 'louder', 'loudly', 'loudspeaker', 'louis', 'louisville', 'lounge', 'louprice', 'lousy', 'love', 'loved', 'lovedflyingwiththem', 'loveeee', 'loveisintheair', 'lovejetblue', 'loveloughneagh', 'lovely', 'lovesongfriday', 'lovesouthwestair', 'loving', 'low', 'lowdown', 'lower', 'lowercase', 'lowered', 'loweredexpectations', 'lowest', 'lowstandards', 'loyal', 'loyalmosaicmember', 'loyalrrmember', 'loyalty', 'lpmu', 'lrf', 'lrfo', 'lrxdn', 'lsn', 'lsybglf', 'lt', 'ltaljx', 'ltf', 'ltr', 'ltwhmol', 'lubbock', 'lucas', 'lucia', 'luck', 'luckily', 'lucky', 'lucy', 'lucycat', 'lufthansa', 'luggage', 'luggagegate', 'lugging', 'lulgnweffh', 'lunch', 'lunchtime', 'lung', 'luv', 'luvagent', 'luvforsw', 'luvisbetter', 'luvsw', 'luvswa', 'luxclark', 'luxurious', 'luxury', 'luz', 'lv', 'lve', 'lvirtdtqly', 'lwjazioa', 'lx', 'lxa', 'lxur', 'lxwbsfxfj', 'lying', 'lynchburg', 'lynn', 'lyoocx', 'lyuxazg', 'maarten', 'maatkare', 'mac', 'macario', 'machine', 'macm', 'mad', 'madbee', 'maddening', 'maddie', 'made', 'madhouse', 'madness', 'madrid', 'mag', 'magazine', 'magic', 'magical', 'magically', 'mail', 'mailbox', 'mailing', 'maimi', 'main', 'maine', 'maint', 'maintain', 'maintained', 'maintenance', 'maintenece', 'mait', 'major', 'make', 'makeovertime', 'makeup', 'making', 'male', 'malfunction', 'malfunctioning', 'malhoit', 'mallowfairy', 'malpensa', 'maltese', 'mama', 'mammoth', 'man', 'manage', 'managed', 'management', 'manager', 'managing', 'manana', 'manch', 'manchester', 'mandarinjourney', 'mandatory', 'maneuver', 'manifest', 'manilla', 'manned', 'manner', 'manual', 'manually', 'manuel', 'many', 'map', 'maqw', 'mar', 'marathon', 'marccopely', 'march', 'marciaveronicaa', 'marcnocwzn', 'marcos', 'marcus', 'mardigras', 'margo', 'marie', 'marieharf', 'marinadomine', 'mario', 'marisol', 'mark', 'marked', 'market', 'marketing', 'marketwatch', 'markie', 'maro', 'marriott', 'marriottrewards', 'marry', 'marsha', 'marshaled', 'marshall', 'martin', 'martysg', 'marxsterbcow', 'mary', 'maryella', 'maryjo', 'mask', 'mason', 'mass', 'massage', 'massive', 'master', 'mastercard', 'mat', 'match', 'mate', 'math', 'matt', 'matter', 'matthewebel', 'mattthomasnews', 'mauererpower', 'maui', 'maverick', 'mavigetbbw', 'max', 'maxabrahms', 'maximization', 'may', 'maybe', 'maybeijustlost', 'maybemange', 'mayweather', 'mayweatherpacquiao', 'mb', 'mbj', 'mbk', 'mbltalr', 'mbps', 'mbr', 'mc', 'mccaren', 'mccarran', 'mce', 'mci', 'mckinnie', 'mclarren', 'mcmullen', 'mco', 'mcsi', 'md', 'mdbeei', 'mde', 'mdn', 'mdnw', 'mdw', 'meal', 'mean', 'meaning', 'meaningful', 'meant', 'meantime', 'meanwhile', 'measles', 'measly', 'measured', 'meat', 'mech', 'mechanic', 'mechanical', 'mechanicalissue', 'med', 'medal', 'medical', 'medicalissue', 'medication', 'mediocre', 'medium', 'meelan', 'meet', 'meeting', 'mega', 'megelizabeth', 'megentripodi', 'meggersrocks', 'megzezzo', 'meh', 'mejia', 'melaniespring', 'melbourne', 'melinda', 'melissa', 'melissaafrancis', 'mellani', 'melting', 'mem', 'member', 'membership', 'memgrizz', 'memo', 'memorial', 'memorize', 'memory', 'memphis', 'ment', 'mental', 'mentality', 'mention', 'mentioned', 'mentioning', 'menu', 'meoalcipdd', 'meozbo', 'mercy', 'mere', 'merge', 'merged', 'merger', 'mergerdisaster', 'merging', 'mess', 'message', 'messaged', 'messaging', 'messed', 'messing', 'met', 'metal', 'method', 'metro', 'mex', 'mexico', 'mf', 'mfd', 'mfmnkmvotr', 'mfps', 'mga', 'mgb', 'mgmt', 'mgr', 'mh', 'mhmkdivl', 'mhqgd', 'mhtt', 'mi', 'mia', 'miaa', 'miami', 'miamore', 'miatoiah', 'michael', 'michaelbcoleman', 'michele', 'mid', 'middle', 'middleeast', 'mideast', 'midght', 'midland', 'midnight', 'midnite', 'midoexhibition', 'midterm', 'midway', 'might', 'mightmismybrosgraduation', 'mighty', 'miguel', 'mike', 'mikehertz', 'milageplus', 'milan', 'mild', 'mile', 'mileage', 'mileageplus', 'mileagerun', 'milehighselfieclub', 'miler', 'milestone', 'military', 'million', 'mimosa', 'min', 'mind', 'mine', 'mini', 'minimal', 'minimum', 'minneapolis', 'minor', 'mint', 'mintalicious', 'mintyfresh', 'minute', 'miracle', 'miranda', 'miriam', 'misbehavior', 'miscalculation', 'miscnx', 'miscommunicated', 'misconnected', 'miscounting', 'miserable', 'miserablemorning', 'miserably', 'misery', 'misfortune', 'misguided', 'mishap', 'misinformation', 'mislead', 'misleading', 'mismanagement', 'misplace', 'misplaced', 'miss', 'missed', 'missedconnection', 'missedflight', 'missedupgrades', 'missedwork', 'missin', 'missing', 'missingtheoscars', 'mission', 'missmykids', 'misspelled', 'mistake', 'mistakefurious', 'mistreated', 'mistreatment', 'misunderstanding', 'misunderstood', 'mitchell', 'mitchellairport', 'mitchsunderland', 'mite', 'mix', 'mixtape', 'mizc', 'mj', 'mjkpgvxmpc', 'mjtk', 'mk', 'mka', 'mke', 'mktg', 'ml', 'mli', 'mllovelace', 'mmmubb', 'mmq', 'mn', 'mnl', 'mnth', 'mo', 'mobil', 'mobile', 'mobility', 'model', 'modelodenegocio', 'modification', 'modify', 'moines', 'mojave', 'mold', 'mom', 'moment', 'momma', 'mommy', 'momsgoodeats', 'mon', 'monday', 'monetary', 'money', 'moneynotspentonunited', 'monica', 'monika', 'monitor', 'monitoring', 'monopoly', 'mont', 'montana', 'montego', 'monterey', 'montereyregionalairport', 'month', 'monthly', 'montrose', 'mood', 'moodlighting', 'moodlitmonday', 'mooks', 'moon', 'moose', 'mor', 'morn', 'morning', 'morrw', 'mortified', 'mosaic', 'mosaicmecrazy', 'mosiacfail', 'mostly', 'mot', 'mother', 'motion', 'motor', 'motto', 'mountain', 'mouse', 'mouth', 'move', 'moveaboutthecountry', 'moved', 'movement', 'moveup', 'movie', 'moving', 'mph', 'mpi', 'mpnaaje', 'mqezxvdh', 'mqfmxebxt', 'mr', 'mrfbjtepef', 'mrn', 'mrrenevendez', 'ms', 'msbgu', 'msg', 'msh', 'msnbc', 'msp', 'msscottwg', 'msy', 'mt', 'mtff', 'mtg', 'mthm', 'mths', 'mtn', 'much', 'mugged', 'muh', 'multi', 'multibillion', 'multimillion', 'multinational', 'multiple', 'mumbai', 'mumbled', 'mundane', 'murdering', 'murphyjulie', 'music', 'musical', 'musician', 'must', 'muzak', 'mv', 'mvmt', 'mvyoizrpde', 'mw', 'mwa', 'mwangbickler', 'mwbk', 'mwflg', 'mxo', 'mxp', 'myers', 'mynzitcovn', 'myr', 'myrtle', 'mysterious', 'mystery', 'mytimeismoney', 'na', 'nada', 'nade', 'nader', 'naelah', 'nah', 'naia', 'nail', 'nailed', 'nakedmeetings', 'name', 'named', 'nanceebing', 'nancy', 'nano', 'nantucket', 'naomi', 'nap', 'napkin', 'naples', 'narita', 'narrow', 'narrower', 'narrowly', 'nascar', 'nasdaq', 'nashville', 'nassau', 'nastiest', 'nasty', 'nathankillam', 'nation', 'national', 'nationalairpor', 'nationalized', 'nationwide', 'natprodexpo', 'natt', 'nature', 'naval', 'navimumbai', 'navy', 'naxbue', 'nbc', 'nbpcjcpew', 'nbr', 'nbsnewsr', 'nburnside', 'nbz', 'nbzkhizf', 'nc', 'ncb', 'ncrmqibiwo', 'nd', 'ndary', 'ndtlj', 'ndward', 'ne', 'near', 'nearby', 'nearly', 'necessary', 'necessity', 'need', 'needed', 'needing', 'needlessly', 'needtobehonest', 'needtocatchmynextflight', 'needtogethome', 'nef', 'negative', 'negativedegrees', 'negatively', 'neglect', 'neglected', 'negligence', 'negligent', 'negotiate', 'nehnsdckty', 'neighbor', 'neighboring', 'neither', 'nelsjeff', 'nephew', 'neptune', 'neqm', 'nerdbird', 'nerve', 'nervous', 'net', 'netherlands', 'network', 'neuer', 'neurosurgery', 'nev', 'neveind', 'never', 'neveragain', 'neverchange', 'neverfails', 'neverflyaaagain', 'neverflyunited', 'neverflyusairways', 'neverflyvirgin', 'neverflyvirginforbusiness', 'nevergettinghome', 'neverontime', 'nevertoldus', 'neveryamind', 'new', 'newamerican', 'newamericanairline', 'newark', 'newburg', 'newburgh', 'newest', 'newflight', 'newly', 'neworleans', 'newplanesmell', 'news', 'newsbayarea', 'newsbusiness', 'newspaper', 'newsvp', 'newyork', 'next', 'nexttimeiwillflysouthwest', 'nexus', 'nfaqhhr', 'nfl', 'nfszh', 'ngg', 'nghmie', 'nght', 'ngxal', 'nh', 'nhlbruins', 'nhlonnbcsports', 'niagara', 'nice', 'nicely', 'nicer', 'nicest', 'nickcunningham', 'nickeled', 'nicole', 'niece', 'nigeria', 'nigga', 'niggaz', 'night', 'nightlife', 'nightmare', 'nightmarish', 'nikon', 'ninadavuluri', 'nine', 'nit', 'nite', 'nitrogen', 'nivw', 'nj', 'njairports', 'nk', 'nklozcntto', 'nl', 'nlip', 'nlniu', 'nlzs', 'nm', 'nmaryland', 'nny', 'noaccountability', 'noah', 'noair', 'noapology', 'nobackup', 'nobody', 'noc', 'nocareforcustomers', 'noclothesnoinfo', 'nocoatcloset', 'nocommunication', 'nocompensation', 'nocrew', 'nocustomerservice', 'nodrinks', 'noexcuses', 'noexcusesaccepted', 'nofg', 'nofilterneeded', 'nofood', 'nofun', 'nofunatall', 'nogate', 'nogood', 'nohelp', 'nohotel', 'nokidhungry', 'nola', 'nolo', 'nolove', 'noloveforsurfers', 'noltnancy', 'noluv', 'nomoaa', 'nomorecheckedbags', 'nomorevirgin', 'non', 'none', 'noneother', 'nonewplanes', 'nonexistent', 'nonperformance', 'nonprofit', 'nonrefundable', 'nonsense', 'nonstop', 'nonupgrade', 'nonworking', 'noodle', 'noon', 'noone', 'noooo', 'nooooo', 'noooooooooooooooooo', 'nooption', 'nope', 'noplacelikehome', 'nopq', 'noreimbursement', 'norfolk', 'norm', 'norma', 'normal', 'normally', 'norris', 'north', 'northeast', 'northern', 'norush', 'norway', 'nosecuritylines', 'nosedived', 'noservice', 'noshadetothedmv', 'nostalgic', 'nosupport', 'notafanofyourmerger', 'notahappycustomer', 'notanymore', 'notbabysitters', 'notch', 'notcomingback', 'notcool', 'note', 'noted', 'notevenjv', 'notfair', 'notgoodenough', 'nothanks', 'nothappy', 'nothin', 'nothing', 'notice', 'noticed', 'noticing', 'notification', 'notified', 'notify', 'notifying', 'notimpressed', 'noting', 'notion', 'notmadeofmoney', 'notmyfault', 'notnice', 'notokay', 'notourfaultyoudontuseyourgatesright', 'notpghtimothy', 'notsatisfied', 'notwheelsup', 'nov', 'novel', 'november', 'nowarmclothes', 'nowhere', 'nowhereland', 'noworstairline', 'noxtralegroom', 'nozzle', 'npbhd', 'npxb', 'nq', 'nrhodes', 'nrosenb', 'nrt', 'nruovts', 'nsgrt', 'nsjwvttjgo', 'nt', 'ntgl', 'nthin', 'nto', 'ntptr', 'ntrustopen', 'ntuix', 'nu', 'nudgenudge', 'nue', 'nuhplnxriq', 'nullified', 'num', 'number', 'numerous', 'nut', 'nutella', 'nutsaboutsouthwest', 'nvlnglnmgn', 'nvr', 'nw', 'nwf', 'nwk', 'nxqijcojnj', 'nxt', 'ny', 'nyc', 'nye', 'nyfw', 'nygn', 'nyjets', 'nyprzl', 'nyt', 'nytimes', 'nyvv', 'nywr', 'nz', 'nzh', 'nzherald', 'oaaret', 'oahu', 'oak', 'oakland', 'oardjjgrrd', 'obama', 'obcepp', 'obey', 'obf', 'obj', 'obmr', 'obnoxious', 'obqiro', 'obscene', 'observation', 'observe', 'obsessed', 'obsolete', 'obtain', 'obvious', 'obviously', 'oc', 'occasion', 'occupied', 'occupy', 'occur', 'occurred', 'occurs', 'ocean', 'ocpteq', 'ocqk', 'oct', 'octaviannightmare', 'october', 'octp', 'od', 'odd', 'odds', 'odugfqk', 'oez', 'offended', 'offender', 'offensive', 'offensively', 'offer', 'offered', 'offering', 'office', 'officer', 'official', 'officially', 'offline', 'offload', 'offloading', 'oficial', 'oflol', 'often', 'ofw', 'ogg', 'oh', 'ohare', 'ohio', 'ohk', 'ohno', 'ohokl', 'oi', 'oil', 'oilncfweyg', 'ojrsdwpkk', 'ok', 'okay', 'okayyyy', 'okc', 'okcthunder', 'okee', 'okie', 'oklji', 'oktukjy', 'olavarria', 'old', 'older', 'oldplanes', 'oldpolicieswaybetter', 'olive', 'olsi', 'olympic', 'om', 'oma', 'omaha', 'omg', 'omgee', 'oml', 'omzqavi', 'onboard', 'oncs', 'ondemand', 'one', 'onechildfourbags', 'onehouronhold', 'onelove', 'oneworld', 'onfleek', 'ongoing', 'onhold', 'onholdfordays', 'onholdforever', 'onholdwith', 'onhxhco', 'onion', 'online', 'onlyinamerica', 'onlywaytofly', 'ons', 'ont', 'ontarmac', 'ontime', 'onto', 'ooh', 'oopjpwg', 'oops', 'op', 'opal', 'opaque', 'open', 'opened', 'opening', 'openskies', 'operate', 'operated', 'operating', 'operation', 'operational', 'operator', 'opinion', 'opportunity', 'opposed', 'opposite', 'oprah', 'ops', 'opsec', 'opt', 'option', 'opxkxch', 'oqaveo', 'oqukso', 'oqz', 'orange', 'orangecounty', 'orbitz', 'ord', 'ordeal', 'order', 'ordered', 'ordering', 'ordnoise', 'oregon', 'oreo', 'orf', 'org', 'organization', 'organizational', 'organized', 'orig', 'origami', 'origin', 'original', 'originally', 'originating', 'orl', 'orlando', 'orlandosentinel', 'orleans', 'orthodoc', 'ory', 'osc', 'oscar', 'oscarscountdown', 'osjz', 'osox', 'ot', 'otfz', 'others', 'otherwise', 'othr', 'otis', 'otlzak', 'ots', 'ottawa', 'otty', 'ou', 'ouch', 'oui', 'oumc', 'ourguest', 'ourprincess', 'outage', 'outbound', 'outbreak', 'outcome', 'outdated', 'outfitted', 'outlet', 'outline', 'outlook', 'outofbusiness', 'outpost', 'outrage', 'outraged', 'outrageous', 'outright', 'outside', 'outsource', 'outsourcing', 'outstanding', 'outta', 'outtage', 'outward', 'overall', 'overbk', 'overbook', 'overbooked', 'overcharge', 'overcharged', 'overcharging', 'overchging', 'overfilled', 'overflight', 'overflow', 'overflowed', 'overhaul', 'overhead', 'overheating', 'overkill', 'overload', 'overloaded', 'overlooking', 'overnight', 'overpriced', 'overseas', 'overselling', 'oversize', 'oversized', 'oversleeping', 'oversold', 'overtime', 'overweight', 'overwhelmed', 'overwhelming', 'overzealous', 'ow', 'owe', 'owen', 'owes', 'owner', 'ownership', 'owning', 'owohd', 'oxgen', 'oxm', 'oxsa', 'oxy', 'oy', 'oylgeao', 'oz', 'ozs', 'pa', 'pabort', 'pac', 'pace', 'pacific', 'pacificbiznews', 'pacify', 'pack', 'package', 'packed', 'packermama', 'packing', 'pacquiao', 'pact', 'pad', 'padresst', 'pafe', 'page', 'paged', 'paid', 'pain', 'painandsuffering', 'painful', 'painfully', 'painless', 'paint', 'painted', 'pair', 'pairing', 'pale', 'palm', 'pamgrout', 'pamper', 'panam', 'panamerican', 'pancho', 'pandora', 'panic', 'pant', 'panynj', 'paper', 'paperwork', 'par', 'parachuteguy', 'paradise', 'parameter', 'paranoid', 'parent', 'parhetic', 'paris', 'park', 'parked', 'parker', 'parking', 'parryaftab', 'part', 'partial', 'participate', 'particular', 'particularly', 'partly', 'partner', 'partnering', 'partnerrewards', 'partnership', 'party', 'pas', 'pascucci', 'paseengers', 'pasengers', 'paso', 'pass', 'passbook', 'passed', 'passenegers', 'passenger', 'passengerbillofrights', 'passengersarepeople', 'passengerslose', 'passing', 'passion', 'passive', 'passport', 'password', 'past', 'pasta', 'paste', 'pasting', 'pastmypatienceexpirationdate', 'pastor', 'pat', 'patch', 'path', 'pathetic', 'patheticcx', 'patience', 'patienceiswearingthin', 'patient', 'patiently', 'patriarc', 'patrichruben', 'patrick', 'patron', 'patronizing', 'pattern', 'pattonoswalt', 'paulo', 'paw', 'pax', 'paxex', 'pay', 'paycheck', 'payed', 'paying', 'payment', 'paymytab', 'paypal', 'payton', 'paytontaylor', 'pbamu', 'pbi', 'pbpinftworth', 'pctf', 'pd', 'pdmgif', 'pdprhp', 'pdx', 'pe', 'pea', 'peace', 'peach', 'peak', 'peanut', 'peculiar', 'pedophile', 'pedro', 'peeled', 'peep', 'peer', 'peeved', 'pefe', 'pek', 'pen', 'penalized', 'penalty', 'pending', 'pennypincher', 'people', 'peopleon', 'pepper', 'per', 'pereira', 'perfect', 'perfectly', 'perfectomobile', 'perform', 'performance', 'performing', 'performs', 'perhaps', 'period', 'periolodicly', 'perk', 'permanently', 'permission', 'persisting', 'person', 'personable', 'personal', 'personality', 'personalized', 'personally', 'personnel', 'perspective', 'perth', 'pesky', 'pet', 'peter', 'peterpiatetsky', 'peuc', 'pf', 'pfvqpoy', 'pg', 'pgatour', 'pgfryz', 'pgh', 'pgwukrpmox', 'ph', 'phantom', 'phd', 'phenomenal', 'phew', 'phf', 'phi', 'phil', 'philacarservice', 'philadelphia', 'philippine', 'phillip', 'philly', 'phkfgr', 'phl', 'phlairport', 'phltolas', 'phn', 'pho', 'phoavrxc', 'phoenix', 'phone', 'phonedied', 'phoneeeee', 'photo', 'photography', 'phrase', 'phx', 'phxskyharbor', 'physical', 'physically', 'pic', 'pick', 'picked', 'picking', 'picture', 'piece', 'piela', 'pig', 'pigeon', 'piggy', 'pile', 'pillow', 'pilot', 'pimentel', 'pin', 'pink', 'pipe', 'pir', 'piss', 'pissed', 'pissing', 'pisspoor', 'pit', 'pita', 'pittsburg', 'pittsburgh', 'pity', 'pivxean', 'pizza', 'pj', 'pjelzl', 'pjs', 'pk', 'pkaxunyfn', 'pl', 'place', 'placed', 'placing', 'plague', 'plain', 'plainly', 'plan', 'planb', 'plane', 'planebroken', 'planet', 'planing', 'planned', 'planner', 'planning', 'plastic', 'plat', 'plate', 'platinum', 'platinumeventually', 'platinummember', 'platitude', 'platter', 'play', 'playa', 'played', 'player', 'playing', 'pleads', 'pleasant', 'pleasantly', 'please', 'pleased', 'pleaseeee', 'pleasegod', 'pleasehelp', 'pleasehurryup', 'pleasure', 'plebe', 'pleeeeease', 'plenty', 'plitt', 'pln', 'plot', 'plough', 'plow', 'plowing', 'pls', 'plse', 'plt', 'plug', 'plumber', 'plundering', 'plus', 'plz', 'pm', 'pn', 'pnoav', 'pnr', 'pns', 'po', 'poc', 'pocket', 'poeon', 'pofsxojsy', 'point', 'pointed', 'pointing', 'pointless', 'pointy', 'poisoning', 'poisonpill', 'poker', 'police', 'policy', 'polite', 'politely', 'ponj', 'pooch', 'pooling', 'poor', 'poorcommunication', 'poorcustomerservice', 'poorcustumerservice', 'poorest', 'poorform', 'poorly', 'poorlyhandled', 'poorplanning', 'poorservice', 'pop', 'popped', 'popular', 'pordes', 'port', 'portal', 'portcolumbuscmh', 'portfolio', 'portion', 'portland', 'portlandjetport', 'portrayed', 'portsmouth', 'position', 'positive', 'possession', 'possiable', 'possibility', 'possible', 'possibly', 'post', 'posted', 'posting', 'postpone', 'postsecret', 'potable', 'potato', 'poteettj', 'potential', 'potus', 'poughkeepsie', 'pound', 'pounding', 'pouting', 'powder', 'power', 'powered', 'pown', 'ppl', 'ppva', 'ppvq', 'pqd', 'pqm', 'pr', 'practical', 'practice', 'praise', 'praised', 'prank', 'pray', 'prayer', 'praying', 'praywinn', 'prds', 'pre', 'preboard', 'preboarding', 'prebook', 'prebooked', 'precheck', 'preciate', 'preciation', 'precious', 'precioustime', 'precipitation', 'precludes', 'predict', 'predictable', 'predicted', 'predictive', 'pref', 'prefer', 'preferably', 'preferred', 'prefference', 'preflight', 'prefundia', 'pregame', 'pregnant', 'pregnantwithtwins', 'prem', 'premier', 'premiere', 'premium', 'preparation', 'prepare', 'prepared', 'preparedness', 'prepares', 'prerecorded', 'preregistration', 'pres', 'prescreen', 'present', 'presentation', 'presented', 'president', 'presidential', 'press', 'pressed', 'pressure', 'pressurecooker', 'pressurization', 'presumably', 'pretend', 'pretending', 'pretty', 'prettyplease', 'pretzel', 'prev', 'prevent', 'preventative', 'prevented', 'preventing', 'prevention', 'previous', 'previously', 'pri', 'price', 'priced', 'pricediscrimination', 'priceless', 'pricewise', 'pricey', 'pricing', 'pricy', 'pride', 'prime', 'prince', 'princess', 'princesshalf', 'principle', 'print', 'printed', 'printer', 'prior', 'prioritize', 'priority', 'prison', 'priv', 'private', 'privilege', 'prize', 'prn', 'pro', 'proactive', 'proactively', 'prob', 'probability', 'probably', 'problem', 'problematic', 'problemsolvers', 'probls', 'probs', 'procedure', 'proceed', 'proceeded', 'process', 'processed', 'processing', 'produced', 'product', 'prof', 'professional', 'professor', 'professorpaul', 'proficient', 'profile', 'profit', 'profitability', 'profitable', 'profitbeforepeople', 'profiting', 'program', 'programmer', 'progress', 'progressed', 'prohibits', 'project', 'prolly', 'prolonged', 'prom', 'promise', 'promised', 'promising', 'promo', 'promos', 'promoting', 'promotion', 'prompt', 'prompted', 'promptly', 'pronounce', 'proof', 'prop', 'proper', 'properly', 'property', 'proportion', 'proposal', 'propositioned', 'protect', 'protected', 'protection', 'protocol', 'proud', 'prove', 'provide', 'provided', 'providence', 'providenciales', 'provider', 'provides', 'providing', 'proving', 'provo', 'psa', 'pseudo', 'psngrs', 'psp', 'pssgrs', 'pssngrs', 'pst', 'psuejdc', 'psych', 'psychological', 'pt', 'ptfo', 'pty', 'pu', 'public', 'publicity', 'publicly', 'published', 'puerto', 'pujvcelng', 'pull', 'pulled', 'pullin', 'pulling', 'pulp', 'pulse', 'pump', 'pumped', 'pumping', 'punished', 'punishedforflying', 'punta', 'puppy', 'purchase', 'purchased', 'purchasing', 'pure', 'purely', 'purifier', 'purpose', 'push', 'pushback', 'pushed', 'pushing', 'pushy', 'put', 'putting', 'puvs', 'pv', 'pvd', 'pvg', 'pvphmtzc', 'pw', 'pwd', 'pwm', 'px', 'pxdel', 'pxexilsjbs', 'pyjaoaynx', 'pyxqv', 'qan', 'qantas', 'qavvlaxlkl', 'qbtckbr', 'qc', 'qd', 'qe', 'qeada', 'qefkfwzo', 'qeg', 'qf', 'qgtcao', 'qgv', 'qh', 'qi', 'qjc', 'qjzapkx', 'qkkjdfobos', 'qlyss', 'qm', 'qn', 'qnp', 'qoazo', 'qol', 'qp', 'qpcr', 'qqbmug', 'qranzimhtr', 'qro', 'qrxvzfrd', 'qscjll', 'qsvgru', 'quadruple', 'qualified', 'qualifies', 'qualify', 'quality', 'quarter', 'qud', 'que', 'query', 'question', 'queue', 'queuing', 'quiche', 'quick', 'quicker', 'quickest', 'quickie', 'quickly', 'quiet', 'quietly', 'quintana', 'quit', 'quite', 'quito', 'quitting', 'quote', 'quoted', 'quoting', 'quzvmk', 'qv', 'qw', 'qwkyxsw', 'qwmxr', 'qxv', 'qyezhjgsb', 'rabbit', 'rabgn', 'race', 'rachel', 'rachelle', 'racist', 'radio', 'radish', 'raeann', 'raft', 'rag', 'ragandisney', 'rage', 'rain', 'raise', 'raised', 'raising', 'raleigh', 'ralph', 'ram', 'ramada', 'ramp', 'rampers', 'ran', 'random', 'randomly', 'rang', 'range', 'ranging', 'ranked', 'rant', 'rap', 'rapid', 'rare', 'rarely', 'rate', 'rated', 'rather', 'rating', 'raving', 'ravioli', 'ray', 'rayja', 'razor', 'rbicx', 'rcdh', 'rch', 'rcm', 'rd', 'rdj', 'rdrcre', 'rdu', 're', 'reaccommodation', 'reach', 'reachable', 'reached', 'reaching', 'reachingnewlows', 'react', 'reaction', 'reactivate', 'reactive', 'read', 'reader', 'reading', 'ready', 'reagan', 'real', 'realise', 'realistic', 'reality', 'realize', 'realized', 'realizing', 'really', 'reallytallchris', 'realtime', 'rear', 'rearrange', 'reason', 'reasonable', 'reasonably', 'reassign', 'reassigned', 'reboard', 'reboarding', 'rebook', 'rebooked', 'rebooks', 'reboot', 'rebuilding', 'rec', 'recap', 'receipt', 'receive', 'received', 'receiving', 'recent', 'recently', 'recharging', 'recheck', 'rechecked', 'recieved', 'reciprocate', 'reckless', 'reclaim', 'recline', 'reclining', 'recognition', 'recognize', 'recognized', 'recommend', 'recommended', 'reconsider', 'reconsidering', 'record', 'recorded', 'recording', 'recourse', 'recover', 'recovered', 'recovering', 'recovery', 'recruiter', 'recruiting', 'rectified', 'rectify', 'recvd', 'recycle', 'red', 'redcarpet', 'redd', 'reddit', 'redeem', 'redeemed', 'redeeming', 'redemption', 'redesign', 'redirect', 'redirected', 'redo', 'redsox', 'reduced', 'reduction', 'redwineisbetter', 'reebok', 'reebooked', 'reek', 'ref', 'refer', 'reference', 'referral', 'refers', 'reflect', 'reflection', 'reflight', 'reform', 'refreshed', 'refreshes', 'refreshing', 'refreshment', 'refsd', 'refuel', 'refueled', 'refueling', 'refund', 'refundable', 'refunded', 'refunding', 'refundprocedurenottoopainful', 'refurbish', 'refuse', 'refused', 'refusing', 'regard', 'regarding', 'regardless', 'regina', 'regional', 'register', 'registered', 'registering', 'registration', 'regret', 'regretting', 'regular', 'regulation', 'rei', 'reigning', 'reimburse', 'reimbursed', 'reimbursement', 'reinforcement', 'reinstate', 'reinstated', 'reinvest', 'reissue', 'reissued', 'reiterate', 'rejecting', 'relate', 'relation', 'relationship', 'relative', 'relax', 'relaxing', 'relay', 'relayed', 'release', 'released', 'releasing', 'relevant', 'reliability', 'reliable', 'relied', 'relief', 'relieved', 'reload', 'reluctant', 'rely', 'rem', 'remain', 'remained', 'remaining', 'remains', 'remark', 'remedy', 'remember', 'remembered', 'remembering', 'remembers', 'remind', 'reminded', 'reminder', 'reminding', 'reminds', 'remorse', 'remote', 'remotely', 'removal', 'remove', 'removed', 'removing', 'renhotels', 'reno', 'renoairport', 'rent', 'rental', 'rented', 'renting', 'renttherunway', 'reopens', 'rep', 'repaid', 'repainted', 'repair', 'repaired', 'repeat', 'repeatably', 'repeated', 'repeatedly', 'repeating', 'replace', 'replaced', 'replacement', 'replacing', 'replane', 'replied', 'reply', 'replying', 'report', 'reported', 'reporter', 'reposting', 'repping', 'reprehensible', 'represent', 'representative', 'representing', 'represents', 'reproach', 'republic', 'republican', 'reputation', 'reqs', 'request', 'requested', 'requesting', 'require', 'required', 'requirement', 'requires', 'requiring', 'reroute', 'rerouted', 'resched', 'reschedule', 'rescheduled', 'reschedulemyflight', 'reschedules', 'rescheduling', 'rescue', 'rescued', 'researching', 'reseated', 'resend', 'resending', 'resent', 'reserv', 'reservation', 'reserve', 'reserved', 'reset', 'residing', 'reso', 'resoled', 'resolution', 'resolve', 'resolved', 'resolving', 'resorting', 'resource', 'respect', 'respectful', 'respond', 'responded', 'responding', 'responds', 'response', 'responsibility', 'responsible', 'responsive', 'ressie', 'rest', 'restating', 'resting', 'restless', 'restore', 'restored', 'restr', 'restriction', 'restrm', 'restroom', 'result', 'resulted', 'resulting', 'resume', 'retain', 'retaining', 'retard', 'rethink', 'rethinking', 'reticketed', 'retire', 'retired', 'retook', 'retracted', 'retrain', 'retribution', 'retrieve', 'retrieved', 'rett', 'return', 'returned', 'returning', 'retweet', 'retweets', 'reunion', 'reunited', 'reuniting', 'reuse', 'reuters', 'rev', 'revenue', 'revers', 'reverse', 'reversed', 'revieving', 'review', 'reviewed', 'reviewing', 'revision', 'revisiting', 'revive', 'revue', 'reward', 'rez', 'rffhmcv', 'rfuijyp', 'rfxlv', 'rgc', 'rgywjbbhm', 'rhonda', 'rhz', 'ri', 'ric', 'rica', 'ricardo', 'rich', 'richard', 'rick', 'ricky', 'rico', 'ricoh', 'rid', 'ride', 'ridic', 'ridicule', 'ridiculous', 'ridiculously', 'ridiculousness', 'riedel', 'right', 'rigorous', 'rikrik', 'rim', 'ring', 'ringing', 'ringling', 'rinzysk', 'rio', 'riot', 'rip', 'ripme', 'ripoff', 'ripoffs', 'ripped', 'ripping', 'rise', 'risk', 'rita', 'ritacomo', 'rito', 'ritz', 'rival', 'rivet', 'rizzilient', 'rj', 'rk', 'rklqxxawhc', 'rkvczbpdce', 'rldelahunty', 'rly', 'rlz', 'rmoug', 'rmpkogwu', 'rn', 'rndtrp', 'rno', 'rnp', 'road', 'roadmap', 'roadwarrior', 'roae', 'roam', 'roanoke', 'roasted', 'robbed', 'robbing', 'robbogart', 'robert', 'robertfor', 'roberto', 'robin', 'robinreda', 'robinson', 'robocalls', 'robot', 'robotic', 'robotweeting', 'robprice', 'robthecameraman', 'robyn', 'roc', 'rock', 'rocked', 'rockies', 'rocking', 'rockingthetweets', 'rockinwellness', 'rockstars', 'rocky', 'rodeo', 'roger', 'roiypc', 'role', 'roll', 'rollaboard', 'rolled', 'rollerboards', 'rollercoaster', 'rolling', 'roo', 'rookie', 'room', 'rosetta', 'rotten', 'rough', 'round', 'roundtrip', 'roundtrips', 'route', 'routed', 'routine', 'routinely', 'routing', 'row', 'roxydigital', 'royally', 'rozana', 'rpdbpx', 'rps', 'rpsil', 'rqbpmwettq', 'rqc', 'rqstd', 'rr', 'rsrv', 'rsvagijn', 'rsw', 'rt', 'rtb', 'rtn', 'rtqyjcvtq', 'rtr', 'rtrn', 'rtw', 'ru', 'rub', 'rubbed', 'rubber', 'rubbish', 'rude', 'rudely', 'rudeness', 'rudeservice', 'rudest', 'rudestaff', 'ruin', 'ruined', 'ruining', 'ruiningmy', 'rule', 'rulesshouldbend', 'rum', 'rumor', 'run', 'runaround', 'runner', 'running', 'runway', 'rushed', 'russell', 'russelneiss', 'russia', 'ruth', 'rv', 'rwrd', 'rx', 'rxdks', 'rxmjwoo', 'ryand', 'rylietolbert', 'rymzd', 'rypzebc', 'ryxbplgmnk', 'rzb', 'sa', 'sabotaging', 'sabre', 'sac', 'sacintlairport', 'sacramento', 'sad', 'saddened', 'saddens', 'sadly', 'safari', 'safe', 'safely', 'safety', 'saga', 'said', 'saidi', 'sailed', 'sailor', 'sal', 'salad', 'sale', 'salisbury', 'sally', 'salt', 'salvaged', 'sam', 'samartzis', 'samchampion', 'sammi', 'samoore', 'sample', 'samsonite', 'san', 'sand', 'sandiego', 'sandra', 'sandwich', 'sanfrancisco', 'sanitized', 'sanitizer', 'santa', 'santo', 'sao', 'saozgtv', 'sapphire', 'sarah', 'sarahpompei', 'sarahzou', 'sarcasm', 'sarcastic', 'sarcastically', 'sardine', 'sarita', 'sas', 'sat', 'satellite', 'satesq', 'satisfaction', 'satisfactorily', 'satisfactory', 'satisfied', 'satisfy', 'sato', 'saturday', 'sauce', 'sauna', 'sauvignon', 'sav', 'savannah', 'save', 'saved', 'saveface', 'saver', 'savethediagonals', 'savethoseseats', 'saveus', 'saving', 'saviour', 'savr', 'saw', 'saxonandparole', 'say', 'sayin', 'saying', 'saysorrychris', 'sb', 'sba', 'sbux', 'sc', 'scale', 'scalpel', 'scam', 'scan', 'scanned', 'scare', 'scareair', 'scared', 'scareways', 'scattered', 'scavenger', 'scenario', 'scene', 'scent', 'sch', 'schd', 'sche', 'sched', 'schedule', 'scheduled', 'scheduling', 'scheme', 'schiphol', 'school', 'schooler', 'schoolgirl', 'science', 'sciencebehindtheexperience', 'scl', 'scm', 'scolding', 'scollegelondon', 'scooby', 'scope', 'scotch', 'scott', 'scqujbvsta', 'scr', 'scramble', 'scratching', 'scream', 'screaming', 'screen', 'screencap', 'screening', 'screensand', 'screenshot', 'screw', 'screwed', 'screwing', 'scroll', 'sctomh', 'sd', 'sdf', 'sdfairport', 'sdlyn', 'sdm', 'sdq', 'sdylukr', 'sdytt', 'sea', 'seam', 'sean', 'seanvrose', 'search', 'searched', 'searching', 'season', 'seasonal', 'seat', 'seatac', 'seatback', 'seatbelt', 'seated', 'seating', 'seatmate', 'seattle', 'seattlebound', 'seau', 'sec', 'second', 'secondary', 'secondly', 'secret', 'section', 'sector', 'secure', 'secured', 'securing', 'security', 'sedholm', 'see', 'seeing', 'seek', 'seeking', 'seem', 'seemed', 'seemless', 'seems', 'seen', 'seet', 'seetonight', 'seg', 'segment', 'segs', 'seguinej', 'segway', 'select', 'selected', 'selecting', 'selection', 'selects', 'self', 'selfie', 'selfies', 'sell', 'selling', 'sellmypointssoon', 'sellout', 'semantics', 'semester', 'sen', 'send', 'sending', 'sends', 'senior', 'sense', 'senseless', 'sensitive', 'sent', 'sentierimelinda', 'sentiment', 'sentimental', 'sentinel', 'sep', 'separate', 'separated', 'separately', 'sept', 'september', 'ser', 'serf', 'series', 'serious', 'seriously', 'seriousness', 'serv', 'serve', 'served', 'service', 'serviced', 'servicedog', 'servicefail', 'servicing', 'serving', 'set', 'setorii', 'setting', 'settle', 'settled', 'setup', 'sev', 'seven', 'several', 'severally', 'severe', 'severely', 'sex', 'sexual', 'sexually', 'sf', 'sfmi', 'sfo', 'sfotobos', 'sfpcbyy', 'sfuhg', 'sh', 'shade', 'shadier', 'shady', 'shafted', 'shaker', 'shaking', 'shaky', 'shall', 'sham', 'shamble', 'shame', 'shameful', 'shameonyou', 'shampoo', 'shanghai', 'shannon', 'shaquille', 'share', 'shared', 'sharing', 'sharktank', 'sharon', 'shavon', 'shawn', 'sheer', 'sheesh', 'sheila', 'shelleyandmarcrock', 'shenanigan', 'shhhh', 'shift', 'shin', 'shined', 'ship', 'shipped', 'shipping', 'shirt', 'shit', 'shitshow', 'shitting', 'shitty', 'shittydeal', 'shiz', 'shld', 'shock', 'shocked', 'shocker', 'shocking', 'shoddy', 'shoe', 'shopping', 'short', 'shortage', 'shortly', 'shortstaffed', 'shot', 'shotwest', 'shoulda', 'shoulder', 'shouldhavedriven', 'shouldhaveflowndelta', 'shouldhaveflownjetblue', 'shouldnt', 'shouldwearmasks', 'shout', 'shoutout', 'show', 'showed', 'shower', 'showexpert', 'showing', 'shown', 'showsomerespect', 'showup', 'shrimp', 'shrug', 'shrugging', 'shuck', 'shuffle', 'shut', 'shutting', 'shuttle', 'si', 'siberia', 'sibling', 'sick', 'sickcrew', 'siczx', 'side', 'sided', 'sifhp', 'sigh', 'sighed', 'sight', 'sign', 'signal', 'signed', 'significant', 'significantly', 'signin', 'signing', 'signup', 'sil', 'silence', 'silicon', 'sill', 'silly', 'silver', 'silverairways', 'silverairwsys', 'sime', 'similar', 'simonroesner', 'simple', 'simply', 'simultaneously', 'since', 'sincere', 'sincerely', 'sine', 'sing', 'singapore', 'singer', 'singing', 'single', 'sink', 'sinus', 'siouxfalls', 'sir', 'sister', 'sit', 'site', 'siting', 'sits', 'sittin', 'sitting', 'sittingontheplane', 'sittingonthetarmac', 'situation', 'sivi', 'six', 'size', 'sized', 'sizer', 'sj', 'sjc', 'sjd', 'sjo', 'sju', 'sk', 'skateboard', 'sked', 'ski', 'skiing', 'skill', 'skilled', 'skipper', 'skkewqhssg', 'skrlyrz', 'skxzve', 'sky', 'skycap', 'skype', 'skytrax', 'skyw', 'skywest', 'sl', 'slammed', 'slapintheface', 'slapped', 'slash', 'slaughter', 'slc', 'slcairport', 'sld', 'sledge', 'sleep', 'sleeping', 'sleepless', 'sleepy', 'sleet', 'slept', 'slew', 'slht', 'sliced', 'slide', 'slightly', 'slime', 'slip', 'sliver', 'sllyibe', 'slobodin', 'slogan', 'sloooooow', 'sloooowresponses', 'sloppy', 'slot', 'slow', 'slowdown', 'slower', 'slowest', 'slowly', 'slowness', 'sm', 'sma', 'small', 'smaller', 'smallest', 'smart', 'smarter', 'smattering', 'smell', 'smelled', 'smelly', 'smf', 'smfh', 'smh', 'smile', 'smiling', 'smisek', 'smitten', 'smm', 'smoking', 'smoooothest', 'smooth', 'smoothest', 'smoothflight', 'smoothie', 'smoothly', 'smoothtransition', 'smth', 'smugsmirk', 'smybag', 'sna', 'snack', 'snag', 'snap', 'snapchat', 'snapped', 'sneaky', 'sneverstopped', 'snit', 'snobby', 'snow', 'snowballed', 'snowbama', 'snowboard', 'snowbound', 'snowfall', 'snowforce', 'snowing', 'snowstorm', 'snowwillnevermelt', 'snowy', 'snuck', 'so', 'soaked', 'soaking', 'sobbing', 'sobewff', 'soc', 'social', 'socialtantrum', 'sock', 'socket', 'soda', 'sodone', 'sofly', 'soft', 'software', 'sohappy', 'soiqrn', 'sol', 'solar', 'solate', 'sold', 'sole', 'solid', 'solo', 'solution', 'solve', 'solved', 'solves', 'solving', 'sombrons', 'somebody', 'somehow', 'someone', 'something', 'sometime', 'sometimes', 'somewhat', 'somewhere', 'somthing', 'son', 'song', 'soon', 'sooner', 'sooo', 'soooo', 'sooooo', 'soooooo', 'sooooooo', 'sop', 'sorry', 'sorrynotsorry', 'sort', 'sorta', 'sorted', 'sorting', 'sorude', 'sotelo', 'sotl', 'sou', 'soul', 'soulandinspiration', 'souljacoy', 'sound', 'sounded', 'sounding', 'soundofmusic', 'sour', 'soured', 'sourhwest', 'south', 'southern', 'southwest', 'southwestair', 'southwestairlines', 'southwestairwasthere', 'southwestfail', 'southwestluv', 'southwestoliver', 'southwestrocks', 'southwestsmoothie', 'southwestsucks', 'southwestverity', 'southworst', 'sozldj', 'sp', 'space', 'spaced', 'spade', 'spaghetti', 'spagnuolo', 'spam', 'span', 'spanish', 'spare', 'sparkled', 'speak', 'speaking', 'speaks', 'spec', 'special', 'specialist', 'specially', 'specialolympics', 'specific', 'specifically', 'specified', 'speciifc', 'spectacular', 'speechless', 'speed', 'speedy', 'spell', 'spelled', 'spelling', 'spend', 'spending', 'spent', 'spiced', 'spilled', 'spin', 'spirit', 'spiritairlines', 'spirited', 'spite', 'spk', 'split', 'splitting', 'splm', 'spoiled', 'spoke', 'spoken', 'sponsor', 'sponsorship', 'spontaneously', 'spook', 'spooky', 'sporadically', 'sport', 'sporting', 'spot', 'spotify', 'spotting', 'spotty', 'sprawled', 'spread', 'spreadtheword', 'spring', 'sprinkled', 'sprinting', 'spruce', 'spur', 'spvsr', 'squarely', 'squeak', 'sr', 'srl', 'srq', 'srsly', 'srvc', 'ssal', 'ssuvwwkyhh', 'st', 'stable', 'stacey', 'stacy', 'staduim', 'staff', 'staffed', 'staffer', 'staffing', 'stafford', 'stage', 'stagnant', 'stahhppp', 'stahp', 'stain', 'stall', 'stand', 'standard', 'standby', 'standing', 'star', 'staralliance', 'starbucks', 'stare', 'staring', 'start', 'started', 'starting', 'startingbloc', 'startled', 'startling', 'starving', 'stat', 'state', 'stated', 'statement', 'static', 'station', 'stationary', 'status', 'statusmatch', 'stay', 'stayed', 'staying', 'stbernard', 'stclass', 'stdby', 'steal', 'stealing', 'steamboat', 'steamed', 'steaming', 'steel', 'steering', 'stellar', 'stellarservice', 'step', 'stephenrodrick', 'stepitup', 'stepped', 'stepping', 'steve', 'stevelord', 'stevie', 'steward', 'stewardess', 'stewart', 'sti', 'stick', 'sticking', 'stiiiil', 'still', 'stillbagless', 'stilling', 'stillmakingmepoorthough', 'stillnobags', 'stillnotonmyflight', 'stillwaiting', 'stingiest', 'stingy', 'stink', 'stktjxan', 'stl', 'stlouis', 'stmt', 'stndby', 'stock', 'stocker', 'stockhouse', 'stocking', 'stoked', 'stole', 'stolen', 'stollen', 'stone', 'stonewalled', 'stood', 'stop', 'stopover', 'stopped', 'stopping', 'storage', 'storm', 'story', 'stow', 'straight', 'straighten', 'straightened', 'strand', 'stranded', 'strandedattheairport', 'strandedinnashville', 'stranding', 'strandusindenver', 'strange', 'stranger', 'strategy', 'stray', 'strayed', 'straying', 'stream', 'streaming', 'streamline', 'street', 'strength', 'stress', 'stressed', 'stressful', 'stressor', 'stretching', 'strict', 'strike', 'string', 'strip', 'strive', 'strives', 'stroller', 'strong', 'strongly', 'strtd', 'structure', 'struggle', 'struggling', 'strut', 'stt', 'sttimeflyer', 'stubborn', 'stubbornly', 'stuck', 'stucked', 'stuckinmemphis', 'stuckintampa', 'stuckintheloop', 'student', 'stuff', 'stuffing', 'stuffy', 'stunned', 'stunning', 'stupid', 'stupidity', 'stupidly', 'style', 'stylesheets', 'su', 'sub', 'submit', 'submits', 'submitted', 'submitting', 'suboptimal', 'subpar', 'subscribe', 'subsequent', 'subsequently', 'substantial', 'substitute', 'subterfuge', 'success', 'successful', 'suck', 'sucked', 'sucking', 'sudden', 'suffer', 'suffered', 'suffering', 'sufficiently', 'sugafly', 'suggest', 'suggested', 'suggesting', 'suggestion', 'suggests', 'suicide', 'suiip', 'suit', 'suitcase', 'suite', 'sukhdeep', 'sum', 'summer', 'sun', 'sunburn', 'sunday', 'sundayfunday', 'sundown', 'sunny', 'sunrise', 'sunset', 'sunshine', 'suntoshi', 'super', 'superben', 'superior', 'superstar', 'supertzar', 'supervisor', 'superyan', 'supp', 'supply', 'support', 'supported', 'supporter', 'supporting', 'suppose', 'supposed', 'supposedly', 'suprise', 'suprlfoi', 'supv', 'supvrs', 'surat', 'sure', 'suree', 'surely', 'surf', 'surfboard', 'surfboardbag', 'surfer', 'surgery', 'surgeryhelp', 'surliness', 'surly', 'surname', 'surprise', 'surprised', 'surprisingly', 'surreal', 'surrounding', 'survey', 'survive', 'susan', 'suspect', 'suspended', 'suuperg', 'sux', 'svc', 'svcs', 'svl', 'svllindia', 'svu', 'sw', 'swa', 'swadiversity', 'swagglikebean', 'swair', 'swallowed', 'swapped', 'swapping', 'sway', 'swear', 'sweat', 'sweep', 'sweepstakes', 'sweet', 'sweetheart', 'sweetingr', 'sweetmel', 'swell', 'swfan', 'swimsuit', 'swindle', 'swing', 'swipe', 'swiss', 'switch', 'switched', 'switching', 'switchingboth', 'swivel', 'swooped', 'swrpmq', 'swrr', 'swu', 'swzm', 'sxm', 'sxsw', 'sxu', 'sy', 'syastem', 'syd', 'sydney', 'sydneyairport', 'sylvie', 'sympathetic', 'sympathize', 'sympathy', 'sync', 'synch', 'synergy', 'synonymous', 'syr', 'syracuse', 'sys', 'system', 'systemwide', 'sytycd', 'sywlmtzek', 'sz', 'ta', 'tab', 'tabitha', 'table', 'tablet', 'tactic', 'tad', 'tag', 'tagged', 'tagging', 'tahiti', 'tail', 'tailfin', 'tailwind', 'taiwan', 'take', 'takemeback', 'takemehome', 'taken', 'takeoff', 'taker', 'takeresponsibility', 'taking', 'takingthistothetop', 'takr', 'talent', 'talk', 'talked', 'talking', 'tall', 'tallahassee', 'taller', 'tamara', 'tampa', 'tandoori', 'tank', 'tanked', 'tanpa', 'taping', 'tar', 'tara', 'target', 'targeting', 'tarmac', 'tarmack', 'tasha', 'taste', 'tatianaking', 'tax', 'taxi', 'taxiing', 'taxing', 'taxiway', 'taylor', 'tb', 'tbls', 'tbt', 'tcf', 'tckt', 'tcqx', 'tcunningham', 'tdjp', 'tdy', 'tea', 'teach', 'team', 'teamnkh', 'teamspirit', 'tear', 'tech', 'technical', 'technically', 'technology', 'tedious', 'teen', 'teenager', 'tefhpuwmdj', 'tejrn', 'tel', 'telaviv', 'telephone', 'tell', 'telleveryone', 'telling', 'tellyourstory', 'temp', 'temper', 'temperature', 'template', 'tempting', 'ten', 'tennetexan', 'tennis', 'tense', 'term', 'terminal', 'terra', 'terri', 'terrible', 'terriblecommunication', 'terriblecustomerservice', 'terribleservice', 'terribly', 'terrific', 'terrifyingly', 'terror', 'terry', 'terrybrokebad', 'test', 'testing', 'texarkana', 'texas', 'texasisclosed', 'text', 'texted', 'texting', 'tf', 'tfanxbh', 'tfgreenairport', 'tfh', 'tfjfmsha', 'tfw', 'tgcyalate', 'tgif', 'tgsb', 'tgsljjn', 'th', 'thailand', 'thank', 'thanked', 'thankful', 'thankfully', 'thankjesus', 'thankme', 'thanks', 'thanksamericanairlines', 'thanksdave', 'thanksdc', 'thanksunited', 'thanku', 'thankyou', 'thankyouforeverything', 'thansk', 'thanx', 'thatisall', 'thats', 'thatthis', 'thaw', 'theairhelper', 'thecandacesmith', 'thee', 'theellenshow', 'thefaaonline', 'theflight', 'theft', 'thehaileytate', 'thehipmunk', 'themagicalstranger', 'thenatek', 'thenationaluae', 'thenewamerican', 'there', 'therealaviation', 'therefore', 'thereisafirstforeverything', 'therofo', 'thetakeover', 'thetroubadour', 'thevdt', 'theverge', 'thewayoftheid', 'theworst', 'theworstairline', 'theworstairlineever', 'theyareallbetter', 'theydontanswer', 'thick', 'thief', 'thier', 'thin', 'thing', 'thingafteranother', 'thingsishouldknow', 'thingsyoucantmakeup', 'think', 'thinkbus', 'thinking', 'thinner', 'third', 'thirty', 'thisiscoach', 'thislinehasntmovedforanhour', 'thismosaicnothappy', 'thks', 'thng', 'thnkx', 'thnx', 'tho', 'thomas', 'thor', 'though', 'thought', 'thousand', 'thousandth', 'thre', 'thread', 'threatened', 'threatening', 'threatens', 'three', 'threehourslate', 'threw', 'thrilled', 'thrombosis', 'throne', 'throug', 'throughout', 'throw', 'thrower', 'throwing', 'thrown', 'thru', 'tht', 'thur', 'thurs', 'thursday', 'thus', 'thx', 'ti', 'tic', 'tick', 'ticked', 'ticket', 'ticketed', 'ticketing', 'ticketsforjax', 'tickt', 'tide', 'tie', 'tied', 'tier', 'tiffanyandco', 'tight', 'tightconnection', 'tighter', 'til', 'till', 'tim', 'timbennettg', 'timbit', 'timco', 'time', 'timed', 'timeliness', 'timely', 'timesenough', 'timieyancey', 'timing', 'tinaisback', 'tinman', 'tiny', 'tip', 'tire', 'tired', 'tiredandwanttogohome', 'tiredcustomer', 'tiredofthis', 'tiredofwaiting', 'tisk', 'tissue', 'title', 'tix', 'tixs', 'tjtmo', 'tjuum', 'tjycqh', 'tk', 'tkauygcpms', 'tkci', 'tke', 'tkqhxp', 'tks', 'tkt', 'tkts', 'tkvcmhbpim', 'tkvmhbkec', 'tkx', 'tld', 'tlh', 'tlomtwu', 'tlpbaupik', 'tmadcle', 'tmccexyaaq', 'tmm', 'tmobile', 'tmr', 'tmrw', 'tmthvfdc', 'tmusjvu', 'tmw', 'tn', 'tnkixxrxhb', 'tnx', 'tny', 'tnyctrb', 'toby', 'today', 'toddler', 'together', 'toilet', 'toiletry', 'tok', 'tokyo', 'tokyomarathon', 'told', 'toledo', 'tolerable', 'toll', 'tollfree', 'tom', 'tomo', 'tomorrow', 'tomrw', 'tomvh', 'ton', 'tone', 'tonic', 'tonight', 'tonite', 'tonne', 'took', 'tool', 'toolittletoolate', 'toolong', 'tooooo', 'top', 'topnews', 'topping', 'topqmvqnjp', 'tore', 'toronto', 'torture', 'tortured', 'torus', 'tory', 'tos', 'tossed', 'total', 'totaled', 'totalfail', 'totally', 'tote', 'touch', 'touchdown', 'touched', 'touching', 'tough', 'toughtomakeplans', 'tour', 'tourist', 'toward', 'towards', 'towed', 'town', 'toyingwithouremotions', 'tpa', 'tpzhjx', 'tqc', 'tqhyn', 'tr', 'trace', 'tracing', 'track', 'tracking', 'trading', 'traditionally', 'traffic', 'train', 'trained', 'training', 'transaction', 'transactional', 'transatlantic', 'transcontinental', 'transf', 'transfer', 'transferred', 'transit', 'transition', 'translation', 'transpacific', 'transparency', 'transparent', 'transport', 'transportation', 'transported', 'trap', 'trapped', 'trappedhouston', 'trash', 'trashy', 'travel', 'traveled', 'traveler', 'travelfail', 'traveling', 'travelled', 'traveller', 'travelling', 'travelocity', 'traveloneworld', 'travelproblems', 'travisamex', 'tray', 'trbl', 'treacherous', 'treat', 'treated', 'treating', 'treatment', 'tree', 'treenut', 'tremendous', 'tremendously', 'trend', 'triage', 'trial', 'tribute', 'tricities', 'trick', 'trickling', 'tried', 'triflight', 'trip', 'triple', 'tripofalifetime', 'tripping', 'trite', 'trivia', 'trivialize', 'trk', 'tropic', 'troubadour', 'trouble', 'troubleshoot', 'troubleshot', 'troubling', 'troy', 'trqlpeinzw', 'tru', 'trublue', 'truck', 'true', 'trueblue', 'truebluecolors', 'truebluelove', 'truebluemember', 'truebluepoints', 'truly', 'trumping', 'trust', 'trusted', 'truth', 'truthful', 'truu', 'trv', 'trvfncedl', 'trvl', 'try', 'tryagain', 'tryin', 'trying', 'tryn', 'tryna', 'tryng', 'tsa', 'tsaprecheck', 'tsk', 'tsvgbrl', 'tsvibtvt', 'ttg', 'ttlwzgiyag', 'ttno', 'ttxrsynlxr', 'ttz', 'tu', 'tucking', 'tucson', 'tue', 'tues', 'tuesday', 'tuftsenergyconf', 'tug', 'tul', 'tulsa', 'tumitravel', 'tuned', 'turbulence', 'turkish', 'turn', 'turnaround', 'turned', 'turning', 'turquoise', 'tus', 'tutgli', 'tuxfqf', 'tv', 'tvb', 'tvida', 'tvk', 'tvpzg', 'tvr', 'twa', 'tweet', 'tweeted', 'tweeter', 'tweetin', 'tweeting', 'twelve', 'twenty', 'twetpxuppn', 'twice', 'twiiter', 'twin', 'twist', 'twitter', 'two', 'twtr', 'tx', 'txfd', 'txhyj', 'txt', 'ty', 'type', 'typical', 'typically', 'typing', 'typo', 'tysvm', 'tyvm', 'tyxaztmq', 'tzsr', 'tzz', 'ua', 'uaicfjrms', 'ual', 'uay', 'uayir', 'ubcoasyws', 'ubergizmo', 'ubetter', 'ubotmr', 'ucf', 'uctraveladvisor', 'ucveu', 'ucvnilmb', 'uczzp', 'udc', 'ue', 'uf', 'ufyxxkisa', 'ug', 'uggh', 'ugh', 'uh', 'ui', 'uipha', 'uj', 'ujt', 'uk', 'ukb', 'ukbc', 'ukdjjijrow', 'uld', 'ultimately', 'um', 'umhbh', 'umm', 'ummmm', 'umosaicmecrazy', 'ump', 'umpteen', 'un', 'unable', 'unacceptable', 'unaccomidating', 'unaccommodating', 'unaccompanied', 'unaccounted', 'unaccpetable', 'unamerican', 'unamericanairlines', 'unannounced', 'unanswered', 'unansweredquestions', 'unapologetic', 'unavailable', 'unavoidable', 'unaware', 'unbalanced', 'unbelieavle', 'unbelievable', 'unbelievably', 'uncalled', 'uncaring', 'uncharacteristic', 'uncle', 'uncomfortable', 'uncompromising', 'unconscionable', 'uncontrollable', 'uncontrollably', 'uncool', 'uncourteous', 'uncvsduke', 'und', 'undefined', 'undelayed', 'undergoing', 'undermines', 'underserved', 'understaffed', 'understaffing', 'understand', 'understandable', 'understandably', 'understanding', 'understands', 'understatement', 'understood', 'underweight', 'undetermined', 'undies', 'undignified', 'undone', 'uneducated', 'unempathetic', 'unemployment', 'uneventful', 'unexpactable', 'unexpected', 'unexplained', 'unfair', 'unfamiliar', 'unforeseeable', 'unfortunate', 'unfortunately', 'unfriendly', 'unfriendlyskies', 'unhappy', 'unhappycustomer', 'unhappytraveler', 'unheard', 'unhelpful', 'unhelpfulness', 'uniform', 'unimpressed', 'uninformed', 'united', 'unitedagainstunited', 'unitedairline', 'unitedairlines', 'unitedairlinessuck', 'unitedairlinessucks', 'unitedairlinessux', 'unitedappeals', 'unitedfail', 'unitedfails', 'unitedfirst', 'unitedflightsever', 'unitedlies', 'unitedsucks', 'unitedsucksdick', 'unitedwithivy', 'unitedworstever', 'universally', 'university', 'unknown', 'unless', 'unlike', 'unlikely', 'unload', 'unloaded', 'unloading', 'unloads', 'unlucky', 'unmanned', 'unmet', 'unmissable', 'unmonitored', 'unnecessarily', 'unnecessary', 'unnoticed', 'unorganized', 'unplanned', 'unpleasant', 'unpleased', 'unpredictable', 'unprepared', 'unproductive', 'unprofessional', 'unprofessionalism', 'unprofessionally', 'unraoni', 'unreachable', 'unreal', 'unreasonable', 'unrelate', 'unreliable', 'unresolved', 'unsafe', 'unsat', 'unscheduled', 'unsecured', 'unserved', 'unserviceable', 'unsettling', 'unsolicited', 'unspecified', 'unsuccessful', 'unsuitable', 'unsure', 'unsympathetic', 'unt', 'untd', 'untrained', 'untrue', 'untruthful', 'untz', 'unu', 'unusable', 'unused', 'unusual', 'unwilling', 'unwind', 'unwise', 'unxqotzik', 'uoaryq', 'uoxgnw', 'upaz', 'upc', 'upcoming', 'update', 'updated', 'updateyourwebsite', 'updating', 'upfare', 'upgd', 'upgrade', 'upgraded', 'upgrademe', 'upgrading', 'uphold', 'upholding', 'upinairclaire', 'uplink', 'upocmmulun', 'upon', 'upp', 'uppp', 'upqi', 'ups', 'upsell', 'upset', 'upsetting', 'upstate', 'upwherewebelong', 'uq', 'ur', 'urcyfcp', 'urged', 'urgency', 'urgent', 'urgently', 'urself', 'us', 'usa', 'usable', 'usair', 'usaireays', 'usairheads', 'usairsucks', 'usairways', 'usairwaysfail', 'usairwaysfailscustomers', 'usairwaysfflyer', 'usairwaysssuck', 'usairwayssuck', 'usairwayssucks', 'usairwis', 'usatoday', 'usatodaytravel', 'usaw', 'usb', 'usbj', 'usd', 'use', 'useable', 'used', 'useful', 'useles', 'useless', 'user', 'username', 'usexpress', 'using', 'usnavy', 'uso', 'usual', 'usually', 'usuck', 'usurious', 'usxlon', 'ut', 'utah', 'utdallas', 'utdfqf', 'ute', 'utfdhxa', 'utilize', 'utmost', 'utterly', 'uu', 'uv', 'uvf', 'uw', 'uwcpxtxj', 'uwon', 'uwuosc', 'ux', 'uxzj', 'uy', 'uyhr', 'va', 'vabeatsjblue', 'vaca', 'vacate', 'vacation', 'vacationing', 'vacay', 'vague', 'vail', 'valentine', 'valentinesday', 'valid', 'validity', 'vallarta', 'valley', 'valuable', 'value', 'valued', 'van', 'vancouver', 'vanished', 'vanity', 'vape', 'various', 'vary', 'vastly', 'vaylmfc', 'vbctdlf', 'vbfieo', 'vbmbs', 'vbrq', 'vbuxfpckfa', 'vc', 'vd', 'vdfdodqvgx', 'vdi', 'vdiosua', 'vdvqxbb', 'vebeen', 'vee', 'veers', 'vega', 'vegan', 'vegecomgirl', 'vegetarian', 'veggie', 'vein', 'velcro', 'velourlive', 'vendor', 'venetia', 'venezuela', 'vent', 'ventilation', 'venture', 'verbal', 'verification', 'verified', 'verifies', 'verify', 'vermont', 'version', 'versus', 'veryimportantproject', 'veryloyalcustomer', 'vet', 'veteran', 'vetr', 'vftuyjh', 'vgn', 'vgqoihtrkh', 'vhfjgneozo', 'vhgkitzsaw', 'vhp', 'vi', 'via', 'viable', 'vibrant', 'vice', 'vicky', 'victim', 'victoria', 'video', 'vieg', 'vieques', 'vieuidf', 'view', 'vigil', 'vile', 'village', 'vincenzolandino', 'vindictive', 'vineyard', 'vino', 'vinyl', 'vinylvegas', 'violation', 'vip', 'vipliveinthevieyard', 'viracopos', 'viraltech', 'virgin', 'virginamerica', 'virginatlantic', 'virginia', 'virtual', 'virus', 'visa', 'visible', 'visit', 'visiting', 'visualclubconcepts', 'vital', 'vitaminwater', 'vkj', 'vlci', 'vm', 'vmquurzupw', 'vmsg', 'vn', 'vnckgzxl', 'vnmb', 'vnnf', 'vo', 'vocab', 'vodkatonics', 'voice', 'voicemail', 'voided', 'volkswagen', 'volume', 'volunteer', 'vomit', 'vote', 'voted', 'voucher', 'voucherwhatajoke', 'vow', 'vp', 'vpdrplxj', 'vpym', 'vq', 'vqmdmzafuj', 'vr', 'vrfhjht', 'vsffrd', 'vskxyamnom', 'vt', 'vtcpa', 'vtfm', 'vtqe', 'vtvj', 'vu', 'vuelo', 'vuelos', 'vulnerable', 'vusa', 'vuxf', 'vvzksmfkvw', 'vw', 'vwq', 'vww', 'vx', 'vxn', 'vyuanh', 'vz', 'wa', 'waa', 'waaaaaaiting', 'wack', 'wage', 'wager', 'waif', 'wailing', 'wait', 'waited', 'waitin', 'waiting', 'waitingagain', 'waitinginphilly', 'waitingonapilot', 'waitingsince', 'waitlisted', 'waive', 'waived', 'waiver', 'waivethefee', 'wake', 'waking', 'walk', 'walked', 'walking', 'walkway', 'wall', 'wallet', 'wallstreet', 'walmart', 'waltdisneyworld', 'wandered', 'wanna', 'wannaa', 'wannagohome', 'want', 'wantcharge', 'wanted', 'wanting', 'waobu', 'ward', 'warehouse', 'warm', 'warmer', 'warmest', 'warmth', 'warmweather', 'warn', 'warning', 'warrant', 'warrior', 'wasappreciated', 'washington', 'washingtondc', 'wasila', 'wasnt', 'waspaid', 'waste', 'wasted', 'wastedeffort', 'wastedtime', 'wasteoftime', 'wasting', 'wat', 'watch', 'watched', 'watching', 'water', 'waterbury', 'watered', 'wating', 'wave', 'waved', 'way', 'wayne', 'wbhbljjks', 'wbzorrn', 'wc', 'wd', 'wdaktmr', 'weak', 'weakservice', 'weaktea', 'wearing', 'weary', 'weasel', 'weather', 'weathered', 'weatherless', 'web', 'weblink', 'webpage', 'website', 'wed', 'wedding', 'wednesday', 'wedontcarebecauseyoupaidalready', 'week', 'weekday', 'weekend', 'weigh', 'weighing', 'weighs', 'weight', 'weird', 'welcome', 'welcomed', 'welcoming', 'welfare', 'well', 'welldone', 'welllllll', 'wellplayed', 'welp', 'wen', 'wendell', 'wendi', 'went', 'wentook', 'werenot', 'wererunning', 'wernicke', 'wervirgin', 'west', 'westagard', 'westchester', 'westjet', 'westpalmbeach', 'wet', 'wether', 'weve', 'wewantcomps', 'weyburn', 'wezumdimyf', 'wfbtue', 'wguk', 'wgyztnjcxm', 'whacked', 'whammie', 'whatacluster', 'whatajoke', 'whatcustomerservice', 'whatever', 'whatgives', 'whats', 'whatsoever', 'whatstatus', 'whch', 'wheel', 'wheelchair', 'wheelsup', 'wheeze', 'whenever', 'whenitsnowsitpours', 'whereabouts', 'whereby', 'whereismybag', 'wheresmyrefund', 'wheresthecustomerserviceat', 'wheresthepilot', 'whether', 'whichisworsedenordfw', 'whining', 'whiny', 'whiplash', 'whipped', 'whiskey', 'whisper', 'whispering', 'white', 'whitterbug', 'whoa', 'whoever', 'whole', 'wholly', 'whoooo', 'whoot', 'whose', 'whrsthecoach', 'wht', 'whufmi', 'whyairtravelsucks', 'whyareyouyelling', 'whydidntiflysouthwest', 'whyisusairalwaysdelayed', 'whyjeff', 'whyyounoloveme', 'whyyy', 'wi', 'wiar', 'wichita', 'wide', 'wife', 'wifi', 'wifiless', 'wig', 'wiggle', 'wikipearl', 'will', 'williams', 'willing', 'willl', 'willneverflywithyou', 'wilmington', 'win', 'wind', 'windchill', 'window', 'windy', 'wine', 'winfu', 'wing', 'winner', 'winning', 'winnipeg', 'winston', 'winter', 'winterstorm', 'winterweather', 'wipe', 'wiped', 'wired', 'wireless', 'wise', 'wiser', 'wish', 'wishing', 'wishmyflightwaslonger', 'withheld', 'within', 'without', 'witness', 'witnessed', 'wiyh', 'wjgtxzt', 'wjoc', 'wjyas', 'wk', 'wknd', 'wks', 'wlainimy', 'wld', 'wmass', 'wmcactionnews', 'wmn', 'wmo', 'wmx', 'wn', 'wnbglxq', 'wnd', 'wnqvm', 'wny', 'woaw', 'woeful', 'woke', 'woman', 'wonder', 'wonderful', 'wonderfully', 'wondering', 'wong', 'wont', 'wontflyagainwithyou', 'woo', 'woodland', 'woody', 'woof', 'word', 'worded', 'wore', 'work', 'workaround', 'worked', 'worker', 'workforce', 'workin', 'working', 'workng', 'worksnicely', 'world', 'worried', 'worrisome', 'worry', 'worrying', 'worse', 'worst', 'worstairline', 'worstairlineever', 'worstairlineinamerica', 'worstcustomerservice', 'worstcustomerserviceever', 'worstcustservice', 'worstever', 'worstflight', 'worstflightever', 'worstflightexperienceever', 'worstservice', 'worstthingever', 'worsttraveldayever', 'worsttripofmylife', 'worth', 'worthless', 'worthy', 'would', 'woulda', 'wouldnt', 'wouldt', 'wounded', 'woven', 'wow', 'wowxhpu', 'wpa', 'wpg', 'wqrklw', 'wrap', 'wrath', 'wreck', 'wrecked', 'wrecking', 'wrench', 'wretched', 'write', 'writes', 'writing', 'written', 'wrong', 'wronganswer', 'wrongfully', 'wrongiswrong', 'wrote', 'wrwqrublps', 'wsgyckciio', 'wsj', 'wsjplus', 'wt', 'wtf', 'wtfodds', 'wth', 'wtop', 'wtvd', 'wtw', 'wudda', 'wut', 'wvgpp', 'wvq', 'wvr', 'wwr', 'wx', 'wxowzhpgfl', 'wylie', 'wyoming', 'wzd', 'wznp', 'wztq', 'xaizw', 'xaspqdsqhe', 'xatoxbnsfa', 'xb', 'xbkvcraokn', 'xc', 'xcvqxykg', 'xd', 'xdaily', 'xdaj', 'xdjzkc', 'xdlbibclp', 'xedeckgmw', 'xedzvhh', 'xelbon', 'xf', 'xfhq', 'xfwxsrwkha', 'xgfs', 'xggcntco', 'xgnyhgafz', 'xhcacjax', 'xhirugzv', 'xhlc', 'xhsuupheze', 'xijifymvqp', 'xijyrpslzk', 'xisbs', 'xjared', 'xjxqrx', 'xl', 'xld', 'xltv', 'xmas', 'xmrvr', 'xmz', 'xna', 'xp', 'xpm', 'xqaqb', 'xqsrp', 'xr', 'xrdtov', 'xswjkiy', 'xt', 'xtra', 'xu', 'xvm', 'xvnnmltiw', 'xw', 'xweekly', 'xx', 'xxppzo', 'xz', 'xzmscw', 'xzrk', 'xzy', 'ya', 'yaffasolin', 'yall', 'yard', 'yay', 'yayayay', 'yb', 'ycflalxv', 'yday', 'ydkor', 'yea', 'yeah', 'year', 'yearly', 'yearslate', 'yeehaw', 'yeg', 'yell', 'yelled', 'yelling', 'yellow', 'yep', 'yer', 'yes', 'yeseniahernandez', 'yest', 'yesterday', 'yet', 'yh', 'yi', 'yikes', 'yiwlhqhzgp', 'ymftw', 'ymmh', 'ymz', 'ync', 'ynmbdu', 'yo', 'yogtej', 'yogurt', 'york', 'yorkshire', 'youareonyourown', 'youcandobetter', 'youcouldntmakethis', 'youd', 'youdidit', 'youknowyouwantto', 'young', 'younger', 'youragentshavenoclue', 'yourairlinesucks', 'youre', 'youredoingitwrong', 'youretheworst', 'yourock', 'yourphonesystemsucks', 'yourstoryhere', 'yousuck', 'youve', 'ypbkcirbxu', 'yphk', 'ypo', 'yponthebeat', 'ypu', 'ypzh', 'yqhk', 'yr', 'yrvka', 'yrxa', 'ysqbvq', 'ystday', 'ystrdy', 'ytd', 'yuck', 'yucki', 'yul', 'yuma', 'yummy', 'yuo', 'yup', 'yv', 'yvonne', 'yvr', 'yw', 'ywg', 'ywxrfn', 'yxe', 'yxn', 'yyc', 'yyj', 'yywafkfi', 'yyz', 'yyzua', 'za', 'zacks', 'zakkohane', 'zaoay', 'zaq', 'zat', 'zbzvhg', 'zc', 'zcbjyo', 'zcc', 'zd', 'ze', 'zero', 'zf', 'zfqmpgxvs', 'zfroinpszi', 'zfv', 'zgoqoxjbqy', 'zgw', 'zhmfdiw', 'zi', 'zik', 'zip', 'zipper', 'zira', 'zj', 'zkatcher', 'zkoe', 'zlsquu', 'zlzmk', 'zombie', 'zone', 'zoom', 'zouowgv', 'zpjr', 'zpu', 'zpz', 'zr', 'zrh', 'zsdgzydnde', 'zsuztnaijq', 'zt', 'ztua', 'zukes', 'zurich', 'zut', 'zv', 'zvugmkjw', 'zwzc', 'zxzn', 'zy', 'zygjs', 'zz', 'zza', 'zzkqwwbjz']\n",
            "(18110, 10188)\n",
            "[[0 0 0 ... 0 0 0]\n",
            " [0 0 0 ... 0 0 0]\n",
            " [0 0 0 ... 0 0 0]\n",
            " ...\n",
            " [0 0 0 ... 0 0 0]\n",
            " [0 0 0 ... 0 0 0]\n",
            " [0 0 0 ... 0 0 0]]\n"
          ],
          "name": "stdout"
        }
      ]
    },
    {
      "cell_type": "markdown",
      "metadata": {
        "id": "i-aCVZwvepcB"
      },
      "source": [
        "<p>Creating the TF-IDF model"
      ]
    },
    {
      "cell_type": "code",
      "metadata": {
        "colab": {
          "base_uri": "https://localhost:8080/",
          "height": 278
        },
        "id": "JA5cqlsyZpgi",
        "outputId": "f8bba0c4-fc2e-4080-dd94-731dce4a811e"
      },
      "source": [
        "from sklearn.feature_extraction.text import TfidfVectorizer\n",
        "import pandas as pd\n",
        "vect = TfidfVectorizer()\n",
        "tfidf_matrix = vect.fit_transform(df['text_lemm'])\n",
        "print(vect.get_feature_names())\n",
        "print(tfidf_matrix.shape)\n",
        "df1= pd.DataFrame(tfidf_matrix.toarray(), columns = vect.get_feature_names())\n",
        "df1.head()"
      ],
      "execution_count": 60,
      "outputs": [
        {
          "output_type": "stream",
          "text": [
            "['aa', 'aaaand', 'aaadvantage', 'aacustomerservice', 'aadavantage', 'aadelay', 'aadv', 'aadvantage', 'aafail', 'aakjumxa', 'aal', 'aaron', 'aarp', 'aateam', 'aau', 'aavvoreph', 'aback', 'abandon', 'abandoned', 'abandonment', 'abassinet', 'abc', 'abcnetwork', 'abcnews', 'abducted', 'ability', 'able', 'aboard', 'aboout', 'abounds', 'abq', 'abroad', 'absolute', 'absolutely', 'absorber', 'absurd', 'absurdity', 'absurdly', 'abt', 'abtwf', 'abundance', 'abuse', 'abused', 'abxrq', 'abysmal', 'ac', 'acarl', 'acc', 'accelerate', 'accept', 'acceptable', 'accepted', 'accepting', 'acces', 'access', 'accessibility', 'accessible', 'accessing', 'accident', 'accidentally', 'accommodate', 'accommodated', 'accommodating', 'accommodation', 'accompaniment', 'accompany', 'accomplish', 'accomplished', 'according', 'accordingly', 'account', 'accountability', 'accruing', 'acct', 'accumulation', 'accurate', 'accused', 'acebo', 'achieve', 'achieves', 'achieving', 'ack', 'acknowledge', 'acknowledgement', 'acknowledgment', 'acnewsguy', 'acosta', 'acoustic', 'acpt', 'acquire', 'acquired', 'acquisition', 'across', 'act', 'acted', 'actingoutmgmnt', 'action', 'activated', 'active', 'actively', 'activity', 'actual', 'actually', 'actualy', 'acy', 'ad', 'ada', 'adam', 'adapted', 'add', 'added', 'adding', 'addition', 'additional', 'additionally', 'additonal', 'addr', 'address', 'addressed', 'addressing', 'addtl', 'adjusting', 'adjustment', 'admiral', 'admiralsclub', 'admit', 'admitted', 'adolfo', 'adopted', 'adopting', 'adore', 'adult', 'adv', 'advan', 'advance', 'advantage', 'advertise', 'advertising', 'advice', 'advise', 'advised', 'advising', 'advisory', 'advsry', 'aegeanairlines', 'aerocivilcol', 'aerojobmarket', 'aeroport', 'aesthetic', 'af', 'affair', 'affect', 'affected', 'affecting', 'affiliate', 'affiliated', 'afford', 'affordable', 'aforementioned', 'afraid', 'aft', 'afternoon', 'afterward', 'aftr', 'agcommunity', 'age', 'aged', 'agency', 'agent', 'agfd', 'aggravated', 'aggravating', 'aggravation', 'aggressive', 'agian', 'aging', 'agnt', 'ago', 'agoodlife', 'agpb', 'agree', 'agreement', 'agt', 'agts', 'ah', 'ahah', 'ahead', 'ahem', 'ahhhh', 'ahold', 'ahoy', 'ai', 'aiecraft', 'aif', 'ailing', 'aimed', 'air', 'airborne', 'airbus', 'airbusintheus', 'aircanada', 'aircraft', 'aircrft', 'aire', 'aired', 'airfare', 'airline', 'airlineadviser', 'airlinegave', 'airlinegeeks', 'airlinequality', 'airliner', 'airlinesecurity', 'airnzusa', 'airplane', 'airplanemodewason', 'airport', 'airportcardio', 'airpt', 'airserv', 'airsouthwest', 'airspace', 'airtahitinui', 'airtran', 'airway', 'aisle', 'aitzl', 'aj', 'ajm', 'ak', 'aka', 'akron', 'aktg', 'al', 'ala', 'alan', 'alarm', 'alaska', 'alaskaair', 'alavera', 'albany', 'albanyairport', 'albeit', 'albuquer', 'albuquerque', 'alcohol', 'alert', 'alerted', 'alex', 'alfamilyoffour', 'ali', 'alicia', 'alison', 'alist', 'alistpreferred', 'alittlebetter', 'alive', 'allan', 'allegiantair', 'allende', 'allergic', 'allergy', 'alleviate', 'allgood', 'alliance', 'allll', 'allow', 'allowabl', 'allowable', 'allowance', 'allowed', 'allowing', 'allows', 'allready', 'allrepresentativesbusy', 'allright', 'allyoucanjetpass', 'almost', 'alone', 'along', 'alot', 'already', 'alreadyrebookedonce', 'alright', 'also', 'alsonodrinkcartcomingaround', 'alstdi', 'alt', 'alternate', 'alternative', 'although', 'altitude', 'altonbrownlive', 'always', 'alwaysdelayed', 'alwaysdelayedonunited', 'alwayshappensthere', 'alwayslate', 'am', 'amagrino', 'amateur', 'amateurish', 'amaze', 'amazed', 'amazing', 'amazingflightcrew', 'amazingly', 'amazings', 'amazon', 'ambassador', 'ambivalence', 'amend', 'amenity', 'america', 'american', 'americanair', 'americanairbr', 'americanairlines', 'americanairlinesfail', 'americanairlnes', 'americanairsucks', 'americandairlinessucks', 'americanone', 'americant', 'americanview', 'amex', 'amexserve', 'amid', 'amiltx', 'amin', 'amirite', 'amiw', 'amm', 'amnt', 'among', 'amount', 'amp', 'amsterdam', 'amt', 'amtrak', 'amy', 'amybruni', 'amypoehler', 'an', 'ana', 'analystdoc', 'analytics', 'anamarketers', 'anarchy', 'anchorage', 'anderson', 'andrew', 'andrewfallis', 'android', 'andyellwood', 'angel', 'angeles', 'angelo', 'angering', 'angle', 'angriest', 'angry', 'angryandsober', 'angrybird', 'angrycustomer', 'angrytraveler', 'angst', 'animal', 'anku', 'ann', 'anna', 'annamarie', 'annettenaif', 'anniversary', 'annnndddd', 'annnnddddd', 'annnnnd', 'announce', 'announced', 'announcement', 'announcer', 'announcing', 'annoyed', 'annoying', 'annricord', 'annual', 'another', 'anotherdisappointment', 'anotherfail', 'ansleyhutson', 'answer', 'answered', 'answering', 'answerphone', 'answerthephone', 'ant', 'anthony', 'anticipate', 'anticipation', 'antigua', 'antitrust', 'antonio', 'anxiety', 'anxious', 'anybody', 'anymore', 'anyone', 'anythin', 'anything', 'anytime', 'anyway', 'anywhere', 'aoeaeszdlx', 'aou', 'ap', 'apart', 'apathetic', 'apathy', 'apeared', 'apiau', 'apnea', 'apollochplayers', 'apologise', 'apologize', 'apologizes', 'apologizing', 'apology', 'apostrophe', 'apostrophefail', 'app', 'appalled', 'appalling', 'apparent', 'apparently', 'appear', 'appeared', 'appears', 'appease', 'applaud', 'applauded', 'applause', 'apple', 'appleton', 'applicable', 'application', 'applied', 'apply', 'applying', 'appointed', 'appointment', 'appreciate', 'appreciated', 'appreciates', 'appreciation', 'approach', 'approaching', 'appropriate', 'appropriately', 'appropriation', 'approproately', 'approval', 'approve', 'approved', 'approx', 'approximately', 'apps', 'apr', 'april', 'aprzspxige', 'apt', 'aptzpurop', 'apx', 'apy', 'aqjn', 'aquadilla', 'aqzwecokk', 'ar', 'arab', 'arbitrarily', 'arbitrary', 'arc', 'ardent', 'area', 'arent', 'argentina', 'argg', 'argh', 'argue', 'argued', 'argueing', 'arguing', 'argument', 'aricyq', 'arizona', 'arkansas', 'arm', 'arminrosen', 'armrest', 'army', 'arose', 'around', 'arrange', 'arranged', 'arrangement', 'arrival', 'arrive', 'arrived', 'arrives', 'arriving', 'arrogant', 'art', 'article', 'aruba', 'aruna', 'arvls', 'as', 'asap', 'ase', 'asgmnt', 'ash', 'ashamed', 'ashley', 'ashleykatherton', 'asia', 'aside', 'ask', 'askamex', 'asked', 'asking', 'askpaypal', 'asks', 'asleep', 'aspen', 'aspenbaggagefail', 'ass', 'assaulted', 'assed', 'asset', 'asshole', 'assign', 'assigned', 'assignment', 'assist', 'assistance', 'assistant', 'assisted', 'assisting', 'associated', 'assuage', 'assult', 'assume', 'assuming', 'assured', 'assuring', 'astounded', 'astounding', 'astounds', 'asw', 'asyqe', 'atc', 'ateafnc', 'ath', 'athau', 'athlete', 'atl', 'atlanta', 'atlantic', 'atleast', 'atrocious', 'att', 'attach', 'attached', 'attackingbabymomma', 'attdt', 'attempt', 'attempted', 'attempting', 'attend', 'attendant', 'attended', 'attendent', 'attendents', 'attention', 'attentiveness', 'attitude', 'attitudeissues', 'attitudy', 'attndt', 'atue', 'atwonline', 'atx', 'au', 'aucsykfuhd', 'auction', 'audience', 'audio', 'audition', 'auditorium', 'aufm', 'aug', 'august', 'auh', 'aumilo', 'aunt', 'aunty', 'aur', 'aurn', 'aurorabiz', 'aussie', 'austic', 'austin', 'austinairport', 'australia', 'austrian', 'author', 'authoritative', 'authorize', 'auto', 'automated', 'automatic', 'automatically', 'automobile', 'autoresponse', 'auzu', 'av', 'avail', 'availab', 'availability', 'available', 'avalible', 'avatar', 'avbdstjujs', 'avenue', 'average', 'averaging', 'avgeek', 'aviation', 'avis', 'aviv', 'avoid', 'avoided', 'avon', 'avp', 'avyqdmpi', 'aw', 'awaiting', 'awake', 'award', 'aware', 'away', 'awdbw', 'awe', 'aweful', 'awesome', 'awesomeee', 'awesomeness', 'awful', 'awfulcustomerservice', 'awfully', 'awfulness', 'awgjkjiiac', 'awheelchair', 'awhile', 'awkward', 'awol', 'awrd', 'aww', 'awww', 'awwweesssooomee', 'ax', 'axryeiwzh', 'ay', 'aye', 'aygaoeb', 'aypyaduy', 'az', 'aztdaer', 'ba', 'baby', 'bach', 'bachelorpartymishap', 'back', 'backed', 'backhome', 'backing', 'backlog', 'backpack', 'backroads', 'backtodelta', 'backtowinter', 'backup', 'backwards', 'backyard', 'bad', 'badairline', 'badbadbad', 'badbusiness', 'badbussiness', 'badcustomerexperience', 'badcustomerservice', 'badcustomersrvice', 'bademployeeproblem', 'badge', 'badly', 'badmgmt', 'badpolicy', 'badservice', 'badwebsite', 'bae', 'baejet', 'bag', 'bagage', 'bagawim', 'baggage', 'baggagedrama', 'baggagefail', 'baggageissues', 'baggagelost', 'bagsflyfree', 'bagsflyfreebutnotwithme', 'bagtag', 'bahamas', 'bailey', 'bait', 'baitandswitch', 'baked', 'baking', 'balance', 'ball', 'ballbag', 'baltimore', 'banana', 'band', 'bangkok', 'bank', 'bankrupt', 'bankruptcy', 'banning', 'bar', 'barbados', 'barbara', 'barclay', 'barclaycardus', 'barclays', 'barcodes', 'barely', 'barnum', 'barrel', 'barrettkarabis', 'barrier', 'base', 'based', 'bashing', 'basic', 'basically', 'basket', 'basketball', 'bass', 'bastard', 'bathroom', 'batman', 'battery', 'battierccipuppy', 'batting', 'battle', 'battling', 'bay', 'bbb', 'bbbne', 'bbm', 'bbzijwfdl', 'bc', 'bcn', 'bcs', 'bcuz', 'bcz', 'bd', 'bday', 'bdindallas', 'bdl', 'bdng', 'bdrxfn', 'bduauzfhw', 'beach', 'beamske', 'bean', 'beantownmatty', 'bear', 'bearable', 'beat', 'beatriz', 'beatstheothers', 'beatz', 'beautiful', 'beautifully', 'beauty', 'bebetter', 'bec', 'became', 'becky', 'become', 'becomes', 'becoming', 'becuase', 'bed', 'bedofroses', 'beer', 'befor', 'beg', 'began', 'begging', 'begin', 'beginning', 'begun', 'behalf', 'behave', 'behaves', 'behavior', 'behind', 'bein', 'belfast', 'belfastairport', 'belief', 'believable', 'believe', 'believing', 'belize', 'bellagio', 'belong', 'belonging', 'belt', 'ben', 'benadryl', 'bench', 'bene', 'beneficial', 'benefit', 'bensonhenderson', 'beought', 'beqotlnugc', 'bereavement', 'bergstrom', 'bernhardtjh', 'bershawnjackson', 'besides', 'best', 'bestairline', 'bestairlineever', 'bestfriends', 'bestinclass', 'bet', 'beta', 'bethonors', 'better', 'bettween', 'betty', 'beverage', 'beware', 'beyond', 'bf', 'bffs', 'bfpfw', 'bg', 'bgm', 'bgr', 'bh', 'bhjvaa', 'bhm', 'bhx', 'bicycle', 'bid', 'big', 'bigger', 'biggest', 'biggie', 'bijlxat', 'bike', 'bill', 'billed', 'billing', 'billion', 'bin', 'bingo', 'bio', 'bird', 'birder', 'birmingham', 'birth', 'birthdate', 'birthday', 'biscuit', 'bit', 'bitch', 'bitchy', 'bite', 'bitty', 'biz', 'bizarre', 'bizness', 'biztravel', 'bjnz', 'bjwgoap', 'bk', 'bked', 'bkmfey', 'bl', 'black', 'blackberry', 'blacked', 'blackhistorymonth', 'blackish', 'blacklivesmatter', 'blackmailed', 'blade', 'blah', 'blame', 'blamed', 'blameshiftoverload', 'blaming', 'blanc', 'blank', 'blanket', 'blast', 'blasting', 'blatant', 'blatantly', 'blatimore', 'blazer', 'bledsoe', 'bleed', 'blegh', 'bleh', 'bless', 'blessed', 'blew', 'blindsided', 'blizzard', 'bloated', 'block', 'blocked', 'blocking', 'blog', 'bloody', 'bloodymary', 'bloombergnews', 'blow', 'blowing', 'blown', 'blue', 'bluecarpet', 'bluemanity', 'bluetiful', 'blumanity', 'blushing', 'blxs', 'bm', 'bmij', 'bna', 'bnflhpxtmw', 'bng', 'bngpli', 'bo', 'board', 'boarded', 'boarding', 'boardingpass', 'boat', 'boavxy', 'bobbi', 'body', 'boeing', 'boeingairplanes', 'boggling', 'bogot', 'bogota', 'boh', 'bohnjai', 'bohol', 'boiled', 'boise', 'bold', 'bom', 'bone', 'bonnie', 'bonus', 'boo', 'boofin', 'book', 'booked', 'booking', 'booklet', 'bookofnegroes', 'bool', 'boom', 'boost', 'booster', 'boot', 'booted', 'booze', 'bop', 'bora', 'border', 'borderline', 'borrow', 'bos', 'bosnia', 'boson', 'boston', 'bostonbbb', 'bostongarden', 'bostonlogan', 'bot', 'botched', 'bother', 'bothered', 'bottle', 'bottom', 'bought', 'bougth', 'bounce', 'bounced', 'bound', 'boundless', 'bourbon', 'bout', 'bowl', 'box', 'boy', 'boycott', 'boyfriend', 'bozo', 'bpdfpp', 'bq', 'bqiw', 'bqn', 'bqonpa', 'bracket', 'bradley', 'brag', 'bragged', 'bragging', 'brain', 'brand', 'branding', 'brandloveaffair', 'brandmance', 'brandssayingbae', 'branson', 'brave', 'braved', 'bravo', 'brcsjbxg', 'brd', 'breach', 'bread', 'break', 'breakdown', 'breaker', 'breakfast', 'breaking', 'breakup', 'breast', 'breath', 'breathing', 'breavement', 'breeze', 'brendan', 'brendanpshannon', 'brent', 'bretharold', 'brewcrewfan', 'brian', 'briansumers', 'bride', 'bridesmaid', 'bridge', 'briefing', 'bright', 'brilliant', 'bring', 'bringbackrealstaff', 'bringbacktheluvtordu', 'bringin', 'bringing', 'british', 'briughy', 'brizzyberg', 'bro', 'broad', 'broadway', 'broke', 'broken', 'brokenpromises', 'brokenwheel', 'brooklyn', 'bros', 'brothaaaaaa', 'brother', 'brought', 'browser', 'brt', 'bru', 'bruh', 'bruin', 'brush', 'brushing', 'brussels', 'brutal', 'bsuxlu', 'bt', 'btr', 'bttgmyn', 'bttr', 'btv', 'btvpxtzju', 'btvtb', 'btw', 'btwn', 'buck', 'budapest', 'buddy', 'budget', 'budweiserduels', 'bueno', 'buenos', 'buf', 'buffalo', 'buffaloairport', 'bug', 'bugging', 'buggy', 'build', 'building', 'buj', 'bulb', 'bulkhead', 'bull', 'bullshit', 'bully', 'bullying', 'bum', 'bummed', 'bummer', 'bump', 'bumped', 'bumper', 'bumping', 'bunch', 'bundleup', 'bur', 'burbank', 'burden', 'bureau', 'burger', 'burgundy', 'burley', 'burlington', 'burn', 'burned', 'burning', 'burningman', 'burroughs', 'burst', 'bus', 'busads', 'bush', 'bushleague', 'bushug', 'business', 'businessfirst', 'businessmodel', 'businesstravel', 'bussey', 'bussines', 'busted', 'busy', 'butt', 'button', 'buwjtvuwkm', 'buy', 'buyer', 'buying', 'buzz', 'buzzkill', 'bv', 'bvzty', 'bwahahaha', 'bwi', 'bwood', 'bxwg', 'byackc', 'bye', 'byebyejetblue', 'byn', 'byod', 'bypass', 'bze', 'ca', 'cab', 'cabin', 'cabine', 'cabinfever', 'cabo', 'cac', 'cache', 'caching', 'cae', 'caexhibitions', 'caf', 'cafe', 'caffeine', 'cake', 'cakendeath', 'cal', 'calamity', 'calderon', 'calendar', 'calf', 'calgary', 'cali', 'calibrated', 'california', 'call', 'callback', 'called', 'caller', 'calling', 'callmestanley', 'calming', 'came', 'camera', 'camp', 'campaign', 'cana', 'canada', 'canadaair', 'canadian', 'cancelled', 'cancer', 'cancld', 'cancun', 'candace', 'caned', 'canister', 'canned', 'cannot', 'cant', 'cantblametheweather', 'canthurtasking', 'cantlogoutofunitedwifi', 'canx', 'cap', 'capa', 'capability', 'capable', 'capacity', 'capel', 'capitalized', 'capt', 'captain', 'captive', 'capture', 'car', 'card', 'cardholder', 'care', 'cared', 'career', 'careless', 'careyon', 'cargo', 'caribbean', 'caring', 'carlton', 'carlw', 'carmen', 'carol', 'carolina', 'carousel', 'carpet', 'carrie', 'carried', 'carrier', 'carrieunderwood', 'carry', 'carrying', 'carryon', 'carryons', 'carseat', 'carsl', 'cart', 'carta', 'cartagena', 'cartago', 'cascino', 'case', 'cash', 'casimir', 'casleah', 'casual', 'cat', 'catch', 'catching', 'cater', 'catered', 'catering', 'cathay', 'cathaypacific', 'cathaypacificus', 'catsanddogslivingtogether', 'cattle', 'caucasity', 'caught', 'cause', 'caused', 'causing', 'cavalli', 'cavan', 'cave', 'cavs', 'cay', 'cb', 'cbr', 'cbsbaltimore', 'cbsnews', 'cbssoxfan', 'cbv', 'cc', 'cco', 'cdg', 'cdt', 'cdx', 'cdzhtyd', 'cease', 'cebu', 'ceeenj', 'cefa', 'cehroeurc', 'celebrate', 'celebrates', 'celebrating', 'cell', 'cellphone', 'cement', 'center', 'centerl', 'central', 'centre', 'centric', 'centricity', 'century', 'ceo', 'cert', 'certain', 'certainly', 'certificate', 'cessna', 'cesspool', 'cf', 'cfhtk', 'cflanagian', 'cfrlqbe', 'cgfv', 'cgjase', 'cgqueen', 'cgroup', 'cgwe', 'cha', 'chain', 'chair', 'chairman', 'chairmanlove', 'chalk', 'challemann', 'challenge', 'challenging', 'champagne', 'chance', 'change', 'changed', 'changer', 'changing', 'channel', 'chantilly', 'chaos', 'chaotic', 'chapman', 'chapter', 'char', 'character', 'characterize', 'charge', 'charged', 'charger', 'charging', 'chariot', 'charity', 'charles', 'charleston', 'charlote', 'charlotte', 'charm', 'chart', 'chartering', 'chase', 'chasing', 'chat', 'chathes', 'chatted', 'chatting', 'chd', 'cheap', 'cheaper', 'cheapflights', 'cheapoair', 'cheapslogannotmotto', 'cheat', 'cheatcustomers', 'cheated', 'check', 'checked', 'checker', 'checkin', 'checking', 'checkout', 'checkpoint', 'cheduled', 'cheer', 'cheertymedad', 'cheese', 'cheeze', 'chef', 'chemistry', 'cheque', 'cherry', 'chg', 'chgd', 'chge', 'chging', 'chgy', 'chi', 'chiberia', 'chicago', 'chicagomidway', 'chicagotribune', 'chicken', 'chief', 'child', 'childish', 'childrens', 'chill', 'chillpill', 'china', 'chip', 'chipper', 'chk', 'chkd', 'chkin', 'chking', 'chkout', 'chn', 'chng', 'chnge', 'chocked', 'chocolate', 'choice', 'choose', 'choosechicago', 'choosekind', 'choosing', 'choppiest', 'choppy', 'chose', 'chosen', 'choxkpjp', 'christine', 'christinebpc', 'christmas', 'chrome', 'chronicleherald', 'chronological', 'chrysichrysic', 'chs', 'chuckhole', 'ci', 'cigarette', 'cinci', 'cincinnati', 'cincy', 'cinedrones', 'cinziannap', 'circle', 'circling', 'circuit', 'circulation', 'circumstance', 'ciscojimfrench', 'cisnerosmedia', 'citi', 'citing', 'citizen', 'city', 'cityandsand', 'civilized', 'cj', 'cjdjpdx', 'cjg', 'cjsvssqf', 'cju', 'ckg', 'ckin', 'cking', 'cl', 'claim', 'claimed', 'claiming', 'clarence', 'clarification', 'clarify', 'clarifying', 'clarion', 'clarita', 'clarkey', 'class', 'classic', 'classy', 'claudia', 'claudoakeshott', 'cld', 'cldnt', 'cle', 'clean', 'cleaned', 'cleaning', 'cleanliness', 'clear', 'clearance', 'cleared', 'clearing', 'clearly', 'clearvision', 'cleveland', 'clever', 'clgiu', 'click', 'clicked', 'clicking', 'client', 'clientnothappy', 'clifton', 'clincher', 'cling', 'clinicpolly', 'cll', 'clo', 'clob', 'clockwork', 'close', 'closed', 'closer', 'closest', 'closet', 'closing', 'closure', 'clothes', 'clothing', 'cloud', 'clown', 'clt', 'cltdouglas', 'clu', 'club', 'clue', 'clueless', 'clunky', 'cluster', 'clusterfucks', 'clutch', 'clvlhfguzw', 'cm', 'cmfat', 'cmh', 'cmon', 'cncdld', 'cnceld', 'cncld', 'cncled', 'cnctl', 'cng', 'cnn', 'cnnbrk', 'cnnmoney', 'cnx', 'cnxn', 'cnxns', 'co', 'coach', 'coached', 'coachgs', 'coachmack', 'coast', 'coat', 'coathanging', 'cobedien', 'cockpit', 'cockroach', 'cocktail', 'code', 'coded', 'codeshare', 'coffee', 'coffeemaker', 'coffeeneeded', 'coffin', 'coin', 'coincidence', 'coke', 'cold', 'colder', 'coldly', 'cole', 'colleague', 'collect', 'collection', 'collectively', 'college', 'colliding', 'colo', 'colombia', 'colombian', 'color', 'colored', 'colossal', 'coltsmissingbags', 'columbia', 'columbian', 'columbus', 'com', 'coma', 'combat', 'combative', 'combination', 'combine', 'combined', 'combo', 'comcast', 'comclassic', 'come', 'comedian', 'comedic', 'comedy', 'comenity', 'comeon', 'cometoaustin', 'comfort', 'comfortable', 'comfortably', 'comforting', 'comin', 'coming', 'comm', 'command', 'commence', 'comment', 'commented', 'commercial', 'commit', 'commitment', 'committed', 'common', 'comms', 'communicate', 'communicated', 'communicating', 'communication', 'communicationfail', 'communicationiskey', 'community', 'commutation', 'commute', 'comp', 'compact', 'companion', 'companionpasses', 'company', 'comparable', 'compare', 'compared', 'comparison', 'compassion', 'compassionate', 'compatible', 'comped', 'compensate', 'compensated', 'compensates', 'compensating', 'compensation', 'compete', 'competent', 'competes', 'competing', 'competition', 'competitor', 'comping', 'complain', 'complained', 'complainer', 'complaining', 'complains', 'complaint', 'complete', 'completed', 'completely', 'compliant', 'complicated', 'compliment', 'complimentary', 'complimentarybeveragesneeded', 'complt', 'compounded', 'compounding', 'computer', 'con', 'concentrate', 'concept', 'concern', 'concerned', 'concerning', 'concert', 'concierge', 'concourse', 'concrete', 'condescending', 'condescension', 'condition', 'conditioning', 'condolence', 'condom', 'conection', 'conf', 'conference', 'confidence', 'confident', 'config', 'confirm', 'confirmation', 'confirmed', 'confirming', 'conflict', 'conflicting', 'confrontational', 'confused', 'confuses', 'confusing', 'confusion', 'congested', 'congrats', 'congratulation', 'conjunction', 'connect', 'connected', 'connectfor', 'connectin', 'connecting', 'connection', 'connectns', 'connector', 'connects', 'connetion', 'connex', 'connolly', 'consecutive', 'consequence', 'consider', 'considerable', 'considerate', 'consideration', 'considered', 'considering', 'consistency', 'consistent', 'consistently', 'consolation', 'constant', 'constantly', 'constitution', 'construction', 'constructive', 'consult', 'consultant', 'consumer', 'consumption', 'cont', 'contaced', 'contact', 'contactcej', 'contacted', 'contacting', 'contactless', 'contagious', 'contain', 'container', 'contains', 'contd', 'contempt', 'contend', 'content', 'contest', 'context', 'continental', 'continentalair', 'continentalairlines', 'contingency', 'continually', 'continue', 'continued', 'continues', 'continuing', 'continuous', 'contract', 'contractor', 'control', 'controllable', 'controllableirregularity', 'controller', 'conv', 'convenience', 'convenient', 'conveniently', 'conversation', 'conversational', 'conversed', 'conversion', 'convey', 'conveyer', 'conveyor', 'convince', 'convinced', 'convo', 'cooker', 'cookie', 'cookjaycook', 'cooky', 'cool', 'cooler', 'cooper', 'coordinate', 'cop', 'copa', 'copilot', 'copx', 'copy', 'core', 'corevalues', 'corner', 'corp', 'corporate', 'corporation', 'correct', 'corrected', 'correctly', 'correctness', 'correspondence', 'corrupt', 'corybronze', 'cost', 'costa', 'costing', 'costumer', 'costumerservice', 'cot', 'could', 'couldnt', 'count', 'counted', 'counter', 'counterpart', 'counting', 'countingdown', 'countless', 'country', 'county', 'couple', 'coupled', 'coupon', 'courier', 'courrier', 'course', 'court', 'courteous', 'courtesy', 'courtsey', 'courtsnod', 'cousin', 'cover', 'coverage', 'covered', 'covering', 'covert', 'cowardly', 'cowboy', 'cowboycerrone', 'cowgirl', 'coworker', 'coworkers', 'cpap', 'cpu', 'cpypgfnd', 'cpzb', 'cqmm', 'cr', 'crabby', 'cracker', 'craft', 'craftbeer', 'craig', 'cramming', 'cramped', 'cranky', 'crap', 'crappiest', 'crappy', 'crash', 'crashed', 'crashing', 'crated', 'craving', 'crawling', 'craziness', 'crazinessintherockies', 'crazy', 'crazybitch', 'cream', 'create', 'created', 'creates', 'creative', 'credential', 'credibility', 'credit', 'creditcardsales', 'credited', 'crew', 'crewe', 'crewmember', 'crewmembers', 'crib', 'cricket', 'criminal', 'crisis', 'cristian', 'criticism', 'crook', 'crooked', 'cross', 'crossed', 'crosswind', 'crossword', 'crowd', 'crowded', 'cruel', 'cruise', 'crumb', 'crummyservice', 'crutch', 'cruz', 'crw', 'cry', 'crystal', 'cs', 'csfail', 'csm', 'csnrpvy', 'cspkcats', 'csr', 'csrs', 'cst', 'cstmr', 'ct', 'ctg', 'ctl', 'ctr', 'cu', 'cuba', 'cud', 'cudtomers', 'cue', 'cuiewo', 'cultural', 'culture', 'cun', 'cup', 'cur', 'curb', 'curbside', 'curious', 'current', 'currently', 'currentlysittingontarmac', 'curse', 'curt', 'curtesy', 'curvygirltravels', 'cushion', 'cust', 'custexp', 'custom', 'customer', 'customerexperience', 'customerloyalty', 'customerservice', 'customerservicefail', 'customerservicenot', 'customerserviceplease', 'customerservices', 'customersfirst', 'custs', 'custserv', 'cut', 'cute', 'cutest', 'cutoff', 'cutting', 'cuz', 'cuzco', 'cvg', 'cvgairport', 'cw', 'cwgab', 'cx', 'cxl', 'cxld', 'cxp', 'cxttxv', 'cycle', 'cyguq', 'cyncyn', 'cyndi', 'cyprhe', 'czamkoff', 'czplhl', 'da', 'dad', 'daddy', 'daddyshome', 'daiber', 'daily', 'dajwzhlvyu', 'dakota', 'dal', 'dale', 'dallas', 'dallaslovefield', 'damage', 'damaged', 'damageluggage', 'damion', 'damionflight', 'damn', 'damper', 'dan', 'danahajek', 'dance', 'dancing', 'dandy', 'dang', 'danger', 'dangerous', 'danny', 'dare', 'dark', 'darn', 'darrel', 'dart', 'dartmedia', 'daryl', 'data', 'date', 'dating', 'datingrev', 'daughter', 'david', 'davidson', 'davis', 'davuy', 'dawn', 'day', 'daycare', 'daysinn', 'daysofhell', 'daysofunitedfailures', 'daystogo', 'daytona', 'db', 'dbcvepn', 'dbh', 'dbyr', 'dc', 'dca', 'dcjxlzl', 'dcoadavon', 'dcobokn', 'dcwerz', 'dd', 'ddqq', 'de', 'deactivate', 'deactivated', 'dead', 'deadhead', 'deaf', 'deaffriendly', 'deal', 'dealing', 'dealt', 'dean', 'deane', 'dear', 'death', 'debacle', 'debating', 'debit', 'deboards', 'dec', 'deceiving', 'december', 'decency', 'decent', 'deceptive', 'decide', 'decided', 'decides', 'deciding', 'decision', 'deck', 'declaration', 'decline', 'declined', 'decorum', 'dedicated', 'dedication', 'deedee', 'deemed', 'deep', 'deeply', 'def', 'defcon', 'defend', 'deferring', 'defiantly', 'defibrillator', 'deficiency', 'define', 'defines', 'definitely', 'definition', 'deflator', 'degree', 'degreesathome', 'deice', 'deiced', 'deicing', 'del', 'delacy', 'delaney', 'delay', 'delayed', 'delayforwhat', 'delaying', 'delayua', 'delete', 'deleted', 'delhi', 'deli', 'delicious', 'delight', 'delighted', 'delightful', 'delinquent', 'deliver', 'delivered', 'delivering', 'delivery', 'delk', 'delta', 'deltaassist', 'deltanews', 'deltapoints', 'delyd', 'demanding', 'demo', 'demolish', 'den', 'denairport', 'denied', 'denise', 'denisejtaylor', 'dented', 'denver', 'denverairport', 'deny', 'deoderant', 'deodorant', 'dep', 'depart', 'departed', 'departing', 'department', 'departs', 'departure', 'depending', 'deplane', 'deplaned', 'deplaning', 'deplorable', 'dept', 'derekc', 'derrick', 'descending', 'describe', 'describing', 'description', 'desert', 'deserve', 'deserved', 'deserves', 'design', 'designated', 'designed', 'designer', 'desire', 'desired', 'desition', 'desk', 'desktop', 'desperate', 'desperately', 'despicable', 'despise', 'despite', 'dest', 'destination', 'destinationdragon', 'destinationdragons', 'destroy', 'destroyed', 'destroying', 'detail', 'detailed', 'detector', 'deter', 'determination', 'detroit', 'devaluation', 'devastated', 'develop', 'developer', 'development', 'device', 'devs', 'dfpietra', 'dfps', 'dfw', 'dfwairport', 'dgctt', 'dgruber', 'dh', 'dhepburn', 'dhhomg', 'dhi', 'dia', 'diabetic', 'dial', 'dialing', 'dialogue', 'dialup', 'diamond', 'diaper', 'dice', 'dick', 'dickhead', 'dictionary', 'didnt', 'die', 'died', 'diego', 'diet', 'dietcoke', 'diff', 'differ', 'difference', 'different', 'differently', 'difficult', 'difficulty', 'dig', 'digging', 'digit', 'digital', 'dignity', 'dilemma', 'diligent', 'dim', 'dime', 'dimension', 'dimmed', 'ding', 'dining', 'dinner', 'dinosaur', 'direct', 'directed', 'directflights', 'directing', 'direction', 'directly', 'directtv', 'directv', 'dirt', 'dirtiest', 'dirty', 'dis', 'disability', 'disabled', 'disabledtraveler', 'disappear', 'disappeared', 'disappearing', 'disappears', 'disappoint', 'disappointed', 'disappointing', 'disappointment', 'disappoints', 'disapptment', 'disaster', 'disastrous', 'discnct', 'discomfort', 'disconnect', 'disconnected', 'disconnecting', 'disconnection', 'discontinued', 'discount', 'discouraging', 'discourteous', 'discover', 'discovered', 'discrimination', 'discus', 'discussing', 'disgrace', 'disgraceful', 'disgruntled', 'disguised', 'disgusted', 'disgusting', 'disgutedindenver', 'disheartening', 'dishonest', 'dishonoring', 'disinfectant', 'dislike', 'dismissed', 'dismissive', 'disney', 'disneyprincesshalfmarathon', 'disorganised', 'disorganization', 'disorganized', 'dispatch', 'dispatcher', 'dispatchissue', 'displaced', 'display', 'displayed', 'displeased', 'displeasure', 'disproportionate', 'dispute', 'disregard', 'disrespect', 'disrespected', 'disrespectful', 'disrespectfully', 'disrupted', 'dissapointed', 'dissapointing', 'dissapointment', 'dissaponted', 'dissatisfaction', 'dissatisfied', 'disspointed', 'distance', 'distressed', 'distribution', 'disturb', 'disupdates', 'div', 'diverged', 'diversion', 'divert', 'diverted', 'diverting', 'divided', 'dividend', 'dividendmiles', 'dividendrewards', 'dividendsmember', 'divident', 'divider', 'dj', 'djevolutionhd', 'djhai', 'djhxvjt', 'djimpact', 'djjjn', 'djq', 'dk', 'dkzl', 'dl', 'dlh', 'dm', 'dmangen', 'dmed', 'dming', 'dmoukdarath', 'dmv', 'dn', 'dnmsblzumr', 'dnt', 'do', 'dobetter', 'dobetterjetblue', 'doc', 'docmvotwti', 'doctor', 'document', 'documentation', 'doesnt', 'doesntfeellikestatusyet', 'dog', 'dogbuckeye', 'doi', 'doin', 'doke', 'doll', 'dollar', 'domestic', 'domingo', 'dominican', 'dominick', 'donaldaroberts', 'donate', 'donation', 'done', 'donkey', 'donneiiy', 'donotflyusair', 'donotflywiththem', 'dont', 'dontflythem', 'dontflyusairways', 'donthavehighhopes', 'dontmakemebeg', 'dontmakemegooutside', 'donut', 'doo', 'doom', 'door', 'doorstep', 'dorns', 'dory', 'dosequis', 'dot', 'dotnetnate', 'doua', 'double', 'doubt', 'doubtful', 'doug', 'doumented', 'dounotwantmybusiness', 'down', 'downgrade', 'downgraded', 'downhill', 'download', 'downloaded', 'downnnnn', 'downright', 'downstairs', 'downtown', 'doyourjob', 'dozen', 'dpdfpp', 'dphqrgkdoa', 'dplq', 'dpt', 'dpted', 'dpx', 'dqbai', 'dqjl', 'dqny', 'dqzlrjo', 'dr', 'draft', 'drag', 'dragon', 'drain', 'draw', 'drawing', 'dre', 'dreadful', 'dreading', 'dream', 'dreamliner', 'dreampath', 'drenched', 'dresparkles', 'dress', 'drift', 'drink', 'drinker', 'drive', 'driven', 'driver', 'driving', 'drone', 'drop', 'droped', 'dropped', 'droppeditoffyet', 'dropping', 'drove', 'drunk', 'drunkpilots', 'drvrugby', 'drw', 'dry', 'dsdebodmel', 'dsearls', 'dsi', 'dsm', 'dtheyofxrb', 'dtlguq', 'dtv', 'dtw', 'duanenclark', 'dub', 'dubai', 'dublin', 'dublinairport', 'duck', 'dude', 'due', 'duecto', 'duffle', 'duffy', 'duh', 'duke', 'dulles', 'dullessucks', 'dultch', 'duma', 'dumb', 'dump', 'dumped', 'dumping', 'dunkin', 'dunno', 'duped', 'durango', 'dust', 'dustyob', 'duty', 'duw', 'dvr', 'dvt', 'dw', 'dxb', 'dxn', 'dy', 'dying', 'dzg', 'dzkc', 'dzpnz', 'eagle', 'eakpa', 'earlier', 'earliest', 'early', 'earlybird', 'earlybirdmeansnothing', 'earn', 'earned', 'earnedmybusiness', 'earning', 'earnings', 'earphone', 'earth', 'earthquake', 'ease', 'easier', 'easiest', 'easily', 'east', 'easter', 'eastern', 'easy', 'eat', 'eaten', 'eatgregeat', 'eating', 'eatup', 'eb', 'ebeemvg', 'ebhset', 'ebk', 'ebokeers', 'ebola', 'ebxc', 'ec', 'eco', 'ecom', 'econ', 'economy', 'ecuador', 'eczhcmm', 'ed', 'edgc', 'edgy', 'edinburgh', 'edit', 'edition', 'edplotts', 'edreams', 'educate', 'education', 'educational', 'ee', 'eef', 'eegek', 'eerekdf', 'ef', 'effect', 'effective', 'efficencies', 'efficiency', 'efficient', 'efficiently', 'effin', 'effing', 'effort', 'effortless', 'efw', 'ege', 'eghdgn', 'egkvfokogj', 'egregious', 'eh', 'ehnee', 'eight', 'eis', 'either', 'eix', 'ejacqui', 'ek', 'el', 'elaborate', 'elbow', 'elderly', 'elected', 'electric', 'electrical', 'electronic', 'elevate', 'elevategold', 'elevator', 'elhxuv', 'eligible', 'elise', 'elite', 'eliz', 'eliza', 'elizabeth', 'ellahenderson', 'elliott', 'elm', 'elp', 'elpa', 'elpaso', 'else', 'elsewhere', 'elwoodblues', 'em', 'email', 'emailed', 'emailing', 'emailmailto', 'emaleesugano', 'emb', 'embarrassed', 'embarrassing', 'embarrassment', 'embassy', 'embed', 'embody', 'embossed', 'embraersa', 'emer', 'emerald', 'emerg', 'emergency', 'emerging', 'emeyerson', 'emily', 'emirate', 'emmaclifford', 'emotional', 'emp', 'empathetic', 'empathize', 'empathizes', 'empathy', 'emphasize', 'empl', 'emplid', 'employ', 'employee', 'employeerelations', 'emptied', 'empty', 'emrey', 'emrubu', 'emv', 'emxlyy', 'en', 'encounter', 'encountered', 'encourage', 'end', 'ended', 'ending', 'endless', 'endlessly', 'enemy', 'energy', 'enertainment', 'enforce', 'enforcement', 'enforcing', 'engadget', 'engagement', 'engaging', 'engine', 'england', 'english', 'enhance', 'enjoy', 'enjoyable', 'enjoyed', 'enjoying', 'enormous', 'enough', 'enquires', 'enraging', 'enroll', 'enrolled', 'enroute', 'ensued', 'ensure', 'ensured', 'ensuring', 'enter', 'entered', 'entering', 'enterprise', 'entertain', 'entertained', 'entertaining', 'entertainment', 'entertainmnt', 'entire', 'entirely', 'entitled', 'entrance', 'entree', 'entrusted', 'entry', 'enuf', 'environment', 'envoy', 'enzo', 'eofthgaj', 'eom', 'ep', 'epic', 'epicfail', 'epicfailunited', 'epicfailure', 'epipens', 'epitimeoffail', 'eps', 'eqepkkpsxm', 'eqm', 'eqqi', 'equal', 'equality', 'equalizer', 'equally', 'equip', 'equipment', 'equipped', 'equivalent', 'eqyahfvz', 'er', 'erased', 'ergpdwsj', 'eri', 'ericbradleypt', 'erickofiejones', 'erieairport', 'erj', 'ernie', 'err', 'erring', 'error', 'errored', 'erw', 'erzht', 'esbnzg', 'escalate', 'escape', 'escorted', 'esmmnizek', 'esp', 'especially', 'espinosa', 'espn', 'essence', 'essentially', 'essfoowt', 'est', 'establish', 'established', 'estelle', 'estimate', 'estimated', 'et', 'eta', 'etailwest', 'etc', 'eternal', 'eternally', 'etfjqiwuvt', 'ethan', 'ethic', 'ethiopia', 'etihad', 'eu', 'eudlczg', 'eueyxawcv', 'europe', 'evaluate', 'evansville', 'evasive', 'even', 'evening', 'evenlate', 'evennotified', 'event', 'eventhoughits', 'eventprof', 'eventually', 'ever', 'everglades', 'evermoreroom', 'every', 'everybody', 'everyone', 'everything', 'everytime', 'everywhere', 'evidence', 'evidently', 'evn', 'evolved', 'evr', 'evry', 'evrytime', 'evv', 'ew', 'ewj', 'ewk', 'ewr', 'ewwgi', 'ewxwxidtfx', 'ex', 'exacerbates', 'exact', 'exactly', 'exam', 'example', 'exasperating', 'exceed', 'excellence', 'excellent', 'excellentcustomerservice', 'except', 'exception', 'exceptional', 'exceptionally', 'exceptionalservice', 'excess', 'exchange', 'excited', 'exciting', 'exclusive', 'exclusively', 'excruciatingly', 'excusable', 'excuse', 'exec', 'execplat', 'execution', 'executive', 'executiveplatinummeansnothing', 'exercise', 'exhausted', 'exhausting', 'exhibited', 'exhorbitantfees', 'exicted', 'exist', 'existence', 'existent', 'existing', 'exists', 'exit', 'exiting', 'exp', 'expand', 'expanded', 'expansion', 'expect', 'expectation', 'expected', 'expecting', 'expects', 'expedia', 'expedient', 'expedite', 'expedited', 'expeditious', 'expense', 'expensive', 'exper', 'experience', 'experienced', 'experiencing', 'expiration', 'expire', 'expired', 'expires', 'expiring', 'explain', 'explained', 'explaining', 'explains', 'explanation', 'explore', 'explorer', 'exposed', 'expowest', 'express', 'expressed', 'expressing', 'exps', 'extend', 'extended', 'extension', 'extent', 'extinct', 'extortion', 'extra', 'extraction', 'extraordinaire', 'extraordinary', 'extravaganza', 'extreme', 'extremely', 'ey', 'eye', 'eyewitness', 'eyj', 'eyku', 'eyw', 'ezemanalyst', 'fa', 'faa', 'faaaannntastic', 'faail', 'faanews', 'fab', 'fabulous', 'face', 'facebook', 'faced', 'faceless', 'facepalm', 'facility', 'facing', 'fact', 'fafqhsf', 'fail', 'failagain', 'failback', 'failed', 'failing', 'failingyourcustomer', 'fails', 'failure', 'faint', 'fair', 'faire', 'fairfax', 'fairly', 'fairway', 'faith', 'faithful', 'fake', 'fakeawards', 'fakesincerity', 'fall', 'fallen', 'falling', 'fallow', 'false', 'falseadvertising', 'fam', 'familiar', 'family', 'fan', 'fancy', 'fantastic', 'far', 'farce', 'fare', 'farecompare', 'farelock', 'fargo', 'fargoairport', 'fast', 'fasten', 'faster', 'fastest', 'fat', 'fate', 'father', 'fattire', 'fattuesday', 'fault', 'faulty', 'faundation', 'fav', 'fave', 'faves', 'favor', 'favorite', 'favoriteairline', 'fay', 'fb', 'fbtemfwrsp', 'fc', 'fcuk', 'fd', 'fe', 'fear', 'fearing', 'feature', 'feb', 'february', 'fec', 'feces', 'feck', 'fed', 'federal', 'fedex', 'fedexed', 'fedup', 'fee', 'feed', 'feedback', 'feel', 'feeling', 'feelingtheluv', 'fehqne', 'fell', 'fella', 'felt', 'fend', 'fernheinig', 'ferrissalameh', 'ferry', 'festival', 'festivity', 'fewer', 'ff', 'ffanixjhwh', 'ffc', 'ffl', 'fgrbpazsix', 'fh', 'fhes', 'fi', 'fianc', 'fiasco', 'fib', 'fiction', 'fidencio', 'fidifamilies', 'field', 'fifty', 'fight', 'figure', 'figured', 'file', 'filed', 'filing', 'fill', 'filled', 'filling', 'film', 'filmcrew', 'filmjobnoequipment', 'filthy', 'filthyplane', 'final', 'finale', 'finally', 'finalstretch', 'financial', 'find', 'findanothergate', 'finding', 'findurgrip', 'fine', 'finest', 'finger', 'fingerscrossed', 'finish', 'finnair', 'finq', 'fioretti', 'fire', 'fired', 'firefighter', 'firefox', 'firevan', 'firing', 'firm', 'first', 'firstclass', 'firststari', 'firstworldproblems', 'fist', 'fistfight', 'fit', 'fitz', 'five', 'fix', 'fixed', 'fixing', 'fixthis', 'fixyourstuff', 'fjbfsc', 'fka', 'fkn', 'fl', 'fla', 'flashlight', 'flat', 'flatiron', 'flattering', 'flaw', 'flawed', 'flbgzzkd', 'flcnnn', 'fleek', 'fleet', 'flew', 'flex', 'flexibility', 'flexible', 'flght', 'flgt', 'flier', 'flierfriendly', 'flight', 'flightation', 'flightations', 'flightattendant', 'flightaware', 'flightd', 'flightdelay', 'flighted', 'flightedflight', 'flightfail', 'flighting', 'flightlation', 'flightlations', 'flightled', 'flightledflight', 'flightling', 'flightly', 'flightn', 'flightnightmare', 'flightr', 'flightrs', 'flightst', 'fligt', 'fligth', 'fligths', 'flintstone', 'flip', 'flipped', 'flite', 'fll', 'fllairport', 'fllight', 'flood', 'floor', 'florida', 'flow', 'flower', 'flown', 'flt', 'flts', 'fluctuated', 'flutter', 'flwmgdahxu', 'fly', 'flyana', 'flybetter', 'flydelta', 'flydeltanexttime', 'flyeia', 'flyer', 'flyerfriendly', 'flyfi', 'flyfrontier', 'flying', 'flyingitforward', 'flyingwithus', 'flyitforward', 'flyjetblue', 'flyknoxville', 'flylaxairport', 'flypdx', 'flyquiet', 'flyrepublicair', 'flysaa', 'flysfo', 'flysouthwest', 'flyswa', 'flythefriendlyskies', 'flytpa', 'flyunited', 'flyus', 'flywhonotblue', 'flyyow', 'fm', 'fmipw', 'fmjtyl', 'fml', 'fmr', 'fmzzoltv', 'fnd', 'fo', 'focus', 'focused', 'fog', 'foh', 'fold', 'folder', 'folding', 'folk', 'follow', 'followback', 'followed', 'follower', 'following', 'follows', 'fong', 'food', 'foodallergies', 'foodallergy', 'fool', 'foolish', 'foot', 'footage', 'force', 'forced', 'forcedovernight', 'forcing', 'forecast', 'forecasted', 'foreign', 'forelock', 'foresight', 'forever', 'forfeit', 'forfeited', 'forget', 'forgets', 'forgetting', 'forgive', 'forgiven', 'forgot', 'forgotten', 'form', 'formal', 'formality', 'formally', 'format', 'former', 'formula', 'fornpf', 'fort', 'forth', 'fortunately', 'fortunemagazine', 'forty', 'forum', 'forward', 'forwarding', 'fostering', 'found', 'four', 'fourth', 'fox', 'foxnews', 'fp', 'fpcgrej', 'fproblems', 'fq', 'fr', 'fra', 'fraction', 'fran', 'france', 'franchise', 'francisco', 'frank', 'frankfurt', 'frankly', 'fraqdpkyga', 'fraud', 'frd', 'freak', 'freaked', 'freaking', 'freaky', 'freberg', 'fred', 'freddieawards', 'free', 'freedrinkcoupons', 'freeflight', 'freeze', 'freezing', 'french', 'freq', 'frequency', 'frequent', 'frequentflyer', 'frequentflyers', 'fresh', 'fresno', 'freyabevan', 'freyasfund', 'frghglmkqf', 'frhuxib', 'fri', 'fricken', 'friday', 'friend', 'friendliest', 'friendly', 'friendlyfriday', 'friendlyskies', 'friendlyteam', 'frigid', 'frigidfriday', 'fritz', 'frm', 'fro', 'fromthefrontseat', 'fron', 'front', 'frontier', 'frontrunner', 'froschtravel', 'froward', 'frowny', 'frozen', 'frozentoilet', 'fruit', 'frustrated', 'frustrating', 'frustratingly', 'frustration', 'fsd', 'fsqthg', 'fsw', 'ft', 'ftl', 'ftlauderdale', 'ftlauderdalesun', 'ftlzwtvo', 'ftmyers', 'ftw', 'ftzw', 'fu', 'fuchzrzjg', 'fuck', 'fucked', 'fucken', 'fuckin', 'fucking', 'fuckinlame', 'fuckoff', 'fudgers', 'fudgin', 'fuel', 'fueled', 'fuk', 'fuking', 'fulfill', 'fulfilled', 'full', 'fullprice', 'fully', 'fulmh', 'fun', 'func', 'functional', 'functionality', 'functionally', 'functioning', 'fund', 'funeral', 'funflightattendants', 'funited', 'funny', 'funnycaptain', 'fupf', 'furious', 'furnish', 'furrow', 'furryfiesta', 'fustrated', 'fusturated', 'future', 'fv', 'fvelcygz', 'fvf', 'fvj', 'fvk', 'fvlxirh', 'fvudmh', 'fw', 'fwa', 'fwd', 'fwiw', 'fwkj', 'fwy', 'fwzclbvug', 'fx', 'fxnv', 'fy', 'fyi', 'fyvrfn', 'fyybhjhl', 'ga', 'gabriela', 'gaga', 'gagent', 'gah', 'gain', 'gainesville', 'gal', 'gala', 'galaxy', 'galley', 'game', 'gameboy', 'gang', 'gangway', 'garage', 'garbage', 'garcia', 'gary', 'garywerk', 'gas', 'gassing', 'gastoncounty', 'gate', 'gatwick', 'gave', 'gay', 'gb', 'gbd', 'gcks', 'gcwvfuopl', 'gcy', 'gd', 'gdx', 'gdzadxzbya', 'gear', 'gee', 'geeeeezzzzz', 'geekandahalf', 'geekstiel', 'geez', 'geg', 'geiger', 'gem', 'general', 'generally', 'generated', 'generic', 'geneva', 'genious', 'genius', 'gent', 'gentleman', 'gently', 'genuine', 'genuinely', 'georgia', 'geraldine', 'germ', 'gerne', 'gerri', 'gesture', 'get', 'getaway', 'getconnected', 'getittogether', 'getmartyhome', 'getmehome', 'getmeoffrhisfuckinplane', 'getmeoffthisbird', 'getmeoffthisplane', 'getmeontop', 'getmeoutofhere', 'getmeouttahere', 'gettin', 'getting', 'gettingbetter', 'gettingthirsty', 'getyouracttogether', 'getyourlife', 'geyxby', 'gf', 'gfc', 'gfi', 'gg', 'ggreenwald', 'ghettofab', 'gi', 'giant', 'giennyqn', 'gift', 'gifting', 'gig', 'gill', 'gimme', 'gin', 'girl', 'girlfriend', 'girlsweekend', 'gist', 'give', 'given', 'givethoseladiesraise', 'giving', 'gj', 'gjqx', 'gjt', 'gkgkzlawpr', 'gla', 'glad', 'gladly', 'glasgow', 'glass', 'glenn', 'glitch', 'global', 'globe', 'glove', 'glowing', 'gluten', 'gm', 'gma', 'gmail', 'gml', 'gmvd', 'gn', 'gng', 'gnight', 'gnv', 'go', 'goal', 'gobankrupt', 'god', 'goddamn', 'godelta', 'gofundme', 'gogh', 'gogo', 'goin', 'going', 'goingforgreat', 'goingforgreatnessfail', 'gok', 'gold', 'golden', 'golf', 'golfunited', 'golfwithwoody', 'gom', 'gone', 'gong', 'gonmrwem', 'gonna', 'good', 'goodbye', 'goodcustomerservice', 'goodenoughmother', 'goodflight', 'goodgriefpeople', 'goodluckamericanair', 'goodness', 'goodthingscome', 'goodwill', 'google', 'goose', 'goosebayairport', 'gooutofbusiness', 'gopatriots', 'gopro', 'gorgeous', 'gosh', 'got', 'gotcha', 'gotta', 'gotten', 'gottogetbetter', 'gouzrdt', 'gov', 'government', 'governor', 'govt', 'gpu', 'gqdt', 'gqebfk', 'gqni', 'gqp', 'gr', 'grabbed', 'grace', 'gracias', 'gracious', 'grade', 'graduate', 'graduation', 'gramp', 'grand', 'grandbabies', 'grandcayman', 'grandfather', 'grandma', 'grandmother', 'grandpa', 'grandparent', 'granny', 'granting', 'graphic', 'grateful', 'gray', 'great', 'greatcustomerservice', 'greater', 'greatest', 'greatjob', 'greatly', 'greatservice', 'greed', 'greedy', 'greeeaat', 'green', 'greenfield', 'greensboro', 'greenville', 'greeting', 'greg', 'gregm', 'greyhoundbus', 'grief', 'grievance', 'grinding', 'gripeo', 'grk', 'grnd', 'groan', 'gross', 'grossed', 'grossedout', 'grouchy', 'ground', 'grounded', 'group', 'groupa', 'grouping', 'grow', 'grp', 'grr', 'grrrr', 'grrrrrrrr', 'grrwaaa', 'grt', 'gru', 'gruber', 'grumpy', 'grumpykim', 'gsa', 'gsb', 'gso', 'gsp', 'gt', 'gtdwpk', 'gth', 'gtsvyb', 'gtzxz', 'guacamole', 'guarantee', 'guaranteed', 'guardia', 'guatemala', 'guc', 'guess', 'guessing', 'guesstimate', 'guest', 'guidance', 'guide', 'guideline', 'guilty', 'guiltypleasures', 'guitar', 'gum', 'gun', 'gunna', 'guru', 'gusty', 'guy', 'guyyyys', 'gvn', 'gx', 'gxdqortss', 'gxvfumn', 'gxwi', 'gz', 'gzb', 'ha', 'habitrails', 'habitually', 'habyep', 'hack', 'hacked', 'hah', 'haha', 'hahah', 'hahaha', 'hahahah', 'hahahaha', 'hahahahaha', 'hair', 'haiti', 'haj', 'half', 'halfway', 'hammer', 'hamster', 'hand', 'handbag', 'handed', 'handedly', 'handicap', 'handicapped', 'handily', 'handing', 'handle', 'handled', 'handler', 'handling', 'handshake', 'handy', 'hang', 'hangar', 'hanged', 'hanger', 'hanging', 'hangup', 'hannah', 'happen', 'happend', 'happened', 'happening', 'happens', 'happier', 'happily', 'happiness', 'happy', 'happybirthday', 'happycamper', 'happycustomer', 'happyflier', 'happyfriday', 'happytohelp', 'happytweet', 'harass', 'harbor', 'hard', 'harder', 'hardest', 'hardly', 'hardtodo', 'hardworking', 'hare', 'harf', 'harris', 'harsh', 'hartford', 'hashtag', 'hassle', 'hasty', 'hat', 'hatch', 'hate', 'hated', 'hateful', 'hating', 'haul', 'havana', 'havent', 'havin', 'havoc', 'hawaii', 'hawaiian', 'hawaiianair', 'hayden', 'hayes', 'hayleymad', 'hazard', 'hb', 'hbg', 'hbsj', 'hbt', 'hcnpro', 'hcqzt', 'hd', 'hdn', 'hdndl', 'hdoxim', 'head', 'headache', 'headed', 'heading', 'headphone', 'health', 'hear', 'heard', 'hearing', 'heart', 'heartbroken', 'heartlanta', 'heartless', 'heat', 'heated', 'heathrow', 'heathrowairport', 'heattrap', 'heaven', 'heavily', 'heavy', 'heck', 'heel', 'hegshmeg', 'height', 'helacohlc', 'held', 'helene', 'hell', 'hella', 'heller', 'hello', 'hellobrittney', 'help', 'helped', 'helper', 'helpful', 'helpfulness', 'helpimstuck', 'helping', 'helpless', 'helpline', 'hemisphere', 'hence', 'henrikwagner', 'hep', 'hepknpuzwu', 'hepl', 'herb', 'herba', 'herbal', 'herded', 'herman', 'herndon', 'hero', 'hesitant', 'hey', 'heyo', 'heyyyy', 'hfho', 'hfjyn', 'hfof', 'hgqprsg', 'hgw', 'hh', 'hhagerty', 'hhoxqpsuba', 'hi', 'hiccup', 'hid', 'hidden', 'hide', 'higgs', 'high', 'higher', 'higherandhigher', 'highest', 'highlight', 'highly', 'hike', 'hilarious', 'hill', 'hillaconlin', 'hilo', 'hilton', 'hime', 'hindered', 'hint', 'hinted', 'hipster', 'hipunis', 'hirasmusbidragi', 'hire', 'hiremorepeople', 'hiremorepoeple', 'hiring', 'hishb', 'history', 'hit', 'hitawall', 'hitch', 'hitting', 'hj', 'hjucp', 'hlp', 'hlzahxkdsn', 'hm', 'hmcrjchb', 'hmmm', 'hmmqczkcf', 'hn', 'hnl', 'ho', 'hoagy', 'hof', 'hofmann', 'hold', 'holder', 'holding', 'holdtime', 'holdup', 'hole', 'holiday', 'holler', 'hollow', 'hollymais', 'holton', 'holy', 'home', 'homegirl', 'homeless', 'homeschool', 'hometown', 'homeward', 'homm', 'homosexual', 'hon', 'honalulu', 'honest', 'honestly', 'honesty', 'honey', 'honeymoon', 'honolulu', 'honor', 'honored', 'honoring', 'honululu', 'hoo', 'hoodlum', 'hook', 'hooked', 'hooooo', 'hoop', 'hooray', 'hoot', 'hop', 'hope', 'hoped', 'hopeful', 'hopefully', 'hopeidonotgetsick', 'hopeless', 'hopethegearmakesitintact', 'hopetogetanswersoon', 'hoping', 'hopkins', 'hormonal', 'horrendous', 'horrible', 'horribleattitudes', 'horriblecustomerservice', 'horribleservice', 'horribly', 'horrid', 'horrific', 'horror', 'horse', 'hosp', 'hospice', 'hospital', 'hospitality', 'hostage', 'hostel', 'hostile', 'hosting', 'hot', 'hotel', 'hotelliving', 'hotelstonight', 'hotl', 'hotline', 'hotmail', 'hotspot', 'hotter', 'hotterandlongerthanhell', 'hou', 'hour', 'hourandtenminutedelay', 'hourwait', 'hourwaitsucks', 'house', 'housing', 'houston', 'hover', 'however', 'howhardcanthatreallybe', 'howisthatpossible', 'hp', 'hpn', 'hpsqvrjk', 'hqdb', 'hqdtk', 'hqez', 'hqhdad', 'hqoks', 'hr', 'hrdelay', 'hrl', 'hrqq', 'hsmgy', 'hsmpbsf', 'hsnlgie', 'hstg', 'hsv', 'hts', 'http', 'hub', 'hubby', 'huclxluv', 'hug', 'huge', 'hugely', 'hughes', 'huh', 'hum', 'human', 'humanity', 'humiliated', 'humiliating', 'humor', 'humored', 'humour', 'humphrey', 'hundred', 'hung', 'hungary', 'hungry', 'hungupnohelp', 'hunky', 'hunt', 'huntsville', 'hurry', 'hurt', 'hurting', 'hury', 'hurz', 'husband', 'huston', 'huxleyesque', 'hv', 'hve', 'hvfqb', 'hwfkfo', 'hwnac', 'hxlnvzknp', 'hxsdp', 'hxvvis', 'hy', 'hyhw', 'hypocrisy', 'hyrao', 'ia', 'iad', 'iadore', 'iah', 'ialiceh', 'iamtedking', 'iata', 'ib', 'ibvvtzls', 'ic', 'ice', 'iced', 'iceland', 'icing', 'iconography', 'icu', 'icy', 'icyflight', 'id', 'idaho', 'idea', 'ideologias', 'ideserveareward', 'idiot', 'idiotic', 'idk', 'idlovetoask', 'idnumber', 'idol', 'idonotcare', 'idontwanttocallback', 'idra', 'ieg', 'iest', 'ifc', 'ifeeldumb', 'ifespcbztm', 'iflyalot', 'iflyswa', 'ifnjit', 'ifthe', 'ig', 'igiveup', 'igkogywksr', 'ignorant', 'ignore', 'ignored', 'ignores', 'ignoring', 'igqjn', 'ih', 'iha', 'ihatemergers', 'ihop', 'ii', 'iidrblnoox', 'iimtjxcvlg', 'iitojhuikh', 'ij', 'ijustwanttobeinboston', 'ikbp', 'ikqbdza', 'il', 'ilc', 'ill', 'illegal', 'illiterate', 'illness', 'illogical', 'ilm', 'ilqzmmjiyq', 'ilw', 'im', 'image', 'imagine', 'imagined', 'imaginedragons', 'imateacher', 'imdckodfx', 'imdetermined', 'imh', 'imjustsaying', 'imma', 'immediate', 'immediately', 'immensely', 'imo', 'impact', 'impaired', 'impatience', 'impatient', 'impediment', 'impending', 'impersonal', 'implement', 'impolite', 'important', 'importantflight', 'impossible', 'impossibly', 'impress', 'impressed', 'impression', 'impressive', 'improper', 'improve', 'improved', 'improvement', 'improvetheprocess', 'imrlau', 'imtired', 'imvmpnqxai', 'in', 'inability', 'inaccessibility', 'inaccurate', 'inadequate', 'inappropriate', 'inappropriately', 'inbound', 'inbox', 'inc', 'incapable', 'incedentals', 'incentive', 'inch', 'inchecking', 'incident', 'incidental', 'incidentally', 'incl', 'inclement', 'incls', 'include', 'included', 'includes', 'including', 'inclusion', 'income', 'incoming', 'incompetence', 'incompetency', 'incompetent', 'incompetentmanagers', 'incomprehensible', 'inconsiderate', 'inconsistent', 'inconvenience', 'inconvenienced', 'inconvenient', 'inconveniently', 'inconvience', 'incorrect', 'incorrectly', 'increased', 'increasing', 'incredible', 'incredibly', 'increment', 'incur', 'incurred', 'ind', 'indeed', 'independence', 'india', 'indian', 'indianapolis', 'indicated', 'indicates', 'indicating', 'indication', 'indignation', 'individual', 'induce', 'industry', 'indy', 'inebriated', 'inedible', 'ineedabeer', 'ineedcoffee', 'inefficiency', 'inefficient', 'ineligible', 'inept', 'inevitable', 'inexcusable', 'inexpensive', 'inexperienced', 'infant', 'inferior', 'infinite', 'inflatable', 'inflating', 'inflation', 'inflexible', 'inflight', 'influx', 'info', 'infographic', 'inform', 'information', 'informative', 'informed', 'informing', 'informs', 'infringement', 'infuriated', 'infuriating', 'ing', 'ingeniero', 'inhumane', 'initial', 'injured', 'injury', 'inline', 'inner', 'innovacion', 'innovation', 'innp', 'inoperable', 'inpolite', 'input', 'inputted', 'inquire', 'inquired', 'inquiry', 'insane', 'insanely', 'insanity', 'insensitive', 'inserted', 'inside', 'insider', 'insight', 'insist', 'insisted', 'inspected', 'inspiration', 'inspired', 'inspiring', 'instagram', 'installed', 'instance', 'instant', 'instantly', 'instead', 'institutional', 'instructed', 'instruction', 'instrument', 'insubstantial', 'insufficient', 'insulin', 'insult', 'insulted', 'insulting', 'insurance', 'insure', 'int', 'intact', 'integrate', 'integrating', 'integration', 'integrity', 'intel', 'intelligence', 'intelligent', 'intend', 'intended', 'intent', 'intention', 'intentional', 'intentionally', 'interaction', 'interchangeably', 'intercom', 'intercontinental', 'interest', 'interested', 'interesting', 'interfering', 'interim', 'interior', 'intern', 'internal', 'internally', 'international', 'internationally', 'internet', 'internship', 'interpreting', 'interrogated', 'interrupted', 'interupt', 'interview', 'interviewed', 'intl', 'intlcheckin', 'intra', 'intro', 'intrusive', 'invalid', 'inventory', 'invest', 'investigate', 'investigated', 'investigation', 'investment', 'investor', 'invitation', 'invitational', 'invite', 'invited', 'invoice', 'involuntarily', 'involve', 'involved', 'io', 'iol', 'ionlyflyblue', 'iosphm', 'iowa', 'ip', 'ipaamzt', 'ipad', 'ipgeicsm', 'iphone', 'iqr', 'iqu', 'ir', 'iraiq', 'irate', 'irene', 'irina', 'irixaifjjx', 'irmafromdallas', 'iron', 'ironman', 'irregularity', 'irreplaceable', 'irresponsible', 'irritated', 'irritating', 'irrops', 'iruvg', 'isabelle', 'isdelayed', 'ish', 'ishouldhavedriven', 'isi', 'isit', 'isitsummeryet', 'isitthegarykellyway', 'island', 'isml', 'isnt', 'isp', 'israel', 'issue', 'issued', 'issuing', 'istead', 'isthisreal', 'isthisyourfirsttry', 'istudios', 'italian', 'italy', 'item', 'itfits', 'ithaca', 'ithica', 'itinerary', 'itis', 'itover', 'itscold', 'itscostingmeincome', 'itslaloca', 'itsthelittlethings', 'itunesmusic', 'iusedtoloveu', 'iux', 'ive', 'ivgpzsjtkw', 'ivr', 'iwantcoffee', 'iwantmymoneyback', 'iwoigrlhxb', 'ix', 'ixm', 'iy', 'iyhi', 'iyuzm', 'iz', 'izfofgjzui', 'ja', 'jabevan', 'jac', 'jack', 'jackass', 'jacked', 'jacket', 'jackson', 'jacksonville', 'jacpmch', 'jacqueline', 'jacquelyn', 'jacquie', 'jail', 'jailbreak', 'jal', 'jam', 'jamaica', 'james', 'jamesasworth', 'jameskraw', 'jameswester', 'jamie', 'jammed', 'jan', 'jana', 'jane', 'janet', 'january', 'japan', 'jaramillo', 'jaskyplwt', 'jason', 'jasonwhitely', 'javascript', 'jax', 'jayvig', 'jazn', 'jb', 'jblu', 'jbn', 'jbpc', 'jbyvmsod', 'jcd', 'jcediky', 'jdhadp', 'jdver', 'jdvk', 'je', 'jealous', 'jean', 'jeanette', 'jeanine', 'jedediah', 'jedediahbila', 'jeff', 'jeffsmisek', 'jena', 'jennifer', 'jenniferdawnpro', 'jenniferwalshpr', 'jeokoo', 'jeopardy', 'jerk', 'jersey', 'jessicajaymes', 'jesus', 'jet', 'jetbae', 'jetblue', 'jetblueanyone', 'jetblueblues', 'jetbluebos', 'jetbluebruins', 'jetbluefail', 'jetbluehatesbtv', 'jetbluemember', 'jetbluemess', 'jetbluerocks', 'jetblues', 'jetbluesofly', 'jetbluesucks', 'jetbridge', 'jetgreen', 'jetred', 'jetscrew', 'jetsetter', 'jetway', 'jetways', 'jeu', 'jewel', 'jfiik', 'jfk', 'jfps', 'jfxua', 'jgor', 'jh', 'jhau', 'jhughes', 'ji', 'jide', 'jieycat', 'jim', 'jimcramer', 'jimdaytv', 'jimmy', 'jimtrotter', 'jindalcmc', 'jj', 'jjdosfyibm', 'jjia', 'jjje', 'jk', 'jkf', 'jknwugj', 'jlhalldc', 'jlhm', 'jm', 'jms', 'jn', 'jnpjm', 'joanna', 'joanne', 'job', 'jobfail', 'joe', 'john', 'johnwayneair', 'join', 'joined', 'joke', 'joker', 'jokesonus', 'joking', 'jon', 'joni', 'jordnnicole', 'jorescfb', 'jorge', 'jose', 'josephtreis', 'journal', 'journalist', 'journey', 'joy', 'jp', 'jparkermastin', 'jpd', 'jps', 'jq', 'jr', 'jrbzlhrw', 'jrm', 'jruv', 'jsom', 'jsumiyasu', 'jt', 'jtrexsocial', 'ju', 'jua', 'juan', 'juda', 'judeo', 'jul', 'julesdameron', 'julgood', 'julian', 'juliasinton', 'julie', 'july', 'jump', 'jumped', 'jumping', 'jun', 'junction', 'june', 'junk', 'justdippin', 'justdoit', 'justgetmehome', 'justify', 'justifythissupport', 'justsayin', 'justsaying', 'justwantmybed', 'justwrong', 'justynmoro', 'jv', 'jvj', 'jvmchat', 'jvstatus', 'jwa', 'jx', 'jxqep', 'jy', 'kacy', 'kaej', 'kaha', 'kairys', 'kak', 'kangaroo', 'kanne', 'kansa', 'kaps', 'karaax', 'karen', 'karren', 'kat', 'kate', 'kathryn', 'kathrynsotelo', 'katie', 'kauai', 'kax', 'kay', 'kb', 'kbkx', 'kbtzvju', 'kc', 'kci', 'kciairport', 'kcqebeej', 'kcvubuyexc', 'kdcsxu', 'kdepetro', 'kdmq', 'kdzqczlpyr', 'keambleam', 'kee', 'keep', 'keeping', 'keepingit', 'keepingtraditionsalive', 'keepit', 'keepitmovin', 'keepitup', 'keepusguessing', 'keithlaw', 'kej', 'kek', 'kelly', 'kenoh', 'kentuckymbb', 'kept', 'ker', 'kerry', 'ketr', 'keulg', 'kevin', 'kevinswan', 'kevolt', 'key', 'kfd', 'kfjd', 'kfuyyokufv', 'kg', 'kgdh', 'ki', 'kick', 'kicked', 'kicking', 'kid', 'kidding', 'kidnapped', 'kieranmahan', 'kigfkvxxdq', 'kihge', 'kill', 'killed', 'killing', 'kim', 'kind', 'kinda', 'kinder', 'kindle', 'kindly', 'kindness', 'king', 'kiosk', 'kiss', 'kit', 'kitchen', 'kitty', 'kix', 'kj', 'kkedjnrtwo', 'kkwhb', 'kkwiwi', 'kkyby', 'kleinerin', 'klzvmt', 'km', 'kmdw', 'kmm', 'kmquly', 'kn', 'knad', 'knee', 'kneee', 'knew', 'know', 'knowing', 'knowledge', 'known', 'knoxville', 'koa', 'kooples', 'korea', 'kp', 'kphl', 'kpyhcka', 'kq', 'kqb', 'kqlhvap', 'kqz', 'kr', 'kravitz', 'krescate', 'kristi', 'kshtue', 'ksml', 'ktawbiuuro', 'kthxbai', 'ktk', 'ktm', 'ktn', 'ktssk', 'kudos', 'kurt', 'kv', 'kvfwajvvid', 'kvkd', 'kvm', 'kwbk', 'kwuek', 'ky', 'kyjbcjm', 'kylecomer', 'kylejudah', 'kyrbyj', 'kzbvf', 'kzkyzrr', 'la', 'labeled', 'labor', 'labrador', 'labyrinth', 'lack', 'lacked', 'lacking', 'lacma', 'ladan', 'laden', 'lady', 'ladygaga', 'lag', 'lagging', 'lagos', 'laguardia', 'laguardiaair', 'lai', 'laiggef', 'laissez', 'lake', 'lame', 'lamp', 'lan', 'land', 'landed', 'landing', 'lane', 'language', 'lap', 'lapse', 'laptop', 'large', 'larger', 'largest', 'larive', 'larkc', 'larry', 'lasairport', 'last', 'lasted', 'lastella', 'lastflightofthenight', 'lastflightwithyouever', 'lastly', 'lastnight', 'lasttweetaboutthis', 'late', 'latimes', 'latinamerican', 'latrice', 'latter', 'lauderdale', 'laugh', 'laughed', 'laughing', 'launched', 'launder', 'laundry', 'laura', 'laurasbrown', 'lauren', 'laurieameacham', 'lav', 'lavatory', 'lavoratories', 'law', 'lawsuit', 'lawyer', 'lawyerup', 'lax', 'lay', 'layover', 'lazy', 'lb', 'lbairport', 'lbb', 'lbzxtrx', 'ld', 'ldy', 'le', 'lea', 'lead', 'leader', 'leadership', 'leading', 'leaf', 'league', 'leah', 'leak', 'leaking', 'learn', 'learncustomerservice', 'learned', 'learning', 'learnt', 'lease', 'least', 'leastthebeverageswillbecold', 'leather', 'leatherseats', 'leathery', 'leave', 'leaving', 'leavingtomm', 'led', 'leeds', 'left', 'leg', 'legacy', 'legal', 'legalizes', 'leggieri', 'legit', 'legitimate', 'legitimately', 'legroom', 'leinenkugels', 'leisure', 'lekvhg', 'lemme', 'lenaowfyvu', 'lend', 'length', 'lengthy', 'lens', 'leopolds', 'lesliewolfson', 'lesscustomer', 'lessening', 'lesson', 'let', 'letdown', 'letsgo', 'letsgohome', 'letter', 'letting', 'level', 'leverage', 'lex', 'lexington', 'lf', 'lft', 'lfulcbq', 'lga', 'lgb', 'lgbt', 'lgeg', 'lghpcdu', 'lh', 'lhr', 'lhrdfw', 'lhrt', 'lhwfbkfyni', 'liable', 'liar', 'liberty', 'library', 'license', 'lick', 'lie', 'lied', 'lieflat', 'life', 'lifeisgood', 'lifeneedsfrosting', 'lifesaver', 'lifetime', 'lifevests', 'lift', 'liftin', 'lifting', 'light', 'lightbulb', 'lighting', 'lightly', 'lightning', 'like', 'likeagirl', 'likelihood', 'likely', 'likingyoulessandless', 'lil', 'lima', 'limbo', 'limit', 'limited', 'lin', 'lindsey', 'line', 'lined', 'linesforever', 'lineup', 'lining', 'link', 'linked', 'linking', 'lio', 'lip', 'lipstick', 'lisa', 'lisapal', 'list', 'listed', 'listen', 'listened', 'listening', 'listens', 'lister', 'lit', 'lite', 'literally', 'litter', 'little', 'littlebirds', 'live', 'lived', 'lively', 'livepersonplease', 'livery', 'livewelltraveled', 'livid', 'living', 'livvyports', 'liza', 'lizaapproved', 'lizautter', 'lj', 'ljabn', 'ljzdthd', 'lkfh', 'lkqjw', 'lla', 'llg', 'lloyd', 'lly', 'lm', 'lmao', 'lme', 'lmfao', 'lmk', 'lmp', 'lnded', 'lo', 'load', 'loaded', 'loading', 'loan', 'loaned', 'loaner', 'lobstermac', 'loc', 'local', 'localized', 'locally', 'locate', 'located', 'locating', 'location', 'locator', 'lock', 'locked', 'lodge', 'lodging', 'loeco', 'loft', 'log', 'logan', 'loganairports', 'loganex', 'logged', 'logic', 'logical', 'login', 'logistically', 'logistics', 'logo', 'logout', 'lol', 'london', 'lone', 'loner', 'long', 'longbeachairport', 'longbeachcity', 'longday', 'longer', 'longstanding', 'look', 'looked', 'lookforwardtoflywithaa', 'lookin', 'looking', 'looong', 'loooooong', 'loop', 'looped', 'loose', 'loosing', 'lopezlaymari', 'lord', 'los', 'lose', 'loser', 'loses', 'losing', 'loss', 'lost', 'lostacustomer', 'lostandforgotten', 'lostbags', 'lostluggage', 'lostmybusiness', 'lostrevenue', 'lostsuitcase', 'lot', 'lotttttttt', 'lou', 'loud', 'louder', 'loudly', 'loudspeaker', 'louis', 'louisville', 'lounge', 'louprice', 'lousy', 'love', 'loved', 'lovedflyingwiththem', 'loveeee', 'loveisintheair', 'lovejetblue', 'loveloughneagh', 'lovely', 'lovesongfriday', 'lovesouthwestair', 'loving', 'low', 'lowdown', 'lower', 'lowercase', 'lowered', 'loweredexpectations', 'lowest', 'lowstandards', 'loyal', 'loyalmosaicmember', 'loyalrrmember', 'loyalty', 'lpmu', 'lrf', 'lrfo', 'lrxdn', 'lsn', 'lsybglf', 'lt', 'ltaljx', 'ltf', 'ltr', 'ltwhmol', 'lubbock', 'lucas', 'lucia', 'luck', 'luckily', 'lucky', 'lucy', 'lucycat', 'lufthansa', 'luggage', 'luggagegate', 'lugging', 'lulgnweffh', 'lunch', 'lunchtime', 'lung', 'luv', 'luvagent', 'luvforsw', 'luvisbetter', 'luvsw', 'luvswa', 'luxclark', 'luxurious', 'luxury', 'luz', 'lv', 'lve', 'lvirtdtqly', 'lwjazioa', 'lx', 'lxa', 'lxur', 'lxwbsfxfj', 'lying', 'lynchburg', 'lynn', 'lyoocx', 'lyuxazg', 'maarten', 'maatkare', 'mac', 'macario', 'machine', 'macm', 'mad', 'madbee', 'maddening', 'maddie', 'made', 'madhouse', 'madness', 'madrid', 'mag', 'magazine', 'magic', 'magical', 'magically', 'mail', 'mailbox', 'mailing', 'maimi', 'main', 'maine', 'maint', 'maintain', 'maintained', 'maintenance', 'maintenece', 'mait', 'major', 'make', 'makeovertime', 'makeup', 'making', 'male', 'malfunction', 'malfunctioning', 'malhoit', 'mallowfairy', 'malpensa', 'maltese', 'mama', 'mammoth', 'man', 'manage', 'managed', 'management', 'manager', 'managing', 'manana', 'manch', 'manchester', 'mandarinjourney', 'mandatory', 'maneuver', 'manifest', 'manilla', 'manned', 'manner', 'manual', 'manually', 'manuel', 'many', 'map', 'maqw', 'mar', 'marathon', 'marccopely', 'march', 'marciaveronicaa', 'marcnocwzn', 'marcos', 'marcus', 'mardigras', 'margo', 'marie', 'marieharf', 'marinadomine', 'mario', 'marisol', 'mark', 'marked', 'market', 'marketing', 'marketwatch', 'markie', 'maro', 'marriott', 'marriottrewards', 'marry', 'marsha', 'marshaled', 'marshall', 'martin', 'martysg', 'marxsterbcow', 'mary', 'maryella', 'maryjo', 'mask', 'mason', 'mass', 'massage', 'massive', 'master', 'mastercard', 'mat', 'match', 'mate', 'math', 'matt', 'matter', 'matthewebel', 'mattthomasnews', 'mauererpower', 'maui', 'maverick', 'mavigetbbw', 'max', 'maxabrahms', 'maximization', 'may', 'maybe', 'maybeijustlost', 'maybemange', 'mayweather', 'mayweatherpacquiao', 'mb', 'mbj', 'mbk', 'mbltalr', 'mbps', 'mbr', 'mc', 'mccaren', 'mccarran', 'mce', 'mci', 'mckinnie', 'mclarren', 'mcmullen', 'mco', 'mcsi', 'md', 'mdbeei', 'mde', 'mdn', 'mdnw', 'mdw', 'meal', 'mean', 'meaning', 'meaningful', 'meant', 'meantime', 'meanwhile', 'measles', 'measly', 'measured', 'meat', 'mech', 'mechanic', 'mechanical', 'mechanicalissue', 'med', 'medal', 'medical', 'medicalissue', 'medication', 'mediocre', 'medium', 'meelan', 'meet', 'meeting', 'mega', 'megelizabeth', 'megentripodi', 'meggersrocks', 'megzezzo', 'meh', 'mejia', 'melaniespring', 'melbourne', 'melinda', 'melissa', 'melissaafrancis', 'mellani', 'melting', 'mem', 'member', 'membership', 'memgrizz', 'memo', 'memorial', 'memorize', 'memory', 'memphis', 'ment', 'mental', 'mentality', 'mention', 'mentioned', 'mentioning', 'menu', 'meoalcipdd', 'meozbo', 'mercy', 'mere', 'merge', 'merged', 'merger', 'mergerdisaster', 'merging', 'mess', 'message', 'messaged', 'messaging', 'messed', 'messing', 'met', 'metal', 'method', 'metro', 'mex', 'mexico', 'mf', 'mfd', 'mfmnkmvotr', 'mfps', 'mga', 'mgb', 'mgmt', 'mgr', 'mh', 'mhmkdivl', 'mhqgd', 'mhtt', 'mi', 'mia', 'miaa', 'miami', 'miamore', 'miatoiah', 'michael', 'michaelbcoleman', 'michele', 'mid', 'middle', 'middleeast', 'mideast', 'midght', 'midland', 'midnight', 'midnite', 'midoexhibition', 'midterm', 'midway', 'might', 'mightmismybrosgraduation', 'mighty', 'miguel', 'mike', 'mikehertz', 'milageplus', 'milan', 'mild', 'mile', 'mileage', 'mileageplus', 'mileagerun', 'milehighselfieclub', 'miler', 'milestone', 'military', 'million', 'mimosa', 'min', 'mind', 'mine', 'mini', 'minimal', 'minimum', 'minneapolis', 'minor', 'mint', 'mintalicious', 'mintyfresh', 'minute', 'miracle', 'miranda', 'miriam', 'misbehavior', 'miscalculation', 'miscnx', 'miscommunicated', 'misconnected', 'miscounting', 'miserable', 'miserablemorning', 'miserably', 'misery', 'misfortune', 'misguided', 'mishap', 'misinformation', 'mislead', 'misleading', 'mismanagement', 'misplace', 'misplaced', 'miss', 'missed', 'missedconnection', 'missedflight', 'missedupgrades', 'missedwork', 'missin', 'missing', 'missingtheoscars', 'mission', 'missmykids', 'misspelled', 'mistake', 'mistakefurious', 'mistreated', 'mistreatment', 'misunderstanding', 'misunderstood', 'mitchell', 'mitchellairport', 'mitchsunderland', 'mite', 'mix', 'mixtape', 'mizc', 'mj', 'mjkpgvxmpc', 'mjtk', 'mk', 'mka', 'mke', 'mktg', 'ml', 'mli', 'mllovelace', 'mmmubb', 'mmq', 'mn', 'mnl', 'mnth', 'mo', 'mobil', 'mobile', 'mobility', 'model', 'modelodenegocio', 'modification', 'modify', 'moines', 'mojave', 'mold', 'mom', 'moment', 'momma', 'mommy', 'momsgoodeats', 'mon', 'monday', 'monetary', 'money', 'moneynotspentonunited', 'monica', 'monika', 'monitor', 'monitoring', 'monopoly', 'mont', 'montana', 'montego', 'monterey', 'montereyregionalairport', 'month', 'monthly', 'montrose', 'mood', 'moodlighting', 'moodlitmonday', 'mooks', 'moon', 'moose', 'mor', 'morn', 'morning', 'morrw', 'mortified', 'mosaic', 'mosaicmecrazy', 'mosiacfail', 'mostly', 'mot', 'mother', 'motion', 'motor', 'motto', 'mountain', 'mouse', 'mouth', 'move', 'moveaboutthecountry', 'moved', 'movement', 'moveup', 'movie', 'moving', 'mph', 'mpi', 'mpnaaje', 'mqezxvdh', 'mqfmxebxt', 'mr', 'mrfbjtepef', 'mrn', 'mrrenevendez', 'ms', 'msbgu', 'msg', 'msh', 'msnbc', 'msp', 'msscottwg', 'msy', 'mt', 'mtff', 'mtg', 'mthm', 'mths', 'mtn', 'much', 'mugged', 'muh', 'multi', 'multibillion', 'multimillion', 'multinational', 'multiple', 'mumbai', 'mumbled', 'mundane', 'murdering', 'murphyjulie', 'music', 'musical', 'musician', 'must', 'muzak', 'mv', 'mvmt', 'mvyoizrpde', 'mw', 'mwa', 'mwangbickler', 'mwbk', 'mwflg', 'mxo', 'mxp', 'myers', 'mynzitcovn', 'myr', 'myrtle', 'mysterious', 'mystery', 'mytimeismoney', 'na', 'nada', 'nade', 'nader', 'naelah', 'nah', 'naia', 'nail', 'nailed', 'nakedmeetings', 'name', 'named', 'nanceebing', 'nancy', 'nano', 'nantucket', 'naomi', 'nap', 'napkin', 'naples', 'narita', 'narrow', 'narrower', 'narrowly', 'nascar', 'nasdaq', 'nashville', 'nassau', 'nastiest', 'nasty', 'nathankillam', 'nation', 'national', 'nationalairpor', 'nationalized', 'nationwide', 'natprodexpo', 'natt', 'nature', 'naval', 'navimumbai', 'navy', 'naxbue', 'nbc', 'nbpcjcpew', 'nbr', 'nbsnewsr', 'nburnside', 'nbz', 'nbzkhizf', 'nc', 'ncb', 'ncrmqibiwo', 'nd', 'ndary', 'ndtlj', 'ndward', 'ne', 'near', 'nearby', 'nearly', 'necessary', 'necessity', 'need', 'needed', 'needing', 'needlessly', 'needtobehonest', 'needtocatchmynextflight', 'needtogethome', 'nef', 'negative', 'negativedegrees', 'negatively', 'neglect', 'neglected', 'negligence', 'negligent', 'negotiate', 'nehnsdckty', 'neighbor', 'neighboring', 'neither', 'nelsjeff', 'nephew', 'neptune', 'neqm', 'nerdbird', 'nerve', 'nervous', 'net', 'netherlands', 'network', 'neuer', 'neurosurgery', 'nev', 'neveind', 'never', 'neveragain', 'neverchange', 'neverfails', 'neverflyaaagain', 'neverflyunited', 'neverflyusairways', 'neverflyvirgin', 'neverflyvirginforbusiness', 'nevergettinghome', 'neverontime', 'nevertoldus', 'neveryamind', 'new', 'newamerican', 'newamericanairline', 'newark', 'newburg', 'newburgh', 'newest', 'newflight', 'newly', 'neworleans', 'newplanesmell', 'news', 'newsbayarea', 'newsbusiness', 'newspaper', 'newsvp', 'newyork', 'next', 'nexttimeiwillflysouthwest', 'nexus', 'nfaqhhr', 'nfl', 'nfszh', 'ngg', 'nghmie', 'nght', 'ngxal', 'nh', 'nhlbruins', 'nhlonnbcsports', 'niagara', 'nice', 'nicely', 'nicer', 'nicest', 'nickcunningham', 'nickeled', 'nicole', 'niece', 'nigeria', 'nigga', 'niggaz', 'night', 'nightlife', 'nightmare', 'nightmarish', 'nikon', 'ninadavuluri', 'nine', 'nit', 'nite', 'nitrogen', 'nivw', 'nj', 'njairports', 'nk', 'nklozcntto', 'nl', 'nlip', 'nlniu', 'nlzs', 'nm', 'nmaryland', 'nny', 'noaccountability', 'noah', 'noair', 'noapology', 'nobackup', 'nobody', 'noc', 'nocareforcustomers', 'noclothesnoinfo', 'nocoatcloset', 'nocommunication', 'nocompensation', 'nocrew', 'nocustomerservice', 'nodrinks', 'noexcuses', 'noexcusesaccepted', 'nofg', 'nofilterneeded', 'nofood', 'nofun', 'nofunatall', 'nogate', 'nogood', 'nohelp', 'nohotel', 'nokidhungry', 'nola', 'nolo', 'nolove', 'noloveforsurfers', 'noltnancy', 'noluv', 'nomoaa', 'nomorecheckedbags', 'nomorevirgin', 'non', 'none', 'noneother', 'nonewplanes', 'nonexistent', 'nonperformance', 'nonprofit', 'nonrefundable', 'nonsense', 'nonstop', 'nonupgrade', 'nonworking', 'noodle', 'noon', 'noone', 'noooo', 'nooooo', 'noooooooooooooooooo', 'nooption', 'nope', 'noplacelikehome', 'nopq', 'noreimbursement', 'norfolk', 'norm', 'norma', 'normal', 'normally', 'norris', 'north', 'northeast', 'northern', 'norush', 'norway', 'nosecuritylines', 'nosedived', 'noservice', 'noshadetothedmv', 'nostalgic', 'nosupport', 'notafanofyourmerger', 'notahappycustomer', 'notanymore', 'notbabysitters', 'notch', 'notcomingback', 'notcool', 'note', 'noted', 'notevenjv', 'notfair', 'notgoodenough', 'nothanks', 'nothappy', 'nothin', 'nothing', 'notice', 'noticed', 'noticing', 'notification', 'notified', 'notify', 'notifying', 'notimpressed', 'noting', 'notion', 'notmadeofmoney', 'notmyfault', 'notnice', 'notokay', 'notourfaultyoudontuseyourgatesright', 'notpghtimothy', 'notsatisfied', 'notwheelsup', 'nov', 'novel', 'november', 'nowarmclothes', 'nowhere', 'nowhereland', 'noworstairline', 'noxtralegroom', 'nozzle', 'npbhd', 'npxb', 'nq', 'nrhodes', 'nrosenb', 'nrt', 'nruovts', 'nsgrt', 'nsjwvttjgo', 'nt', 'ntgl', 'nthin', 'nto', 'ntptr', 'ntrustopen', 'ntuix', 'nu', 'nudgenudge', 'nue', 'nuhplnxriq', 'nullified', 'num', 'number', 'numerous', 'nut', 'nutella', 'nutsaboutsouthwest', 'nvlnglnmgn', 'nvr', 'nw', 'nwf', 'nwk', 'nxqijcojnj', 'nxt', 'ny', 'nyc', 'nye', 'nyfw', 'nygn', 'nyjets', 'nyprzl', 'nyt', 'nytimes', 'nyvv', 'nywr', 'nz', 'nzh', 'nzherald', 'oaaret', 'oahu', 'oak', 'oakland', 'oardjjgrrd', 'obama', 'obcepp', 'obey', 'obf', 'obj', 'obmr', 'obnoxious', 'obqiro', 'obscene', 'observation', 'observe', 'obsessed', 'obsolete', 'obtain', 'obvious', 'obviously', 'oc', 'occasion', 'occupied', 'occupy', 'occur', 'occurred', 'occurs', 'ocean', 'ocpteq', 'ocqk', 'oct', 'octaviannightmare', 'october', 'octp', 'od', 'odd', 'odds', 'odugfqk', 'oez', 'offended', 'offender', 'offensive', 'offensively', 'offer', 'offered', 'offering', 'office', 'officer', 'official', 'officially', 'offline', 'offload', 'offloading', 'oficial', 'oflol', 'often', 'ofw', 'ogg', 'oh', 'ohare', 'ohio', 'ohk', 'ohno', 'ohokl', 'oi', 'oil', 'oilncfweyg', 'ojrsdwpkk', 'ok', 'okay', 'okayyyy', 'okc', 'okcthunder', 'okee', 'okie', 'oklji', 'oktukjy', 'olavarria', 'old', 'older', 'oldplanes', 'oldpolicieswaybetter', 'olive', 'olsi', 'olympic', 'om', 'oma', 'omaha', 'omg', 'omgee', 'oml', 'omzqavi', 'onboard', 'oncs', 'ondemand', 'one', 'onechildfourbags', 'onehouronhold', 'onelove', 'oneworld', 'onfleek', 'ongoing', 'onhold', 'onholdfordays', 'onholdforever', 'onholdwith', 'onhxhco', 'onion', 'online', 'onlyinamerica', 'onlywaytofly', 'ons', 'ont', 'ontarmac', 'ontime', 'onto', 'ooh', 'oopjpwg', 'oops', 'op', 'opal', 'opaque', 'open', 'opened', 'opening', 'openskies', 'operate', 'operated', 'operating', 'operation', 'operational', 'operator', 'opinion', 'opportunity', 'opposed', 'opposite', 'oprah', 'ops', 'opsec', 'opt', 'option', 'opxkxch', 'oqaveo', 'oqukso', 'oqz', 'orange', 'orangecounty', 'orbitz', 'ord', 'ordeal', 'order', 'ordered', 'ordering', 'ordnoise', 'oregon', 'oreo', 'orf', 'org', 'organization', 'organizational', 'organized', 'orig', 'origami', 'origin', 'original', 'originally', 'originating', 'orl', 'orlando', 'orlandosentinel', 'orleans', 'orthodoc', 'ory', 'osc', 'oscar', 'oscarscountdown', 'osjz', 'osox', 'ot', 'otfz', 'others', 'otherwise', 'othr', 'otis', 'otlzak', 'ots', 'ottawa', 'otty', 'ou', 'ouch', 'oui', 'oumc', 'ourguest', 'ourprincess', 'outage', 'outbound', 'outbreak', 'outcome', 'outdated', 'outfitted', 'outlet', 'outline', 'outlook', 'outofbusiness', 'outpost', 'outrage', 'outraged', 'outrageous', 'outright', 'outside', 'outsource', 'outsourcing', 'outstanding', 'outta', 'outtage', 'outward', 'overall', 'overbk', 'overbook', 'overbooked', 'overcharge', 'overcharged', 'overcharging', 'overchging', 'overfilled', 'overflight', 'overflow', 'overflowed', 'overhaul', 'overhead', 'overheating', 'overkill', 'overload', 'overloaded', 'overlooking', 'overnight', 'overpriced', 'overseas', 'overselling', 'oversize', 'oversized', 'oversleeping', 'oversold', 'overtime', 'overweight', 'overwhelmed', 'overwhelming', 'overzealous', 'ow', 'owe', 'owen', 'owes', 'owner', 'ownership', 'owning', 'owohd', 'oxgen', 'oxm', 'oxsa', 'oxy', 'oy', 'oylgeao', 'oz', 'ozs', 'pa', 'pabort', 'pac', 'pace', 'pacific', 'pacificbiznews', 'pacify', 'pack', 'package', 'packed', 'packermama', 'packing', 'pacquiao', 'pact', 'pad', 'padresst', 'pafe', 'page', 'paged', 'paid', 'pain', 'painandsuffering', 'painful', 'painfully', 'painless', 'paint', 'painted', 'pair', 'pairing', 'pale', 'palm', 'pamgrout', 'pamper', 'panam', 'panamerican', 'pancho', 'pandora', 'panic', 'pant', 'panynj', 'paper', 'paperwork', 'par', 'parachuteguy', 'paradise', 'parameter', 'paranoid', 'parent', 'parhetic', 'paris', 'park', 'parked', 'parker', 'parking', 'parryaftab', 'part', 'partial', 'participate', 'particular', 'particularly', 'partly', 'partner', 'partnering', 'partnerrewards', 'partnership', 'party', 'pas', 'pascucci', 'paseengers', 'pasengers', 'paso', 'pass', 'passbook', 'passed', 'passenegers', 'passenger', 'passengerbillofrights', 'passengersarepeople', 'passengerslose', 'passing', 'passion', 'passive', 'passport', 'password', 'past', 'pasta', 'paste', 'pasting', 'pastmypatienceexpirationdate', 'pastor', 'pat', 'patch', 'path', 'pathetic', 'patheticcx', 'patience', 'patienceiswearingthin', 'patient', 'patiently', 'patriarc', 'patrichruben', 'patrick', 'patron', 'patronizing', 'pattern', 'pattonoswalt', 'paulo', 'paw', 'pax', 'paxex', 'pay', 'paycheck', 'payed', 'paying', 'payment', 'paymytab', 'paypal', 'payton', 'paytontaylor', 'pbamu', 'pbi', 'pbpinftworth', 'pctf', 'pd', 'pdmgif', 'pdprhp', 'pdx', 'pe', 'pea', 'peace', 'peach', 'peak', 'peanut', 'peculiar', 'pedophile', 'pedro', 'peeled', 'peep', 'peer', 'peeved', 'pefe', 'pek', 'pen', 'penalized', 'penalty', 'pending', 'pennypincher', 'people', 'peopleon', 'pepper', 'per', 'pereira', 'perfect', 'perfectly', 'perfectomobile', 'perform', 'performance', 'performing', 'performs', 'perhaps', 'period', 'periolodicly', 'perk', 'permanently', 'permission', 'persisting', 'person', 'personable', 'personal', 'personality', 'personalized', 'personally', 'personnel', 'perspective', 'perth', 'pesky', 'pet', 'peter', 'peterpiatetsky', 'peuc', 'pf', 'pfvqpoy', 'pg', 'pgatour', 'pgfryz', 'pgh', 'pgwukrpmox', 'ph', 'phantom', 'phd', 'phenomenal', 'phew', 'phf', 'phi', 'phil', 'philacarservice', 'philadelphia', 'philippine', 'phillip', 'philly', 'phkfgr', 'phl', 'phlairport', 'phltolas', 'phn', 'pho', 'phoavrxc', 'phoenix', 'phone', 'phonedied', 'phoneeeee', 'photo', 'photography', 'phrase', 'phx', 'phxskyharbor', 'physical', 'physically', 'pic', 'pick', 'picked', 'picking', 'picture', 'piece', 'piela', 'pig', 'pigeon', 'piggy', 'pile', 'pillow', 'pilot', 'pimentel', 'pin', 'pink', 'pipe', 'pir', 'piss', 'pissed', 'pissing', 'pisspoor', 'pit', 'pita', 'pittsburg', 'pittsburgh', 'pity', 'pivxean', 'pizza', 'pj', 'pjelzl', 'pjs', 'pk', 'pkaxunyfn', 'pl', 'place', 'placed', 'placing', 'plague', 'plain', 'plainly', 'plan', 'planb', 'plane', 'planebroken', 'planet', 'planing', 'planned', 'planner', 'planning', 'plastic', 'plat', 'plate', 'platinum', 'platinumeventually', 'platinummember', 'platitude', 'platter', 'play', 'playa', 'played', 'player', 'playing', 'pleads', 'pleasant', 'pleasantly', 'please', 'pleased', 'pleaseeee', 'pleasegod', 'pleasehelp', 'pleasehurryup', 'pleasure', 'plebe', 'pleeeeease', 'plenty', 'plitt', 'pln', 'plot', 'plough', 'plow', 'plowing', 'pls', 'plse', 'plt', 'plug', 'plumber', 'plundering', 'plus', 'plz', 'pm', 'pn', 'pnoav', 'pnr', 'pns', 'po', 'poc', 'pocket', 'poeon', 'pofsxojsy', 'point', 'pointed', 'pointing', 'pointless', 'pointy', 'poisoning', 'poisonpill', 'poker', 'police', 'policy', 'polite', 'politely', 'ponj', 'pooch', 'pooling', 'poor', 'poorcommunication', 'poorcustomerservice', 'poorcustumerservice', 'poorest', 'poorform', 'poorly', 'poorlyhandled', 'poorplanning', 'poorservice', 'pop', 'popped', 'popular', 'pordes', 'port', 'portal', 'portcolumbuscmh', 'portfolio', 'portion', 'portland', 'portlandjetport', 'portrayed', 'portsmouth', 'position', 'positive', 'possession', 'possiable', 'possibility', 'possible', 'possibly', 'post', 'posted', 'posting', 'postpone', 'postsecret', 'potable', 'potato', 'poteettj', 'potential', 'potus', 'poughkeepsie', 'pound', 'pounding', 'pouting', 'powder', 'power', 'powered', 'pown', 'ppl', 'ppva', 'ppvq', 'pqd', 'pqm', 'pr', 'practical', 'practice', 'praise', 'praised', 'prank', 'pray', 'prayer', 'praying', 'praywinn', 'prds', 'pre', 'preboard', 'preboarding', 'prebook', 'prebooked', 'precheck', 'preciate', 'preciation', 'precious', 'precioustime', 'precipitation', 'precludes', 'predict', 'predictable', 'predicted', 'predictive', 'pref', 'prefer', 'preferably', 'preferred', 'prefference', 'preflight', 'prefundia', 'pregame', 'pregnant', 'pregnantwithtwins', 'prem', 'premier', 'premiere', 'premium', 'preparation', 'prepare', 'prepared', 'preparedness', 'prepares', 'prerecorded', 'preregistration', 'pres', 'prescreen', 'present', 'presentation', 'presented', 'president', 'presidential', 'press', 'pressed', 'pressure', 'pressurecooker', 'pressurization', 'presumably', 'pretend', 'pretending', 'pretty', 'prettyplease', 'pretzel', 'prev', 'prevent', 'preventative', 'prevented', 'preventing', 'prevention', 'previous', 'previously', 'pri', 'price', 'priced', 'pricediscrimination', 'priceless', 'pricewise', 'pricey', 'pricing', 'pricy', 'pride', 'prime', 'prince', 'princess', 'princesshalf', 'principle', 'print', 'printed', 'printer', 'prior', 'prioritize', 'priority', 'prison', 'priv', 'private', 'privilege', 'prize', 'prn', 'pro', 'proactive', 'proactively', 'prob', 'probability', 'probably', 'problem', 'problematic', 'problemsolvers', 'probls', 'probs', 'procedure', 'proceed', 'proceeded', 'process', 'processed', 'processing', 'produced', 'product', 'prof', 'professional', 'professor', 'professorpaul', 'proficient', 'profile', 'profit', 'profitability', 'profitable', 'profitbeforepeople', 'profiting', 'program', 'programmer', 'progress', 'progressed', 'prohibits', 'project', 'prolly', 'prolonged', 'prom', 'promise', 'promised', 'promising', 'promo', 'promos', 'promoting', 'promotion', 'prompt', 'prompted', 'promptly', 'pronounce', 'proof', 'prop', 'proper', 'properly', 'property', 'proportion', 'proposal', 'propositioned', 'protect', 'protected', 'protection', 'protocol', 'proud', 'prove', 'provide', 'provided', 'providence', 'providenciales', 'provider', 'provides', 'providing', 'proving', 'provo', 'psa', 'pseudo', 'psngrs', 'psp', 'pssgrs', 'pssngrs', 'pst', 'psuejdc', 'psych', 'psychological', 'pt', 'ptfo', 'pty', 'pu', 'public', 'publicity', 'publicly', 'published', 'puerto', 'pujvcelng', 'pull', 'pulled', 'pullin', 'pulling', 'pulp', 'pulse', 'pump', 'pumped', 'pumping', 'punished', 'punishedforflying', 'punta', 'puppy', 'purchase', 'purchased', 'purchasing', 'pure', 'purely', 'purifier', 'purpose', 'push', 'pushback', 'pushed', 'pushing', 'pushy', 'put', 'putting', 'puvs', 'pv', 'pvd', 'pvg', 'pvphmtzc', 'pw', 'pwd', 'pwm', 'px', 'pxdel', 'pxexilsjbs', 'pyjaoaynx', 'pyxqv', 'qan', 'qantas', 'qavvlaxlkl', 'qbtckbr', 'qc', 'qd', 'qe', 'qeada', 'qefkfwzo', 'qeg', 'qf', 'qgtcao', 'qgv', 'qh', 'qi', 'qjc', 'qjzapkx', 'qkkjdfobos', 'qlyss', 'qm', 'qn', 'qnp', 'qoazo', 'qol', 'qp', 'qpcr', 'qqbmug', 'qranzimhtr', 'qro', 'qrxvzfrd', 'qscjll', 'qsvgru', 'quadruple', 'qualified', 'qualifies', 'qualify', 'quality', 'quarter', 'qud', 'que', 'query', 'question', 'queue', 'queuing', 'quiche', 'quick', 'quicker', 'quickest', 'quickie', 'quickly', 'quiet', 'quietly', 'quintana', 'quit', 'quite', 'quito', 'quitting', 'quote', 'quoted', 'quoting', 'quzvmk', 'qv', 'qw', 'qwkyxsw', 'qwmxr', 'qxv', 'qyezhjgsb', 'rabbit', 'rabgn', 'race', 'rachel', 'rachelle', 'racist', 'radio', 'radish', 'raeann', 'raft', 'rag', 'ragandisney', 'rage', 'rain', 'raise', 'raised', 'raising', 'raleigh', 'ralph', 'ram', 'ramada', 'ramp', 'rampers', 'ran', 'random', 'randomly', 'rang', 'range', 'ranging', 'ranked', 'rant', 'rap', 'rapid', 'rare', 'rarely', 'rate', 'rated', 'rather', 'rating', 'raving', 'ravioli', 'ray', 'rayja', 'razor', 'rbicx', 'rcdh', 'rch', 'rcm', 'rd', 'rdj', 'rdrcre', 'rdu', 're', 'reaccommodation', 'reach', 'reachable', 'reached', 'reaching', 'reachingnewlows', 'react', 'reaction', 'reactivate', 'reactive', 'read', 'reader', 'reading', 'ready', 'reagan', 'real', 'realise', 'realistic', 'reality', 'realize', 'realized', 'realizing', 'really', 'reallytallchris', 'realtime', 'rear', 'rearrange', 'reason', 'reasonable', 'reasonably', 'reassign', 'reassigned', 'reboard', 'reboarding', 'rebook', 'rebooked', 'rebooks', 'reboot', 'rebuilding', 'rec', 'recap', 'receipt', 'receive', 'received', 'receiving', 'recent', 'recently', 'recharging', 'recheck', 'rechecked', 'recieved', 'reciprocate', 'reckless', 'reclaim', 'recline', 'reclining', 'recognition', 'recognize', 'recognized', 'recommend', 'recommended', 'reconsider', 'reconsidering', 'record', 'recorded', 'recording', 'recourse', 'recover', 'recovered', 'recovering', 'recovery', 'recruiter', 'recruiting', 'rectified', 'rectify', 'recvd', 'recycle', 'red', 'redcarpet', 'redd', 'reddit', 'redeem', 'redeemed', 'redeeming', 'redemption', 'redesign', 'redirect', 'redirected', 'redo', 'redsox', 'reduced', 'reduction', 'redwineisbetter', 'reebok', 'reebooked', 'reek', 'ref', 'refer', 'reference', 'referral', 'refers', 'reflect', 'reflection', 'reflight', 'reform', 'refreshed', 'refreshes', 'refreshing', 'refreshment', 'refsd', 'refuel', 'refueled', 'refueling', 'refund', 'refundable', 'refunded', 'refunding', 'refundprocedurenottoopainful', 'refurbish', 'refuse', 'refused', 'refusing', 'regard', 'regarding', 'regardless', 'regina', 'regional', 'register', 'registered', 'registering', 'registration', 'regret', 'regretting', 'regular', 'regulation', 'rei', 'reigning', 'reimburse', 'reimbursed', 'reimbursement', 'reinforcement', 'reinstate', 'reinstated', 'reinvest', 'reissue', 'reissued', 'reiterate', 'rejecting', 'relate', 'relation', 'relationship', 'relative', 'relax', 'relaxing', 'relay', 'relayed', 'release', 'released', 'releasing', 'relevant', 'reliability', 'reliable', 'relied', 'relief', 'relieved', 'reload', 'reluctant', 'rely', 'rem', 'remain', 'remained', 'remaining', 'remains', 'remark', 'remedy', 'remember', 'remembered', 'remembering', 'remembers', 'remind', 'reminded', 'reminder', 'reminding', 'reminds', 'remorse', 'remote', 'remotely', 'removal', 'remove', 'removed', 'removing', 'renhotels', 'reno', 'renoairport', 'rent', 'rental', 'rented', 'renting', 'renttherunway', 'reopens', 'rep', 'repaid', 'repainted', 'repair', 'repaired', 'repeat', 'repeatably', 'repeated', 'repeatedly', 'repeating', 'replace', 'replaced', 'replacement', 'replacing', 'replane', 'replied', 'reply', 'replying', 'report', 'reported', 'reporter', 'reposting', 'repping', 'reprehensible', 'represent', 'representative', 'representing', 'represents', 'reproach', 'republic', 'republican', 'reputation', 'reqs', 'request', 'requested', 'requesting', 'require', 'required', 'requirement', 'requires', 'requiring', 'reroute', 'rerouted', 'resched', 'reschedule', 'rescheduled', 'reschedulemyflight', 'reschedules', 'rescheduling', 'rescue', 'rescued', 'researching', 'reseated', 'resend', 'resending', 'resent', 'reserv', 'reservation', 'reserve', 'reserved', 'reset', 'residing', 'reso', 'resoled', 'resolution', 'resolve', 'resolved', 'resolving', 'resorting', 'resource', 'respect', 'respectful', 'respond', 'responded', 'responding', 'responds', 'response', 'responsibility', 'responsible', 'responsive', 'ressie', 'rest', 'restating', 'resting', 'restless', 'restore', 'restored', 'restr', 'restriction', 'restrm', 'restroom', 'result', 'resulted', 'resulting', 'resume', 'retain', 'retaining', 'retard', 'rethink', 'rethinking', 'reticketed', 'retire', 'retired', 'retook', 'retracted', 'retrain', 'retribution', 'retrieve', 'retrieved', 'rett', 'return', 'returned', 'returning', 'retweet', 'retweets', 'reunion', 'reunited', 'reuniting', 'reuse', 'reuters', 'rev', 'revenue', 'revers', 'reverse', 'reversed', 'revieving', 'review', 'reviewed', 'reviewing', 'revision', 'revisiting', 'revive', 'revue', 'reward', 'rez', 'rffhmcv', 'rfuijyp', 'rfxlv', 'rgc', 'rgywjbbhm', 'rhonda', 'rhz', 'ri', 'ric', 'rica', 'ricardo', 'rich', 'richard', 'rick', 'ricky', 'rico', 'ricoh', 'rid', 'ride', 'ridic', 'ridicule', 'ridiculous', 'ridiculously', 'ridiculousness', 'riedel', 'right', 'rigorous', 'rikrik', 'rim', 'ring', 'ringing', 'ringling', 'rinzysk', 'rio', 'riot', 'rip', 'ripme', 'ripoff', 'ripoffs', 'ripped', 'ripping', 'rise', 'risk', 'rita', 'ritacomo', 'rito', 'ritz', 'rival', 'rivet', 'rizzilient', 'rj', 'rk', 'rklqxxawhc', 'rkvczbpdce', 'rldelahunty', 'rly', 'rlz', 'rmoug', 'rmpkogwu', 'rn', 'rndtrp', 'rno', 'rnp', 'road', 'roadmap', 'roadwarrior', 'roae', 'roam', 'roanoke', 'roasted', 'robbed', 'robbing', 'robbogart', 'robert', 'robertfor', 'roberto', 'robin', 'robinreda', 'robinson', 'robocalls', 'robot', 'robotic', 'robotweeting', 'robprice', 'robthecameraman', 'robyn', 'roc', 'rock', 'rocked', 'rockies', 'rocking', 'rockingthetweets', 'rockinwellness', 'rockstars', 'rocky', 'rodeo', 'roger', 'roiypc', 'role', 'roll', 'rollaboard', 'rolled', 'rollerboards', 'rollercoaster', 'rolling', 'roo', 'rookie', 'room', 'rosetta', 'rotten', 'rough', 'round', 'roundtrip', 'roundtrips', 'route', 'routed', 'routine', 'routinely', 'routing', 'row', 'roxydigital', 'royally', 'rozana', 'rpdbpx', 'rps', 'rpsil', 'rqbpmwettq', 'rqc', 'rqstd', 'rr', 'rsrv', 'rsvagijn', 'rsw', 'rt', 'rtb', 'rtn', 'rtqyjcvtq', 'rtr', 'rtrn', 'rtw', 'ru', 'rub', 'rubbed', 'rubber', 'rubbish', 'rude', 'rudely', 'rudeness', 'rudeservice', 'rudest', 'rudestaff', 'ruin', 'ruined', 'ruining', 'ruiningmy', 'rule', 'rulesshouldbend', 'rum', 'rumor', 'run', 'runaround', 'runner', 'running', 'runway', 'rushed', 'russell', 'russelneiss', 'russia', 'ruth', 'rv', 'rwrd', 'rx', 'rxdks', 'rxmjwoo', 'ryand', 'rylietolbert', 'rymzd', 'rypzebc', 'ryxbplgmnk', 'rzb', 'sa', 'sabotaging', 'sabre', 'sac', 'sacintlairport', 'sacramento', 'sad', 'saddened', 'saddens', 'sadly', 'safari', 'safe', 'safely', 'safety', 'saga', 'said', 'saidi', 'sailed', 'sailor', 'sal', 'salad', 'sale', 'salisbury', 'sally', 'salt', 'salvaged', 'sam', 'samartzis', 'samchampion', 'sammi', 'samoore', 'sample', 'samsonite', 'san', 'sand', 'sandiego', 'sandra', 'sandwich', 'sanfrancisco', 'sanitized', 'sanitizer', 'santa', 'santo', 'sao', 'saozgtv', 'sapphire', 'sarah', 'sarahpompei', 'sarahzou', 'sarcasm', 'sarcastic', 'sarcastically', 'sardine', 'sarita', 'sas', 'sat', 'satellite', 'satesq', 'satisfaction', 'satisfactorily', 'satisfactory', 'satisfied', 'satisfy', 'sato', 'saturday', 'sauce', 'sauna', 'sauvignon', 'sav', 'savannah', 'save', 'saved', 'saveface', 'saver', 'savethediagonals', 'savethoseseats', 'saveus', 'saving', 'saviour', 'savr', 'saw', 'saxonandparole', 'say', 'sayin', 'saying', 'saysorrychris', 'sb', 'sba', 'sbux', 'sc', 'scale', 'scalpel', 'scam', 'scan', 'scanned', 'scare', 'scareair', 'scared', 'scareways', 'scattered', 'scavenger', 'scenario', 'scene', 'scent', 'sch', 'schd', 'sche', 'sched', 'schedule', 'scheduled', 'scheduling', 'scheme', 'schiphol', 'school', 'schooler', 'schoolgirl', 'science', 'sciencebehindtheexperience', 'scl', 'scm', 'scolding', 'scollegelondon', 'scooby', 'scope', 'scotch', 'scott', 'scqujbvsta', 'scr', 'scramble', 'scratching', 'scream', 'screaming', 'screen', 'screencap', 'screening', 'screensand', 'screenshot', 'screw', 'screwed', 'screwing', 'scroll', 'sctomh', 'sd', 'sdf', 'sdfairport', 'sdlyn', 'sdm', 'sdq', 'sdylukr', 'sdytt', 'sea', 'seam', 'sean', 'seanvrose', 'search', 'searched', 'searching', 'season', 'seasonal', 'seat', 'seatac', 'seatback', 'seatbelt', 'seated', 'seating', 'seatmate', 'seattle', 'seattlebound', 'seau', 'sec', 'second', 'secondary', 'secondly', 'secret', 'section', 'sector', 'secure', 'secured', 'securing', 'security', 'sedholm', 'see', 'seeing', 'seek', 'seeking', 'seem', 'seemed', 'seemless', 'seems', 'seen', 'seet', 'seetonight', 'seg', 'segment', 'segs', 'seguinej', 'segway', 'select', 'selected', 'selecting', 'selection', 'selects', 'self', 'selfie', 'selfies', 'sell', 'selling', 'sellmypointssoon', 'sellout', 'semantics', 'semester', 'sen', 'send', 'sending', 'sends', 'senior', 'sense', 'senseless', 'sensitive', 'sent', 'sentierimelinda', 'sentiment', 'sentimental', 'sentinel', 'sep', 'separate', 'separated', 'separately', 'sept', 'september', 'ser', 'serf', 'series', 'serious', 'seriously', 'seriousness', 'serv', 'serve', 'served', 'service', 'serviced', 'servicedog', 'servicefail', 'servicing', 'serving', 'set', 'setorii', 'setting', 'settle', 'settled', 'setup', 'sev', 'seven', 'several', 'severally', 'severe', 'severely', 'sex', 'sexual', 'sexually', 'sf', 'sfmi', 'sfo', 'sfotobos', 'sfpcbyy', 'sfuhg', 'sh', 'shade', 'shadier', 'shady', 'shafted', 'shaker', 'shaking', 'shaky', 'shall', 'sham', 'shamble', 'shame', 'shameful', 'shameonyou', 'shampoo', 'shanghai', 'shannon', 'shaquille', 'share', 'shared', 'sharing', 'sharktank', 'sharon', 'shavon', 'shawn', 'sheer', 'sheesh', 'sheila', 'shelleyandmarcrock', 'shenanigan', 'shhhh', 'shift', 'shin', 'shined', 'ship', 'shipped', 'shipping', 'shirt', 'shit', 'shitshow', 'shitting', 'shitty', 'shittydeal', 'shiz', 'shld', 'shock', 'shocked', 'shocker', 'shocking', 'shoddy', 'shoe', 'shopping', 'short', 'shortage', 'shortly', 'shortstaffed', 'shot', 'shotwest', 'shoulda', 'shoulder', 'shouldhavedriven', 'shouldhaveflowndelta', 'shouldhaveflownjetblue', 'shouldnt', 'shouldwearmasks', 'shout', 'shoutout', 'show', 'showed', 'shower', 'showexpert', 'showing', 'shown', 'showsomerespect', 'showup', 'shrimp', 'shrug', 'shrugging', 'shuck', 'shuffle', 'shut', 'shutting', 'shuttle', 'si', 'siberia', 'sibling', 'sick', 'sickcrew', 'siczx', 'side', 'sided', 'sifhp', 'sigh', 'sighed', 'sight', 'sign', 'signal', 'signed', 'significant', 'significantly', 'signin', 'signing', 'signup', 'sil', 'silence', 'silicon', 'sill', 'silly', 'silver', 'silverairways', 'silverairwsys', 'sime', 'similar', 'simonroesner', 'simple', 'simply', 'simultaneously', 'since', 'sincere', 'sincerely', 'sine', 'sing', 'singapore', 'singer', 'singing', 'single', 'sink', 'sinus', 'siouxfalls', 'sir', 'sister', 'sit', 'site', 'siting', 'sits', 'sittin', 'sitting', 'sittingontheplane', 'sittingonthetarmac', 'situation', 'sivi', 'six', 'size', 'sized', 'sizer', 'sj', 'sjc', 'sjd', 'sjo', 'sju', 'sk', 'skateboard', 'sked', 'ski', 'skiing', 'skill', 'skilled', 'skipper', 'skkewqhssg', 'skrlyrz', 'skxzve', 'sky', 'skycap', 'skype', 'skytrax', 'skyw', 'skywest', 'sl', 'slammed', 'slapintheface', 'slapped', 'slash', 'slaughter', 'slc', 'slcairport', 'sld', 'sledge', 'sleep', 'sleeping', 'sleepless', 'sleepy', 'sleet', 'slept', 'slew', 'slht', 'sliced', 'slide', 'slightly', 'slime', 'slip', 'sliver', 'sllyibe', 'slobodin', 'slogan', 'sloooooow', 'sloooowresponses', 'sloppy', 'slot', 'slow', 'slowdown', 'slower', 'slowest', 'slowly', 'slowness', 'sm', 'sma', 'small', 'smaller', 'smallest', 'smart', 'smarter', 'smattering', 'smell', 'smelled', 'smelly', 'smf', 'smfh', 'smh', 'smile', 'smiling', 'smisek', 'smitten', 'smm', 'smoking', 'smoooothest', 'smooth', 'smoothest', 'smoothflight', 'smoothie', 'smoothly', 'smoothtransition', 'smth', 'smugsmirk', 'smybag', 'sna', 'snack', 'snag', 'snap', 'snapchat', 'snapped', 'sneaky', 'sneverstopped', 'snit', 'snobby', 'snow', 'snowballed', 'snowbama', 'snowboard', 'snowbound', 'snowfall', 'snowforce', 'snowing', 'snowstorm', 'snowwillnevermelt', 'snowy', 'snuck', 'so', 'soaked', 'soaking', 'sobbing', 'sobewff', 'soc', 'social', 'socialtantrum', 'sock', 'socket', 'soda', 'sodone', 'sofly', 'soft', 'software', 'sohappy', 'soiqrn', 'sol', 'solar', 'solate', 'sold', 'sole', 'solid', 'solo', 'solution', 'solve', 'solved', 'solves', 'solving', 'sombrons', 'somebody', 'somehow', 'someone', 'something', 'sometime', 'sometimes', 'somewhat', 'somewhere', 'somthing', 'son', 'song', 'soon', 'sooner', 'sooo', 'soooo', 'sooooo', 'soooooo', 'sooooooo', 'sop', 'sorry', 'sorrynotsorry', 'sort', 'sorta', 'sorted', 'sorting', 'sorude', 'sotelo', 'sotl', 'sou', 'soul', 'soulandinspiration', 'souljacoy', 'sound', 'sounded', 'sounding', 'soundofmusic', 'sour', 'soured', 'sourhwest', 'south', 'southern', 'southwest', 'southwestair', 'southwestairlines', 'southwestairwasthere', 'southwestfail', 'southwestluv', 'southwestoliver', 'southwestrocks', 'southwestsmoothie', 'southwestsucks', 'southwestverity', 'southworst', 'sozldj', 'sp', 'space', 'spaced', 'spade', 'spaghetti', 'spagnuolo', 'spam', 'span', 'spanish', 'spare', 'sparkled', 'speak', 'speaking', 'speaks', 'spec', 'special', 'specialist', 'specially', 'specialolympics', 'specific', 'specifically', 'specified', 'speciifc', 'spectacular', 'speechless', 'speed', 'speedy', 'spell', 'spelled', 'spelling', 'spend', 'spending', 'spent', 'spiced', 'spilled', 'spin', 'spirit', 'spiritairlines', 'spirited', 'spite', 'spk', 'split', 'splitting', 'splm', 'spoiled', 'spoke', 'spoken', 'sponsor', 'sponsorship', 'spontaneously', 'spook', 'spooky', 'sporadically', 'sport', 'sporting', 'spot', 'spotify', 'spotting', 'spotty', 'sprawled', 'spread', 'spreadtheword', 'spring', 'sprinkled', 'sprinting', 'spruce', 'spur', 'spvsr', 'squarely', 'squeak', 'sr', 'srl', 'srq', 'srsly', 'srvc', 'ssal', 'ssuvwwkyhh', 'st', 'stable', 'stacey', 'stacy', 'staduim', 'staff', 'staffed', 'staffer', 'staffing', 'stafford', 'stage', 'stagnant', 'stahhppp', 'stahp', 'stain', 'stall', 'stand', 'standard', 'standby', 'standing', 'star', 'staralliance', 'starbucks', 'stare', 'staring', 'start', 'started', 'starting', 'startingbloc', 'startled', 'startling', 'starving', 'stat', 'state', 'stated', 'statement', 'static', 'station', 'stationary', 'status', 'statusmatch', 'stay', 'stayed', 'staying', 'stbernard', 'stclass', 'stdby', 'steal', 'stealing', 'steamboat', 'steamed', 'steaming', 'steel', 'steering', 'stellar', 'stellarservice', 'step', 'stephenrodrick', 'stepitup', 'stepped', 'stepping', 'steve', 'stevelord', 'stevie', 'steward', 'stewardess', 'stewart', 'sti', 'stick', 'sticking', 'stiiiil', 'still', 'stillbagless', 'stilling', 'stillmakingmepoorthough', 'stillnobags', 'stillnotonmyflight', 'stillwaiting', 'stingiest', 'stingy', 'stink', 'stktjxan', 'stl', 'stlouis', 'stmt', 'stndby', 'stock', 'stocker', 'stockhouse', 'stocking', 'stoked', 'stole', 'stolen', 'stollen', 'stone', 'stonewalled', 'stood', 'stop', 'stopover', 'stopped', 'stopping', 'storage', 'storm', 'story', 'stow', 'straight', 'straighten', 'straightened', 'strand', 'stranded', 'strandedattheairport', 'strandedinnashville', 'stranding', 'strandusindenver', 'strange', 'stranger', 'strategy', 'stray', 'strayed', 'straying', 'stream', 'streaming', 'streamline', 'street', 'strength', 'stress', 'stressed', 'stressful', 'stressor', 'stretching', 'strict', 'strike', 'string', 'strip', 'strive', 'strives', 'stroller', 'strong', 'strongly', 'strtd', 'structure', 'struggle', 'struggling', 'strut', 'stt', 'sttimeflyer', 'stubborn', 'stubbornly', 'stuck', 'stucked', 'stuckinmemphis', 'stuckintampa', 'stuckintheloop', 'student', 'stuff', 'stuffing', 'stuffy', 'stunned', 'stunning', 'stupid', 'stupidity', 'stupidly', 'style', 'stylesheets', 'su', 'sub', 'submit', 'submits', 'submitted', 'submitting', 'suboptimal', 'subpar', 'subscribe', 'subsequent', 'subsequently', 'substantial', 'substitute', 'subterfuge', 'success', 'successful', 'suck', 'sucked', 'sucking', 'sudden', 'suffer', 'suffered', 'suffering', 'sufficiently', 'sugafly', 'suggest', 'suggested', 'suggesting', 'suggestion', 'suggests', 'suicide', 'suiip', 'suit', 'suitcase', 'suite', 'sukhdeep', 'sum', 'summer', 'sun', 'sunburn', 'sunday', 'sundayfunday', 'sundown', 'sunny', 'sunrise', 'sunset', 'sunshine', 'suntoshi', 'super', 'superben', 'superior', 'superstar', 'supertzar', 'supervisor', 'superyan', 'supp', 'supply', 'support', 'supported', 'supporter', 'supporting', 'suppose', 'supposed', 'supposedly', 'suprise', 'suprlfoi', 'supv', 'supvrs', 'surat', 'sure', 'suree', 'surely', 'surf', 'surfboard', 'surfboardbag', 'surfer', 'surgery', 'surgeryhelp', 'surliness', 'surly', 'surname', 'surprise', 'surprised', 'surprisingly', 'surreal', 'surrounding', 'survey', 'survive', 'susan', 'suspect', 'suspended', 'suuperg', 'sux', 'svc', 'svcs', 'svl', 'svllindia', 'svu', 'sw', 'swa', 'swadiversity', 'swagglikebean', 'swair', 'swallowed', 'swapped', 'swapping', 'sway', 'swear', 'sweat', 'sweep', 'sweepstakes', 'sweet', 'sweetheart', 'sweetingr', 'sweetmel', 'swell', 'swfan', 'swimsuit', 'swindle', 'swing', 'swipe', 'swiss', 'switch', 'switched', 'switching', 'switchingboth', 'swivel', 'swooped', 'swrpmq', 'swrr', 'swu', 'swzm', 'sxm', 'sxsw', 'sxu', 'sy', 'syastem', 'syd', 'sydney', 'sydneyairport', 'sylvie', 'sympathetic', 'sympathize', 'sympathy', 'sync', 'synch', 'synergy', 'synonymous', 'syr', 'syracuse', 'sys', 'system', 'systemwide', 'sytycd', 'sywlmtzek', 'sz', 'ta', 'tab', 'tabitha', 'table', 'tablet', 'tactic', 'tad', 'tag', 'tagged', 'tagging', 'tahiti', 'tail', 'tailfin', 'tailwind', 'taiwan', 'take', 'takemeback', 'takemehome', 'taken', 'takeoff', 'taker', 'takeresponsibility', 'taking', 'takingthistothetop', 'takr', 'talent', 'talk', 'talked', 'talking', 'tall', 'tallahassee', 'taller', 'tamara', 'tampa', 'tandoori', 'tank', 'tanked', 'tanpa', 'taping', 'tar', 'tara', 'target', 'targeting', 'tarmac', 'tarmack', 'tasha', 'taste', 'tatianaking', 'tax', 'taxi', 'taxiing', 'taxing', 'taxiway', 'taylor', 'tb', 'tbls', 'tbt', 'tcf', 'tckt', 'tcqx', 'tcunningham', 'tdjp', 'tdy', 'tea', 'teach', 'team', 'teamnkh', 'teamspirit', 'tear', 'tech', 'technical', 'technically', 'technology', 'tedious', 'teen', 'teenager', 'tefhpuwmdj', 'tejrn', 'tel', 'telaviv', 'telephone', 'tell', 'telleveryone', 'telling', 'tellyourstory', 'temp', 'temper', 'temperature', 'template', 'tempting', 'ten', 'tennetexan', 'tennis', 'tense', 'term', 'terminal', 'terra', 'terri', 'terrible', 'terriblecommunication', 'terriblecustomerservice', 'terribleservice', 'terribly', 'terrific', 'terrifyingly', 'terror', 'terry', 'terrybrokebad', 'test', 'testing', 'texarkana', 'texas', 'texasisclosed', 'text', 'texted', 'texting', 'tf', 'tfanxbh', 'tfgreenairport', 'tfh', 'tfjfmsha', 'tfw', 'tgcyalate', 'tgif', 'tgsb', 'tgsljjn', 'th', 'thailand', 'thank', 'thanked', 'thankful', 'thankfully', 'thankjesus', 'thankme', 'thanks', 'thanksamericanairlines', 'thanksdave', 'thanksdc', 'thanksunited', 'thanku', 'thankyou', 'thankyouforeverything', 'thansk', 'thanx', 'thatisall', 'thats', 'thatthis', 'thaw', 'theairhelper', 'thecandacesmith', 'thee', 'theellenshow', 'thefaaonline', 'theflight', 'theft', 'thehaileytate', 'thehipmunk', 'themagicalstranger', 'thenatek', 'thenationaluae', 'thenewamerican', 'there', 'therealaviation', 'therefore', 'thereisafirstforeverything', 'therofo', 'thetakeover', 'thetroubadour', 'thevdt', 'theverge', 'thewayoftheid', 'theworst', 'theworstairline', 'theworstairlineever', 'theyareallbetter', 'theydontanswer', 'thick', 'thief', 'thier', 'thin', 'thing', 'thingafteranother', 'thingsishouldknow', 'thingsyoucantmakeup', 'think', 'thinkbus', 'thinking', 'thinner', 'third', 'thirty', 'thisiscoach', 'thislinehasntmovedforanhour', 'thismosaicnothappy', 'thks', 'thng', 'thnkx', 'thnx', 'tho', 'thomas', 'thor', 'though', 'thought', 'thousand', 'thousandth', 'thre', 'thread', 'threatened', 'threatening', 'threatens', 'three', 'threehourslate', 'threw', 'thrilled', 'thrombosis', 'throne', 'throug', 'throughout', 'throw', 'thrower', 'throwing', 'thrown', 'thru', 'tht', 'thur', 'thurs', 'thursday', 'thus', 'thx', 'ti', 'tic', 'tick', 'ticked', 'ticket', 'ticketed', 'ticketing', 'ticketsforjax', 'tickt', 'tide', 'tie', 'tied', 'tier', 'tiffanyandco', 'tight', 'tightconnection', 'tighter', 'til', 'till', 'tim', 'timbennettg', 'timbit', 'timco', 'time', 'timed', 'timeliness', 'timely', 'timesenough', 'timieyancey', 'timing', 'tinaisback', 'tinman', 'tiny', 'tip', 'tire', 'tired', 'tiredandwanttogohome', 'tiredcustomer', 'tiredofthis', 'tiredofwaiting', 'tisk', 'tissue', 'title', 'tix', 'tixs', 'tjtmo', 'tjuum', 'tjycqh', 'tk', 'tkauygcpms', 'tkci', 'tke', 'tkqhxp', 'tks', 'tkt', 'tkts', 'tkvcmhbpim', 'tkvmhbkec', 'tkx', 'tld', 'tlh', 'tlomtwu', 'tlpbaupik', 'tmadcle', 'tmccexyaaq', 'tmm', 'tmobile', 'tmr', 'tmrw', 'tmthvfdc', 'tmusjvu', 'tmw', 'tn', 'tnkixxrxhb', 'tnx', 'tny', 'tnyctrb', 'toby', 'today', 'toddler', 'together', 'toilet', 'toiletry', 'tok', 'tokyo', 'tokyomarathon', 'told', 'toledo', 'tolerable', 'toll', 'tollfree', 'tom', 'tomo', 'tomorrow', 'tomrw', 'tomvh', 'ton', 'tone', 'tonic', 'tonight', 'tonite', 'tonne', 'took', 'tool', 'toolittletoolate', 'toolong', 'tooooo', 'top', 'topnews', 'topping', 'topqmvqnjp', 'tore', 'toronto', 'torture', 'tortured', 'torus', 'tory', 'tos', 'tossed', 'total', 'totaled', 'totalfail', 'totally', 'tote', 'touch', 'touchdown', 'touched', 'touching', 'tough', 'toughtomakeplans', 'tour', 'tourist', 'toward', 'towards', 'towed', 'town', 'toyingwithouremotions', 'tpa', 'tpzhjx', 'tqc', 'tqhyn', 'tr', 'trace', 'tracing', 'track', 'tracking', 'trading', 'traditionally', 'traffic', 'train', 'trained', 'training', 'transaction', 'transactional', 'transatlantic', 'transcontinental', 'transf', 'transfer', 'transferred', 'transit', 'transition', 'translation', 'transpacific', 'transparency', 'transparent', 'transport', 'transportation', 'transported', 'trap', 'trapped', 'trappedhouston', 'trash', 'trashy', 'travel', 'traveled', 'traveler', 'travelfail', 'traveling', 'travelled', 'traveller', 'travelling', 'travelocity', 'traveloneworld', 'travelproblems', 'travisamex', 'tray', 'trbl', 'treacherous', 'treat', 'treated', 'treating', 'treatment', 'tree', 'treenut', 'tremendous', 'tremendously', 'trend', 'triage', 'trial', 'tribute', 'tricities', 'trick', 'trickling', 'tried', 'triflight', 'trip', 'triple', 'tripofalifetime', 'tripping', 'trite', 'trivia', 'trivialize', 'trk', 'tropic', 'troubadour', 'trouble', 'troubleshoot', 'troubleshot', 'troubling', 'troy', 'trqlpeinzw', 'tru', 'trublue', 'truck', 'true', 'trueblue', 'truebluecolors', 'truebluelove', 'truebluemember', 'truebluepoints', 'truly', 'trumping', 'trust', 'trusted', 'truth', 'truthful', 'truu', 'trv', 'trvfncedl', 'trvl', 'try', 'tryagain', 'tryin', 'trying', 'tryn', 'tryna', 'tryng', 'tsa', 'tsaprecheck', 'tsk', 'tsvgbrl', 'tsvibtvt', 'ttg', 'ttlwzgiyag', 'ttno', 'ttxrsynlxr', 'ttz', 'tu', 'tucking', 'tucson', 'tue', 'tues', 'tuesday', 'tuftsenergyconf', 'tug', 'tul', 'tulsa', 'tumitravel', 'tuned', 'turbulence', 'turkish', 'turn', 'turnaround', 'turned', 'turning', 'turquoise', 'tus', 'tutgli', 'tuxfqf', 'tv', 'tvb', 'tvida', 'tvk', 'tvpzg', 'tvr', 'twa', 'tweet', 'tweeted', 'tweeter', 'tweetin', 'tweeting', 'twelve', 'twenty', 'twetpxuppn', 'twice', 'twiiter', 'twin', 'twist', 'twitter', 'two', 'twtr', 'tx', 'txfd', 'txhyj', 'txt', 'ty', 'type', 'typical', 'typically', 'typing', 'typo', 'tysvm', 'tyvm', 'tyxaztmq', 'tzsr', 'tzz', 'ua', 'uaicfjrms', 'ual', 'uay', 'uayir', 'ubcoasyws', 'ubergizmo', 'ubetter', 'ubotmr', 'ucf', 'uctraveladvisor', 'ucveu', 'ucvnilmb', 'uczzp', 'udc', 'ue', 'uf', 'ufyxxkisa', 'ug', 'uggh', 'ugh', 'uh', 'ui', 'uipha', 'uj', 'ujt', 'uk', 'ukb', 'ukbc', 'ukdjjijrow', 'uld', 'ultimately', 'um', 'umhbh', 'umm', 'ummmm', 'umosaicmecrazy', 'ump', 'umpteen', 'un', 'unable', 'unacceptable', 'unaccomidating', 'unaccommodating', 'unaccompanied', 'unaccounted', 'unaccpetable', 'unamerican', 'unamericanairlines', 'unannounced', 'unanswered', 'unansweredquestions', 'unapologetic', 'unavailable', 'unavoidable', 'unaware', 'unbalanced', 'unbelieavle', 'unbelievable', 'unbelievably', 'uncalled', 'uncaring', 'uncharacteristic', 'uncle', 'uncomfortable', 'uncompromising', 'unconscionable', 'uncontrollable', 'uncontrollably', 'uncool', 'uncourteous', 'uncvsduke', 'und', 'undefined', 'undelayed', 'undergoing', 'undermines', 'underserved', 'understaffed', 'understaffing', 'understand', 'understandable', 'understandably', 'understanding', 'understands', 'understatement', 'understood', 'underweight', 'undetermined', 'undies', 'undignified', 'undone', 'uneducated', 'unempathetic', 'unemployment', 'uneventful', 'unexpactable', 'unexpected', 'unexplained', 'unfair', 'unfamiliar', 'unforeseeable', 'unfortunate', 'unfortunately', 'unfriendly', 'unfriendlyskies', 'unhappy', 'unhappycustomer', 'unhappytraveler', 'unheard', 'unhelpful', 'unhelpfulness', 'uniform', 'unimpressed', 'uninformed', 'united', 'unitedagainstunited', 'unitedairline', 'unitedairlines', 'unitedairlinessuck', 'unitedairlinessucks', 'unitedairlinessux', 'unitedappeals', 'unitedfail', 'unitedfails', 'unitedfirst', 'unitedflightsever', 'unitedlies', 'unitedsucks', 'unitedsucksdick', 'unitedwithivy', 'unitedworstever', 'universally', 'university', 'unknown', 'unless', 'unlike', 'unlikely', 'unload', 'unloaded', 'unloading', 'unloads', 'unlucky', 'unmanned', 'unmet', 'unmissable', 'unmonitored', 'unnecessarily', 'unnecessary', 'unnoticed', 'unorganized', 'unplanned', 'unpleasant', 'unpleased', 'unpredictable', 'unprepared', 'unproductive', 'unprofessional', 'unprofessionalism', 'unprofessionally', 'unraoni', 'unreachable', 'unreal', 'unreasonable', 'unrelate', 'unreliable', 'unresolved', 'unsafe', 'unsat', 'unscheduled', 'unsecured', 'unserved', 'unserviceable', 'unsettling', 'unsolicited', 'unspecified', 'unsuccessful', 'unsuitable', 'unsure', 'unsympathetic', 'unt', 'untd', 'untrained', 'untrue', 'untruthful', 'untz', 'unu', 'unusable', 'unused', 'unusual', 'unwilling', 'unwind', 'unwise', 'unxqotzik', 'uoaryq', 'uoxgnw', 'upaz', 'upc', 'upcoming', 'update', 'updated', 'updateyourwebsite', 'updating', 'upfare', 'upgd', 'upgrade', 'upgraded', 'upgrademe', 'upgrading', 'uphold', 'upholding', 'upinairclaire', 'uplink', 'upocmmulun', 'upon', 'upp', 'uppp', 'upqi', 'ups', 'upsell', 'upset', 'upsetting', 'upstate', 'upwherewebelong', 'uq', 'ur', 'urcyfcp', 'urged', 'urgency', 'urgent', 'urgently', 'urself', 'us', 'usa', 'usable', 'usair', 'usaireays', 'usairheads', 'usairsucks', 'usairways', 'usairwaysfail', 'usairwaysfailscustomers', 'usairwaysfflyer', 'usairwaysssuck', 'usairwayssuck', 'usairwayssucks', 'usairwis', 'usatoday', 'usatodaytravel', 'usaw', 'usb', 'usbj', 'usd', 'use', 'useable', 'used', 'useful', 'useles', 'useless', 'user', 'username', 'usexpress', 'using', 'usnavy', 'uso', 'usual', 'usually', 'usuck', 'usurious', 'usxlon', 'ut', 'utah', 'utdallas', 'utdfqf', 'ute', 'utfdhxa', 'utilize', 'utmost', 'utterly', 'uu', 'uv', 'uvf', 'uw', 'uwcpxtxj', 'uwon', 'uwuosc', 'ux', 'uxzj', 'uy', 'uyhr', 'va', 'vabeatsjblue', 'vaca', 'vacate', 'vacation', 'vacationing', 'vacay', 'vague', 'vail', 'valentine', 'valentinesday', 'valid', 'validity', 'vallarta', 'valley', 'valuable', 'value', 'valued', 'van', 'vancouver', 'vanished', 'vanity', 'vape', 'various', 'vary', 'vastly', 'vaylmfc', 'vbctdlf', 'vbfieo', 'vbmbs', 'vbrq', 'vbuxfpckfa', 'vc', 'vd', 'vdfdodqvgx', 'vdi', 'vdiosua', 'vdvqxbb', 'vebeen', 'vee', 'veers', 'vega', 'vegan', 'vegecomgirl', 'vegetarian', 'veggie', 'vein', 'velcro', 'velourlive', 'vendor', 'venetia', 'venezuela', 'vent', 'ventilation', 'venture', 'verbal', 'verification', 'verified', 'verifies', 'verify', 'vermont', 'version', 'versus', 'veryimportantproject', 'veryloyalcustomer', 'vet', 'veteran', 'vetr', 'vftuyjh', 'vgn', 'vgqoihtrkh', 'vhfjgneozo', 'vhgkitzsaw', 'vhp', 'vi', 'via', 'viable', 'vibrant', 'vice', 'vicky', 'victim', 'victoria', 'video', 'vieg', 'vieques', 'vieuidf', 'view', 'vigil', 'vile', 'village', 'vincenzolandino', 'vindictive', 'vineyard', 'vino', 'vinyl', 'vinylvegas', 'violation', 'vip', 'vipliveinthevieyard', 'viracopos', 'viraltech', 'virgin', 'virginamerica', 'virginatlantic', 'virginia', 'virtual', 'virus', 'visa', 'visible', 'visit', 'visiting', 'visualclubconcepts', 'vital', 'vitaminwater', 'vkj', 'vlci', 'vm', 'vmquurzupw', 'vmsg', 'vn', 'vnckgzxl', 'vnmb', 'vnnf', 'vo', 'vocab', 'vodkatonics', 'voice', 'voicemail', 'voided', 'volkswagen', 'volume', 'volunteer', 'vomit', 'vote', 'voted', 'voucher', 'voucherwhatajoke', 'vow', 'vp', 'vpdrplxj', 'vpym', 'vq', 'vqmdmzafuj', 'vr', 'vrfhjht', 'vsffrd', 'vskxyamnom', 'vt', 'vtcpa', 'vtfm', 'vtqe', 'vtvj', 'vu', 'vuelo', 'vuelos', 'vulnerable', 'vusa', 'vuxf', 'vvzksmfkvw', 'vw', 'vwq', 'vww', 'vx', 'vxn', 'vyuanh', 'vz', 'wa', 'waa', 'waaaaaaiting', 'wack', 'wage', 'wager', 'waif', 'wailing', 'wait', 'waited', 'waitin', 'waiting', 'waitingagain', 'waitinginphilly', 'waitingonapilot', 'waitingsince', 'waitlisted', 'waive', 'waived', 'waiver', 'waivethefee', 'wake', 'waking', 'walk', 'walked', 'walking', 'walkway', 'wall', 'wallet', 'wallstreet', 'walmart', 'waltdisneyworld', 'wandered', 'wanna', 'wannaa', 'wannagohome', 'want', 'wantcharge', 'wanted', 'wanting', 'waobu', 'ward', 'warehouse', 'warm', 'warmer', 'warmest', 'warmth', 'warmweather', 'warn', 'warning', 'warrant', 'warrior', 'wasappreciated', 'washington', 'washingtondc', 'wasila', 'wasnt', 'waspaid', 'waste', 'wasted', 'wastedeffort', 'wastedtime', 'wasteoftime', 'wasting', 'wat', 'watch', 'watched', 'watching', 'water', 'waterbury', 'watered', 'wating', 'wave', 'waved', 'way', 'wayne', 'wbhbljjks', 'wbzorrn', 'wc', 'wd', 'wdaktmr', 'weak', 'weakservice', 'weaktea', 'wearing', 'weary', 'weasel', 'weather', 'weathered', 'weatherless', 'web', 'weblink', 'webpage', 'website', 'wed', 'wedding', 'wednesday', 'wedontcarebecauseyoupaidalready', 'week', 'weekday', 'weekend', 'weigh', 'weighing', 'weighs', 'weight', 'weird', 'welcome', 'welcomed', 'welcoming', 'welfare', 'well', 'welldone', 'welllllll', 'wellplayed', 'welp', 'wen', 'wendell', 'wendi', 'went', 'wentook', 'werenot', 'wererunning', 'wernicke', 'wervirgin', 'west', 'westagard', 'westchester', 'westjet', 'westpalmbeach', 'wet', 'wether', 'weve', 'wewantcomps', 'weyburn', 'wezumdimyf', 'wfbtue', 'wguk', 'wgyztnjcxm', 'whacked', 'whammie', 'whatacluster', 'whatajoke', 'whatcustomerservice', 'whatever', 'whatgives', 'whats', 'whatsoever', 'whatstatus', 'whch', 'wheel', 'wheelchair', 'wheelsup', 'wheeze', 'whenever', 'whenitsnowsitpours', 'whereabouts', 'whereby', 'whereismybag', 'wheresmyrefund', 'wheresthecustomerserviceat', 'wheresthepilot', 'whether', 'whichisworsedenordfw', 'whining', 'whiny', 'whiplash', 'whipped', 'whiskey', 'whisper', 'whispering', 'white', 'whitterbug', 'whoa', 'whoever', 'whole', 'wholly', 'whoooo', 'whoot', 'whose', 'whrsthecoach', 'wht', 'whufmi', 'whyairtravelsucks', 'whyareyouyelling', 'whydidntiflysouthwest', 'whyisusairalwaysdelayed', 'whyjeff', 'whyyounoloveme', 'whyyy', 'wi', 'wiar', 'wichita', 'wide', 'wife', 'wifi', 'wifiless', 'wig', 'wiggle', 'wikipearl', 'will', 'williams', 'willing', 'willl', 'willneverflywithyou', 'wilmington', 'win', 'wind', 'windchill', 'window', 'windy', 'wine', 'winfu', 'wing', 'winner', 'winning', 'winnipeg', 'winston', 'winter', 'winterstorm', 'winterweather', 'wipe', 'wiped', 'wired', 'wireless', 'wise', 'wiser', 'wish', 'wishing', 'wishmyflightwaslonger', 'withheld', 'within', 'without', 'witness', 'witnessed', 'wiyh', 'wjgtxzt', 'wjoc', 'wjyas', 'wk', 'wknd', 'wks', 'wlainimy', 'wld', 'wmass', 'wmcactionnews', 'wmn', 'wmo', 'wmx', 'wn', 'wnbglxq', 'wnd', 'wnqvm', 'wny', 'woaw', 'woeful', 'woke', 'woman', 'wonder', 'wonderful', 'wonderfully', 'wondering', 'wong', 'wont', 'wontflyagainwithyou', 'woo', 'woodland', 'woody', 'woof', 'word', 'worded', 'wore', 'work', 'workaround', 'worked', 'worker', 'workforce', 'workin', 'working', 'workng', 'worksnicely', 'world', 'worried', 'worrisome', 'worry', 'worrying', 'worse', 'worst', 'worstairline', 'worstairlineever', 'worstairlineinamerica', 'worstcustomerservice', 'worstcustomerserviceever', 'worstcustservice', 'worstever', 'worstflight', 'worstflightever', 'worstflightexperienceever', 'worstservice', 'worstthingever', 'worsttraveldayever', 'worsttripofmylife', 'worth', 'worthless', 'worthy', 'would', 'woulda', 'wouldnt', 'wouldt', 'wounded', 'woven', 'wow', 'wowxhpu', 'wpa', 'wpg', 'wqrklw', 'wrap', 'wrath', 'wreck', 'wrecked', 'wrecking', 'wrench', 'wretched', 'write', 'writes', 'writing', 'written', 'wrong', 'wronganswer', 'wrongfully', 'wrongiswrong', 'wrote', 'wrwqrublps', 'wsgyckciio', 'wsj', 'wsjplus', 'wt', 'wtf', 'wtfodds', 'wth', 'wtop', 'wtvd', 'wtw', 'wudda', 'wut', 'wvgpp', 'wvq', 'wvr', 'wwr', 'wx', 'wxowzhpgfl', 'wylie', 'wyoming', 'wzd', 'wznp', 'wztq', 'xaizw', 'xaspqdsqhe', 'xatoxbnsfa', 'xb', 'xbkvcraokn', 'xc', 'xcvqxykg', 'xd', 'xdaily', 'xdaj', 'xdjzkc', 'xdlbibclp', 'xedeckgmw', 'xedzvhh', 'xelbon', 'xf', 'xfhq', 'xfwxsrwkha', 'xgfs', 'xggcntco', 'xgnyhgafz', 'xhcacjax', 'xhirugzv', 'xhlc', 'xhsuupheze', 'xijifymvqp', 'xijyrpslzk', 'xisbs', 'xjared', 'xjxqrx', 'xl', 'xld', 'xltv', 'xmas', 'xmrvr', 'xmz', 'xna', 'xp', 'xpm', 'xqaqb', 'xqsrp', 'xr', 'xrdtov', 'xswjkiy', 'xt', 'xtra', 'xu', 'xvm', 'xvnnmltiw', 'xw', 'xweekly', 'xx', 'xxppzo', 'xz', 'xzmscw', 'xzrk', 'xzy', 'ya', 'yaffasolin', 'yall', 'yard', 'yay', 'yayayay', 'yb', 'ycflalxv', 'yday', 'ydkor', 'yea', 'yeah', 'year', 'yearly', 'yearslate', 'yeehaw', 'yeg', 'yell', 'yelled', 'yelling', 'yellow', 'yep', 'yer', 'yes', 'yeseniahernandez', 'yest', 'yesterday', 'yet', 'yh', 'yi', 'yikes', 'yiwlhqhzgp', 'ymftw', 'ymmh', 'ymz', 'ync', 'ynmbdu', 'yo', 'yogtej', 'yogurt', 'york', 'yorkshire', 'youareonyourown', 'youcandobetter', 'youcouldntmakethis', 'youd', 'youdidit', 'youknowyouwantto', 'young', 'younger', 'youragentshavenoclue', 'yourairlinesucks', 'youre', 'youredoingitwrong', 'youretheworst', 'yourock', 'yourphonesystemsucks', 'yourstoryhere', 'yousuck', 'youve', 'ypbkcirbxu', 'yphk', 'ypo', 'yponthebeat', 'ypu', 'ypzh', 'yqhk', 'yr', 'yrvka', 'yrxa', 'ysqbvq', 'ystday', 'ystrdy', 'ytd', 'yuck', 'yucki', 'yul', 'yuma', 'yummy', 'yuo', 'yup', 'yv', 'yvonne', 'yvr', 'yw', 'ywg', 'ywxrfn', 'yxe', 'yxn', 'yyc', 'yyj', 'yywafkfi', 'yyz', 'yyzua', 'za', 'zacks', 'zakkohane', 'zaoay', 'zaq', 'zat', 'zbzvhg', 'zc', 'zcbjyo', 'zcc', 'zd', 'ze', 'zero', 'zf', 'zfqmpgxvs', 'zfroinpszi', 'zfv', 'zgoqoxjbqy', 'zgw', 'zhmfdiw', 'zi', 'zik', 'zip', 'zipper', 'zira', 'zj', 'zkatcher', 'zkoe', 'zlsquu', 'zlzmk', 'zombie', 'zone', 'zoom', 'zouowgv', 'zpjr', 'zpu', 'zpz', 'zr', 'zrh', 'zsdgzydnde', 'zsuztnaijq', 'zt', 'ztua', 'zukes', 'zurich', 'zut', 'zv', 'zvugmkjw', 'zwzc', 'zxzn', 'zy', 'zygjs', 'zz', 'zza', 'zzkqwwbjz']\n",
            "(18110, 10188)\n"
          ],
          "name": "stdout"
        },
        {
          "output_type": "execute_result",
          "data": {
            "text/html": [
              "<div>\n",
              "<style scoped>\n",
              "    .dataframe tbody tr th:only-of-type {\n",
              "        vertical-align: middle;\n",
              "    }\n",
              "\n",
              "    .dataframe tbody tr th {\n",
              "        vertical-align: top;\n",
              "    }\n",
              "\n",
              "    .dataframe thead th {\n",
              "        text-align: right;\n",
              "    }\n",
              "</style>\n",
              "<table border=\"1\" class=\"dataframe\">\n",
              "  <thead>\n",
              "    <tr style=\"text-align: right;\">\n",
              "      <th></th>\n",
              "      <th>aa</th>\n",
              "      <th>aaaand</th>\n",
              "      <th>aaadvantage</th>\n",
              "      <th>aacustomerservice</th>\n",
              "      <th>aadavantage</th>\n",
              "      <th>aadelay</th>\n",
              "      <th>aadv</th>\n",
              "      <th>aadvantage</th>\n",
              "      <th>aafail</th>\n",
              "      <th>aakjumxa</th>\n",
              "      <th>aal</th>\n",
              "      <th>aaron</th>\n",
              "      <th>aarp</th>\n",
              "      <th>aateam</th>\n",
              "      <th>aau</th>\n",
              "      <th>aavvoreph</th>\n",
              "      <th>aback</th>\n",
              "      <th>abandon</th>\n",
              "      <th>abandoned</th>\n",
              "      <th>abandonment</th>\n",
              "      <th>abassinet</th>\n",
              "      <th>abc</th>\n",
              "      <th>abcnetwork</th>\n",
              "      <th>abcnews</th>\n",
              "      <th>abducted</th>\n",
              "      <th>ability</th>\n",
              "      <th>able</th>\n",
              "      <th>aboard</th>\n",
              "      <th>aboout</th>\n",
              "      <th>abounds</th>\n",
              "      <th>abq</th>\n",
              "      <th>abroad</th>\n",
              "      <th>absolute</th>\n",
              "      <th>absolutely</th>\n",
              "      <th>absorber</th>\n",
              "      <th>absurd</th>\n",
              "      <th>absurdity</th>\n",
              "      <th>absurdly</th>\n",
              "      <th>abt</th>\n",
              "      <th>abtwf</th>\n",
              "      <th>...</th>\n",
              "      <th>zfroinpszi</th>\n",
              "      <th>zfv</th>\n",
              "      <th>zgoqoxjbqy</th>\n",
              "      <th>zgw</th>\n",
              "      <th>zhmfdiw</th>\n",
              "      <th>zi</th>\n",
              "      <th>zik</th>\n",
              "      <th>zip</th>\n",
              "      <th>zipper</th>\n",
              "      <th>zira</th>\n",
              "      <th>zj</th>\n",
              "      <th>zkatcher</th>\n",
              "      <th>zkoe</th>\n",
              "      <th>zlsquu</th>\n",
              "      <th>zlzmk</th>\n",
              "      <th>zombie</th>\n",
              "      <th>zone</th>\n",
              "      <th>zoom</th>\n",
              "      <th>zouowgv</th>\n",
              "      <th>zpjr</th>\n",
              "      <th>zpu</th>\n",
              "      <th>zpz</th>\n",
              "      <th>zr</th>\n",
              "      <th>zrh</th>\n",
              "      <th>zsdgzydnde</th>\n",
              "      <th>zsuztnaijq</th>\n",
              "      <th>zt</th>\n",
              "      <th>ztua</th>\n",
              "      <th>zukes</th>\n",
              "      <th>zurich</th>\n",
              "      <th>zut</th>\n",
              "      <th>zv</th>\n",
              "      <th>zvugmkjw</th>\n",
              "      <th>zwzc</th>\n",
              "      <th>zxzn</th>\n",
              "      <th>zy</th>\n",
              "      <th>zygjs</th>\n",
              "      <th>zz</th>\n",
              "      <th>zza</th>\n",
              "      <th>zzkqwwbjz</th>\n",
              "    </tr>\n",
              "  </thead>\n",
              "  <tbody>\n",
              "    <tr>\n",
              "      <th>0</th>\n",
              "      <td>0.0</td>\n",
              "      <td>0.0</td>\n",
              "      <td>0.0</td>\n",
              "      <td>0.0</td>\n",
              "      <td>0.0</td>\n",
              "      <td>0.0</td>\n",
              "      <td>0.0</td>\n",
              "      <td>0.0</td>\n",
              "      <td>0.0</td>\n",
              "      <td>0.0</td>\n",
              "      <td>0.0</td>\n",
              "      <td>0.0</td>\n",
              "      <td>0.0</td>\n",
              "      <td>0.0</td>\n",
              "      <td>0.0</td>\n",
              "      <td>0.0</td>\n",
              "      <td>0.0</td>\n",
              "      <td>0.0</td>\n",
              "      <td>0.0</td>\n",
              "      <td>0.0</td>\n",
              "      <td>0.0</td>\n",
              "      <td>0.0</td>\n",
              "      <td>0.0</td>\n",
              "      <td>0.0</td>\n",
              "      <td>0.0</td>\n",
              "      <td>0.0</td>\n",
              "      <td>0.0</td>\n",
              "      <td>0.0</td>\n",
              "      <td>0.0</td>\n",
              "      <td>0.0</td>\n",
              "      <td>0.0</td>\n",
              "      <td>0.0</td>\n",
              "      <td>0.0</td>\n",
              "      <td>0.0</td>\n",
              "      <td>0.0</td>\n",
              "      <td>0.0</td>\n",
              "      <td>0.0</td>\n",
              "      <td>0.0</td>\n",
              "      <td>0.0</td>\n",
              "      <td>0.0</td>\n",
              "      <td>...</td>\n",
              "      <td>0.0</td>\n",
              "      <td>0.0</td>\n",
              "      <td>0.0</td>\n",
              "      <td>0.0</td>\n",
              "      <td>0.0</td>\n",
              "      <td>0.0</td>\n",
              "      <td>0.0</td>\n",
              "      <td>0.0</td>\n",
              "      <td>0.0</td>\n",
              "      <td>0.0</td>\n",
              "      <td>0.0</td>\n",
              "      <td>0.0</td>\n",
              "      <td>0.0</td>\n",
              "      <td>0.0</td>\n",
              "      <td>0.0</td>\n",
              "      <td>0.0</td>\n",
              "      <td>0.0</td>\n",
              "      <td>0.0</td>\n",
              "      <td>0.0</td>\n",
              "      <td>0.0</td>\n",
              "      <td>0.0</td>\n",
              "      <td>0.0</td>\n",
              "      <td>0.0</td>\n",
              "      <td>0.0</td>\n",
              "      <td>0.0</td>\n",
              "      <td>0.0</td>\n",
              "      <td>0.0</td>\n",
              "      <td>0.0</td>\n",
              "      <td>0.0</td>\n",
              "      <td>0.0</td>\n",
              "      <td>0.0</td>\n",
              "      <td>0.0</td>\n",
              "      <td>0.0</td>\n",
              "      <td>0.0</td>\n",
              "      <td>0.0</td>\n",
              "      <td>0.0</td>\n",
              "      <td>0.0</td>\n",
              "      <td>0.0</td>\n",
              "      <td>0.0</td>\n",
              "      <td>0.0</td>\n",
              "    </tr>\n",
              "    <tr>\n",
              "      <th>1</th>\n",
              "      <td>0.0</td>\n",
              "      <td>0.0</td>\n",
              "      <td>0.0</td>\n",
              "      <td>0.0</td>\n",
              "      <td>0.0</td>\n",
              "      <td>0.0</td>\n",
              "      <td>0.0</td>\n",
              "      <td>0.0</td>\n",
              "      <td>0.0</td>\n",
              "      <td>0.0</td>\n",
              "      <td>0.0</td>\n",
              "      <td>0.0</td>\n",
              "      <td>0.0</td>\n",
              "      <td>0.0</td>\n",
              "      <td>0.0</td>\n",
              "      <td>0.0</td>\n",
              "      <td>0.0</td>\n",
              "      <td>0.0</td>\n",
              "      <td>0.0</td>\n",
              "      <td>0.0</td>\n",
              "      <td>0.0</td>\n",
              "      <td>0.0</td>\n",
              "      <td>0.0</td>\n",
              "      <td>0.0</td>\n",
              "      <td>0.0</td>\n",
              "      <td>0.0</td>\n",
              "      <td>0.0</td>\n",
              "      <td>0.0</td>\n",
              "      <td>0.0</td>\n",
              "      <td>0.0</td>\n",
              "      <td>0.0</td>\n",
              "      <td>0.0</td>\n",
              "      <td>0.0</td>\n",
              "      <td>0.0</td>\n",
              "      <td>0.0</td>\n",
              "      <td>0.0</td>\n",
              "      <td>0.0</td>\n",
              "      <td>0.0</td>\n",
              "      <td>0.0</td>\n",
              "      <td>0.0</td>\n",
              "      <td>...</td>\n",
              "      <td>0.0</td>\n",
              "      <td>0.0</td>\n",
              "      <td>0.0</td>\n",
              "      <td>0.0</td>\n",
              "      <td>0.0</td>\n",
              "      <td>0.0</td>\n",
              "      <td>0.0</td>\n",
              "      <td>0.0</td>\n",
              "      <td>0.0</td>\n",
              "      <td>0.0</td>\n",
              "      <td>0.0</td>\n",
              "      <td>0.0</td>\n",
              "      <td>0.0</td>\n",
              "      <td>0.0</td>\n",
              "      <td>0.0</td>\n",
              "      <td>0.0</td>\n",
              "      <td>0.0</td>\n",
              "      <td>0.0</td>\n",
              "      <td>0.0</td>\n",
              "      <td>0.0</td>\n",
              "      <td>0.0</td>\n",
              "      <td>0.0</td>\n",
              "      <td>0.0</td>\n",
              "      <td>0.0</td>\n",
              "      <td>0.0</td>\n",
              "      <td>0.0</td>\n",
              "      <td>0.0</td>\n",
              "      <td>0.0</td>\n",
              "      <td>0.0</td>\n",
              "      <td>0.0</td>\n",
              "      <td>0.0</td>\n",
              "      <td>0.0</td>\n",
              "      <td>0.0</td>\n",
              "      <td>0.0</td>\n",
              "      <td>0.0</td>\n",
              "      <td>0.0</td>\n",
              "      <td>0.0</td>\n",
              "      <td>0.0</td>\n",
              "      <td>0.0</td>\n",
              "      <td>0.0</td>\n",
              "    </tr>\n",
              "    <tr>\n",
              "      <th>2</th>\n",
              "      <td>0.0</td>\n",
              "      <td>0.0</td>\n",
              "      <td>0.0</td>\n",
              "      <td>0.0</td>\n",
              "      <td>0.0</td>\n",
              "      <td>0.0</td>\n",
              "      <td>0.0</td>\n",
              "      <td>0.0</td>\n",
              "      <td>0.0</td>\n",
              "      <td>0.0</td>\n",
              "      <td>0.0</td>\n",
              "      <td>0.0</td>\n",
              "      <td>0.0</td>\n",
              "      <td>0.0</td>\n",
              "      <td>0.0</td>\n",
              "      <td>0.0</td>\n",
              "      <td>0.0</td>\n",
              "      <td>0.0</td>\n",
              "      <td>0.0</td>\n",
              "      <td>0.0</td>\n",
              "      <td>0.0</td>\n",
              "      <td>0.0</td>\n",
              "      <td>0.0</td>\n",
              "      <td>0.0</td>\n",
              "      <td>0.0</td>\n",
              "      <td>0.0</td>\n",
              "      <td>0.0</td>\n",
              "      <td>0.0</td>\n",
              "      <td>0.0</td>\n",
              "      <td>0.0</td>\n",
              "      <td>0.0</td>\n",
              "      <td>0.0</td>\n",
              "      <td>0.0</td>\n",
              "      <td>0.0</td>\n",
              "      <td>0.0</td>\n",
              "      <td>0.0</td>\n",
              "      <td>0.0</td>\n",
              "      <td>0.0</td>\n",
              "      <td>0.0</td>\n",
              "      <td>0.0</td>\n",
              "      <td>...</td>\n",
              "      <td>0.0</td>\n",
              "      <td>0.0</td>\n",
              "      <td>0.0</td>\n",
              "      <td>0.0</td>\n",
              "      <td>0.0</td>\n",
              "      <td>0.0</td>\n",
              "      <td>0.0</td>\n",
              "      <td>0.0</td>\n",
              "      <td>0.0</td>\n",
              "      <td>0.0</td>\n",
              "      <td>0.0</td>\n",
              "      <td>0.0</td>\n",
              "      <td>0.0</td>\n",
              "      <td>0.0</td>\n",
              "      <td>0.0</td>\n",
              "      <td>0.0</td>\n",
              "      <td>0.0</td>\n",
              "      <td>0.0</td>\n",
              "      <td>0.0</td>\n",
              "      <td>0.0</td>\n",
              "      <td>0.0</td>\n",
              "      <td>0.0</td>\n",
              "      <td>0.0</td>\n",
              "      <td>0.0</td>\n",
              "      <td>0.0</td>\n",
              "      <td>0.0</td>\n",
              "      <td>0.0</td>\n",
              "      <td>0.0</td>\n",
              "      <td>0.0</td>\n",
              "      <td>0.0</td>\n",
              "      <td>0.0</td>\n",
              "      <td>0.0</td>\n",
              "      <td>0.0</td>\n",
              "      <td>0.0</td>\n",
              "      <td>0.0</td>\n",
              "      <td>0.0</td>\n",
              "      <td>0.0</td>\n",
              "      <td>0.0</td>\n",
              "      <td>0.0</td>\n",
              "      <td>0.0</td>\n",
              "    </tr>\n",
              "    <tr>\n",
              "      <th>3</th>\n",
              "      <td>0.0</td>\n",
              "      <td>0.0</td>\n",
              "      <td>0.0</td>\n",
              "      <td>0.0</td>\n",
              "      <td>0.0</td>\n",
              "      <td>0.0</td>\n",
              "      <td>0.0</td>\n",
              "      <td>0.0</td>\n",
              "      <td>0.0</td>\n",
              "      <td>0.0</td>\n",
              "      <td>0.0</td>\n",
              "      <td>0.0</td>\n",
              "      <td>0.0</td>\n",
              "      <td>0.0</td>\n",
              "      <td>0.0</td>\n",
              "      <td>0.0</td>\n",
              "      <td>0.0</td>\n",
              "      <td>0.0</td>\n",
              "      <td>0.0</td>\n",
              "      <td>0.0</td>\n",
              "      <td>0.0</td>\n",
              "      <td>0.0</td>\n",
              "      <td>0.0</td>\n",
              "      <td>0.0</td>\n",
              "      <td>0.0</td>\n",
              "      <td>0.0</td>\n",
              "      <td>0.0</td>\n",
              "      <td>0.0</td>\n",
              "      <td>0.0</td>\n",
              "      <td>0.0</td>\n",
              "      <td>0.0</td>\n",
              "      <td>0.0</td>\n",
              "      <td>0.0</td>\n",
              "      <td>0.0</td>\n",
              "      <td>0.0</td>\n",
              "      <td>0.0</td>\n",
              "      <td>0.0</td>\n",
              "      <td>0.0</td>\n",
              "      <td>0.0</td>\n",
              "      <td>0.0</td>\n",
              "      <td>...</td>\n",
              "      <td>0.0</td>\n",
              "      <td>0.0</td>\n",
              "      <td>0.0</td>\n",
              "      <td>0.0</td>\n",
              "      <td>0.0</td>\n",
              "      <td>0.0</td>\n",
              "      <td>0.0</td>\n",
              "      <td>0.0</td>\n",
              "      <td>0.0</td>\n",
              "      <td>0.0</td>\n",
              "      <td>0.0</td>\n",
              "      <td>0.0</td>\n",
              "      <td>0.0</td>\n",
              "      <td>0.0</td>\n",
              "      <td>0.0</td>\n",
              "      <td>0.0</td>\n",
              "      <td>0.0</td>\n",
              "      <td>0.0</td>\n",
              "      <td>0.0</td>\n",
              "      <td>0.0</td>\n",
              "      <td>0.0</td>\n",
              "      <td>0.0</td>\n",
              "      <td>0.0</td>\n",
              "      <td>0.0</td>\n",
              "      <td>0.0</td>\n",
              "      <td>0.0</td>\n",
              "      <td>0.0</td>\n",
              "      <td>0.0</td>\n",
              "      <td>0.0</td>\n",
              "      <td>0.0</td>\n",
              "      <td>0.0</td>\n",
              "      <td>0.0</td>\n",
              "      <td>0.0</td>\n",
              "      <td>0.0</td>\n",
              "      <td>0.0</td>\n",
              "      <td>0.0</td>\n",
              "      <td>0.0</td>\n",
              "      <td>0.0</td>\n",
              "      <td>0.0</td>\n",
              "      <td>0.0</td>\n",
              "    </tr>\n",
              "    <tr>\n",
              "      <th>4</th>\n",
              "      <td>0.0</td>\n",
              "      <td>0.0</td>\n",
              "      <td>0.0</td>\n",
              "      <td>0.0</td>\n",
              "      <td>0.0</td>\n",
              "      <td>0.0</td>\n",
              "      <td>0.0</td>\n",
              "      <td>0.0</td>\n",
              "      <td>0.0</td>\n",
              "      <td>0.0</td>\n",
              "      <td>0.0</td>\n",
              "      <td>0.0</td>\n",
              "      <td>0.0</td>\n",
              "      <td>0.0</td>\n",
              "      <td>0.0</td>\n",
              "      <td>0.0</td>\n",
              "      <td>0.0</td>\n",
              "      <td>0.0</td>\n",
              "      <td>0.0</td>\n",
              "      <td>0.0</td>\n",
              "      <td>0.0</td>\n",
              "      <td>0.0</td>\n",
              "      <td>0.0</td>\n",
              "      <td>0.0</td>\n",
              "      <td>0.0</td>\n",
              "      <td>0.0</td>\n",
              "      <td>0.0</td>\n",
              "      <td>0.0</td>\n",
              "      <td>0.0</td>\n",
              "      <td>0.0</td>\n",
              "      <td>0.0</td>\n",
              "      <td>0.0</td>\n",
              "      <td>0.0</td>\n",
              "      <td>0.0</td>\n",
              "      <td>0.0</td>\n",
              "      <td>0.0</td>\n",
              "      <td>0.0</td>\n",
              "      <td>0.0</td>\n",
              "      <td>0.0</td>\n",
              "      <td>0.0</td>\n",
              "      <td>...</td>\n",
              "      <td>0.0</td>\n",
              "      <td>0.0</td>\n",
              "      <td>0.0</td>\n",
              "      <td>0.0</td>\n",
              "      <td>0.0</td>\n",
              "      <td>0.0</td>\n",
              "      <td>0.0</td>\n",
              "      <td>0.0</td>\n",
              "      <td>0.0</td>\n",
              "      <td>0.0</td>\n",
              "      <td>0.0</td>\n",
              "      <td>0.0</td>\n",
              "      <td>0.0</td>\n",
              "      <td>0.0</td>\n",
              "      <td>0.0</td>\n",
              "      <td>0.0</td>\n",
              "      <td>0.0</td>\n",
              "      <td>0.0</td>\n",
              "      <td>0.0</td>\n",
              "      <td>0.0</td>\n",
              "      <td>0.0</td>\n",
              "      <td>0.0</td>\n",
              "      <td>0.0</td>\n",
              "      <td>0.0</td>\n",
              "      <td>0.0</td>\n",
              "      <td>0.0</td>\n",
              "      <td>0.0</td>\n",
              "      <td>0.0</td>\n",
              "      <td>0.0</td>\n",
              "      <td>0.0</td>\n",
              "      <td>0.0</td>\n",
              "      <td>0.0</td>\n",
              "      <td>0.0</td>\n",
              "      <td>0.0</td>\n",
              "      <td>0.0</td>\n",
              "      <td>0.0</td>\n",
              "      <td>0.0</td>\n",
              "      <td>0.0</td>\n",
              "      <td>0.0</td>\n",
              "      <td>0.0</td>\n",
              "    </tr>\n",
              "  </tbody>\n",
              "</table>\n",
              "<p>5 rows × 10188 columns</p>\n",
              "</div>"
            ],
            "text/plain": [
              "    aa  aaaand  aaadvantage  aacustomerservice  ...  zygjs   zz  zza  zzkqwwbjz\n",
              "0  0.0     0.0          0.0                0.0  ...    0.0  0.0  0.0        0.0\n",
              "1  0.0     0.0          0.0                0.0  ...    0.0  0.0  0.0        0.0\n",
              "2  0.0     0.0          0.0                0.0  ...    0.0  0.0  0.0        0.0\n",
              "3  0.0     0.0          0.0                0.0  ...    0.0  0.0  0.0        0.0\n",
              "4  0.0     0.0          0.0                0.0  ...    0.0  0.0  0.0        0.0\n",
              "\n",
              "[5 rows x 10188 columns]"
            ]
          },
          "metadata": {
            "tags": []
          },
          "execution_count": 60
        }
      ]
    },
    {
      "cell_type": "markdown",
      "metadata": {
        "id": "OzxHtPlefUyp"
      },
      "source": [
        "<p>Train Test Split"
      ]
    },
    {
      "cell_type": "code",
      "metadata": {
        "id": "qbCG6IWLZq1t"
      },
      "source": [
        "from sklearn.model_selection import train_test_split\n",
        "x_train,x_test,y_train,y_test = train_test_split(df1,df.sentiment,test_size = 0.20 , random_state = 0)"
      ],
      "execution_count": 61,
      "outputs": []
    },
    {
      "cell_type": "code",
      "metadata": {
        "colab": {
          "base_uri": "https://localhost:8080/"
        },
        "id": "twT452pZZ8ag",
        "outputId": "f45ac408-02c0-42e5-e849-84301be9c396"
      },
      "source": [
        "from sklearn.svm import LinearSVC\n",
        "from sklearn.metrics import accuracy_score\n",
        "from sklearn.metrics import confusion_matrix\n",
        "from sklearn.metrics import classification_report\n",
        "from sklearn.linear_model import LogisticRegression\n",
        "from sklearn.tree import DecisionTreeClassifier\n",
        "from sklearn.neighbors import KNeighborsClassifier\n",
        "from sklearn.naive_bayes import MultinomialNB\n",
        "models={LinearSVC(),LogisticRegression(),MultinomialNB()}\n",
        "for model in models:\n",
        "  model.fit(x_train,y_train)\n",
        "  y_pred=model.predict(x_test)\n",
        "  print(\"{} : accuracy score: {}%\".format(model,round(accuracy_score(y_test,y_pred)*100,2)))\n",
        "  print(\"\\n\\n\",confusion_matrix(y_test,y_pred))\n",
        "  print(classification_report(y_test, y_pred))"
      ],
      "execution_count": 62,
      "outputs": [
        {
          "output_type": "stream",
          "text": [
            "/usr/local/lib/python3.7/dist-packages/sklearn/linear_model/_logistic.py:940: ConvergenceWarning: lbfgs failed to converge (status=1):\n",
            "STOP: TOTAL NO. of ITERATIONS REACHED LIMIT.\n",
            "\n",
            "Increase the number of iterations (max_iter) or scale the data as shown in:\n",
            "    https://scikit-learn.org/stable/modules/preprocessing.html\n",
            "Please also refer to the documentation for alternative solver options:\n",
            "    https://scikit-learn.org/stable/modules/linear_model.html#logistic-regression\n",
            "  extra_warning_msg=_LOGISTIC_SOLVER_CONVERGENCE_MSG)\n"
          ],
          "name": "stderr"
        },
        {
          "output_type": "stream",
          "text": [
            "LogisticRegression(C=1.0, class_weight=None, dual=False, fit_intercept=True,\n",
            "                   intercept_scaling=1, l1_ratio=None, max_iter=100,\n",
            "                   multi_class='auto', n_jobs=None, penalty='l2',\n",
            "                   random_state=None, solver='lbfgs', tol=0.0001, verbose=0,\n",
            "                   warm_start=False) : accuracy score: 90.17%\n",
            "\n",
            "\n",
            " [[1326  105   51]\n",
            " [ 112  826   35]\n",
            " [  26   27 1114]]\n",
            "              precision    recall  f1-score   support\n",
            "\n",
            "           0       0.91      0.89      0.90      1482\n",
            "           1       0.86      0.85      0.86       973\n",
            "           2       0.93      0.95      0.94      1167\n",
            "\n",
            "    accuracy                           0.90      3622\n",
            "   macro avg       0.90      0.90      0.90      3622\n",
            "weighted avg       0.90      0.90      0.90      3622\n",
            "\n",
            "MultinomialNB(alpha=1.0, class_prior=None, fit_prior=True) : accuracy score: 84.59%\n",
            "\n",
            "\n",
            " [[1383   33   66]\n",
            " [ 290  584   99]\n",
            " [  60   10 1097]]\n",
            "              precision    recall  f1-score   support\n",
            "\n",
            "           0       0.80      0.93      0.86      1482\n",
            "           1       0.93      0.60      0.73       973\n",
            "           2       0.87      0.94      0.90      1167\n",
            "\n",
            "    accuracy                           0.85      3622\n",
            "   macro avg       0.87      0.82      0.83      3622\n",
            "weighted avg       0.86      0.85      0.84      3622\n",
            "\n",
            "LinearSVC(C=1.0, class_weight=None, dual=True, fit_intercept=True,\n",
            "          intercept_scaling=1, loss='squared_hinge', max_iter=1000,\n",
            "          multi_class='ovr', penalty='l2', random_state=None, tol=0.0001,\n",
            "          verbose=0) : accuracy score: 93.29%\n",
            "\n",
            "\n",
            " [[1325  100   57]\n",
            " [  50  902   21]\n",
            " [   3   12 1152]]\n",
            "              precision    recall  f1-score   support\n",
            "\n",
            "           0       0.96      0.89      0.93      1482\n",
            "           1       0.89      0.93      0.91       973\n",
            "           2       0.94      0.99      0.96      1167\n",
            "\n",
            "    accuracy                           0.93      3622\n",
            "   macro avg       0.93      0.94      0.93      3622\n",
            "weighted avg       0.93      0.93      0.93      3622\n",
            "\n"
          ],
          "name": "stdout"
        }
      ]
    }
  ]
}